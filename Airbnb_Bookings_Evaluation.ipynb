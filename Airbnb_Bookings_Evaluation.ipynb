{
 "cells": [
  {
   "cell_type": "markdown",
   "metadata": {},
   "source": [
    "# Airbnb Model Evaluation"
   ]
  },
  {
   "cell_type": "code",
   "execution_count": 1,
   "metadata": {},
   "outputs": [],
   "source": [
    "#importing packages\n",
    "from pyspark.ml.classification import LogisticRegression, RandomForestClassifier, NaiveBayes, GBTClassifier\n",
    "from pyspark.ml.evaluation import BinaryClassificationEvaluator, MulticlassClassificationEvaluator\n",
    "from pyspark.ml.tuning import CrossValidator\n",
    "from pyspark.ml import Pipeline, PipelineModel\n",
    "from pyspark.sql import SparkSession\n",
    "import pandas as pd"
   ]
  },
  {
   "cell_type": "markdown",
   "metadata": {},
   "source": [
    "### Loading Data"
   ]
  },
  {
   "cell_type": "code",
   "execution_count": 2,
   "metadata": {},
   "outputs": [],
   "source": [
    "# Start spark session\n",
    "spark = SparkSession.builder.getOrCreate()"
   ]
  },
  {
   "cell_type": "code",
   "execution_count": 3,
   "metadata": {},
   "outputs": [],
   "source": [
    "# Read data in json format\n",
    "train = spark.read.option(\"header\",True).parquet(\"./data_preprocessed/train_data.parquet\")\n",
    "test = spark.read.option(\"header\",True).parquet(\"./data_preprocessed/test_data.parquet\")"
   ]
  },
  {
   "cell_type": "markdown",
   "metadata": {},
   "source": [
    "### Loading Models"
   ]
  },
  {
   "cell_type": "code",
   "execution_count": 4,
   "metadata": {},
   "outputs": [],
   "source": [
    "model_ridge = PipelineModel.load('./models/ridge.model')\n",
    "model_lasso = PipelineModel.load('./models/lasso.model')\n",
    "model_bayes = PipelineModel.load('./models/naive_bayes.model')\n",
    "model_rf = PipelineModel.load('./models/random_forest.model')\n",
    "model_gbt = PipelineModel.load('./models/gbt.model')"
   ]
  },
  {
   "cell_type": "markdown",
   "metadata": {},
   "source": [
    "### AUC Table"
   ]
  },
  {
   "cell_type": "code",
   "execution_count": 5,
   "metadata": {},
   "outputs": [
    {
     "data": {
      "text/html": [
       "<div>\n",
       "<style scoped>\n",
       "    .dataframe tbody tr th:only-of-type {\n",
       "        vertical-align: middle;\n",
       "    }\n",
       "\n",
       "    .dataframe tbody tr th {\n",
       "        vertical-align: top;\n",
       "    }\n",
       "\n",
       "    .dataframe thead th {\n",
       "        text-align: right;\n",
       "    }\n",
       "</style>\n",
       "<table border=\"1\" class=\"dataframe\">\n",
       "  <thead>\n",
       "    <tr style=\"text-align: right;\">\n",
       "      <th></th>\n",
       "      <th>Model_Name</th>\n",
       "      <th>Training Accuracy</th>\n",
       "      <th>Test Accuracy</th>\n",
       "      <th>Training AUC</th>\n",
       "      <th>Test AUC</th>\n",
       "      <th>Training F1</th>\n",
       "      <th>Test F1</th>\n",
       "    </tr>\n",
       "  </thead>\n",
       "  <tbody>\n",
       "    <tr>\n",
       "      <th>0</th>\n",
       "      <td>Gradient Boosted Tree</td>\n",
       "      <td>0.691129</td>\n",
       "      <td>0.692706</td>\n",
       "      <td>0.741573</td>\n",
       "      <td>0.739274</td>\n",
       "      <td>0.683501</td>\n",
       "      <td>0.685122</td>\n",
       "    </tr>\n",
       "    <tr>\n",
       "      <th>1</th>\n",
       "      <td>Random Forest</td>\n",
       "      <td>0.687851</td>\n",
       "      <td>0.689469</td>\n",
       "      <td>0.732884</td>\n",
       "      <td>0.732937</td>\n",
       "      <td>0.677851</td>\n",
       "      <td>0.679404</td>\n",
       "    </tr>\n",
       "    <tr>\n",
       "      <th>2</th>\n",
       "      <td>Lasso Logistic Regression</td>\n",
       "      <td>0.684212</td>\n",
       "      <td>0.686811</td>\n",
       "      <td>0.721210</td>\n",
       "      <td>0.720946</td>\n",
       "      <td>0.672694</td>\n",
       "      <td>0.675218</td>\n",
       "    </tr>\n",
       "    <tr>\n",
       "      <th>3</th>\n",
       "      <td>Ridge Logistic Regression</td>\n",
       "      <td>0.684212</td>\n",
       "      <td>0.686811</td>\n",
       "      <td>0.721210</td>\n",
       "      <td>0.720943</td>\n",
       "      <td>0.672694</td>\n",
       "      <td>0.675218</td>\n",
       "    </tr>\n",
       "    <tr>\n",
       "      <th>4</th>\n",
       "      <td>Naive Bayes</td>\n",
       "      <td>0.618926</td>\n",
       "      <td>0.618028</td>\n",
       "      <td>0.674520</td>\n",
       "      <td>0.675060</td>\n",
       "      <td>0.618922</td>\n",
       "      <td>0.618067</td>\n",
       "    </tr>\n",
       "  </tbody>\n",
       "</table>\n",
       "</div>"
      ],
      "text/plain": [
       "                  Model_Name  Training Accuracy  Test Accuracy  Training AUC  \\\n",
       "0      Gradient Boosted Tree           0.691129       0.692706      0.741573   \n",
       "1              Random Forest           0.687851       0.689469      0.732884   \n",
       "2  Lasso Logistic Regression           0.684212       0.686811      0.721210   \n",
       "3  Ridge Logistic Regression           0.684212       0.686811      0.721210   \n",
       "4                Naive Bayes           0.618926       0.618028      0.674520   \n",
       "\n",
       "   Test AUC  Training F1   Test F1  \n",
       "0  0.739274     0.683501  0.685122  \n",
       "1  0.732937     0.677851  0.679404  \n",
       "2  0.720946     0.672694  0.675218  \n",
       "3  0.720943     0.672694  0.675218  \n",
       "4  0.675060     0.618922  0.618067  "
      ]
     },
     "execution_count": 5,
     "metadata": {},
     "output_type": "execute_result"
    }
   ],
   "source": [
    "models = [\n",
    "    model_ridge,\n",
    "    model_lasso,\n",
    "    model_bayes,\n",
    "    model_rf,\n",
    "    model_gbt\n",
    "]\n",
    "\n",
    "ClassEval = BinaryClassificationEvaluator()\n",
    "OtherClassEval = MulticlassClassificationEvaluator()\n",
    "\n",
    "training_auc = [ClassEval.evaluate(model.transform(train)) for model in models]\n",
    "test_auc = [ClassEval.evaluate(model.transform(test)) for model in models]\n",
    "\n",
    "training_acc = [OtherClassEval.evaluate(model.transform(train), {OtherClassEval.metricName: \"accuracy\"}) for model in models]\n",
    "test_acc = [OtherClassEval.evaluate(model.transform(test), {OtherClassEval.metricName: \"accuracy\"}) for model in models]\n",
    "\n",
    "training_f1 = [OtherClassEval.evaluate(model.transform(train), {OtherClassEval.metricName: \"f1\"}) for model in models]\n",
    "test_f1 = [OtherClassEval.evaluate(model.transform(test), {OtherClassEval.metricName: \"f1\"}) for model in models]\n",
    "\n",
    "pd.DataFrame({\n",
    "    \"Model_Name\" : [\n",
    "        \"Ridge Logistic Regression\",\n",
    "        \"Lasso Logistic Regression\",\n",
    "        \"Naive Bayes\",\n",
    "        \"Random Forest\",\n",
    "        \"Gradient Boosted Tree\"\n",
    "    ],\n",
    "    'Training Accuracy' : training_acc,\n",
    "    'Test Accuracy' : test_acc,\n",
    "    'Training AUC' : training_auc,\n",
    "    'Test AUC' : test_auc,\n",
    "    'Training F1' : training_f1,\n",
    "    'Test F1' : test_f1\n",
    "}).sort_values('Test AUC', ascending = False).reset_index().drop(columns = 'index')"
   ]
  },
  {
   "cell_type": "markdown",
   "metadata": {},
   "source": [
    "From our table, it seems that overall both models performed around the same on the training and test set which is likely because we used crossvalidation.\n",
    "\n",
    "We found that the highest performing model in this case is the Gradient Boosted Tree model with a test AUC of 0.73."
   ]
  }
 ],
 "metadata": {
  "kernelspec": {
   "display_name": "DS 5110 Spark 3.1",
   "language": "python",
   "name": "ds5110_spark3.1"
  },
  "language_info": {
   "codemirror_mode": {
    "name": "ipython",
    "version": 3
   },
   "file_extension": ".py",
   "mimetype": "text/x-python",
   "name": "python",
   "nbconvert_exporter": "python",
   "pygments_lexer": "ipython3",
   "version": "3.7.10"
  }
 },
 "nbformat": 4,
 "nbformat_minor": 4
}
