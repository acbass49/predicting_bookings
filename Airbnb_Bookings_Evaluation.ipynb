{
 "cells": [
  {
   "cell_type": "markdown",
   "metadata": {},
   "source": [
    "# Airbnb Model Evaluation"
   ]
  },
  {
   "cell_type": "code",
   "execution_count": 1,
   "metadata": {},
   "outputs": [],
   "source": [
    "#importing packages\n",
    "from pyspark.ml.classification import LogisticRegression, RandomForestClassifier, NaiveBayes, GBTClassifier\n",
    "from pyspark.ml.evaluation import BinaryClassificationEvaluator, MulticlassClassificationEvaluator\n",
    "from pyspark.ml.tuning import CrossValidator\n",
    "from pyspark.ml import Pipeline, PipelineModel\n",
    "from pyspark.sql import SparkSession\n",
    "import pandas as pd\n",
    "import pyspark\n",
    "import matplotlib.pyplot as plt"
   ]
  },
  {
   "cell_type": "code",
   "execution_count": 2,
   "metadata": {},
   "outputs": [],
   "source": [
    "#loading a custom function from this gist: https://gist.github.com/HerveMignot/a8f18e52b31d11c21132ef624249a887\n",
    "def plot_confusion_matrix(ddf, labelCol, predictionCol, title=None, normalize=False):\n",
    "    '''Plot a Confusion Matrix in a scalable way\n",
    "    Confusion matrix is computed with Spark to leverage scalability.\n",
    "    Only aggregated data are sent back to Python, doing the final formatting on the matrix locally.\n",
    "    Parameters\n",
    "    ----------\n",
    "    ddf: Spark DataFrame (pyspark.sql.dataframe.DataFrame)\n",
    "    labelCol: label column name (string)\n",
    "    predictionCol: prediction column name (string)\n",
    "    title: title string to be added\n",
    "    normalize : bool, {'all', 'index', 'columns'}, or {0, 1}, default False\n",
    "        Normalize by dividing all values by the sum of values.\n",
    "        - If passed 'all' or `True`, will normalize over all values.\n",
    "        - If passed 'index' will normalize over each row.\n",
    "        - If passed 'columns' will normalize over each column.\n",
    "        - If margins is `True`, will also normalize margin values.\n",
    "        (see pandas.crosstab() for additional details)\n",
    "    Returns\n",
    "    -------\n",
    "    Confusion matrix as matplotlib.axes._subplots.AxesSubplot\n",
    "    '''\n",
    "    import matplotlib.pyplot as plt\n",
    "    import seaborn as sns\n",
    "    from matplotlib.ticker import FuncFormatter\n",
    "\n",
    "    if title:\n",
    "        ax = plt.axes()\n",
    "        ax.set_title(title)\n",
    "\n",
    "    mat = (ddf.groupby([labelCol, predictionCol]).count().orderBy([labelCol, predictionCol])\n",
    "              .toPandas())\n",
    "\n",
    "    return sns.heatmap(pd.crosstab(mat[labelCol], mat[predictionCol], mat['count'], aggfunc='sum', normalize=normalize),\n",
    "                       annot=True, fmt='d' if not normalize else '.2%',\n",
    "                       cbar_kws={'format': FuncFormatter(lambda x, pos: '{:.0%}'.format(x))} if normalize else None,\n",
    "                       cmap=plt.cm.Blues)\n",
    "\n",
    "# Monkey patching a pyspark dataframe method\n",
    "pyspark.sql.dataframe.DataFrame.plot_confusion_matrix = plot_confusion_matrix"
   ]
  },
  {
   "cell_type": "markdown",
   "metadata": {},
   "source": [
    "### Loading Data"
   ]
  },
  {
   "cell_type": "code",
   "execution_count": 3,
   "metadata": {},
   "outputs": [],
   "source": [
    "# Start spark session\n",
    "spark = SparkSession.builder.getOrCreate()"
   ]
  },
  {
   "cell_type": "code",
   "execution_count": 4,
   "metadata": {},
   "outputs": [],
   "source": [
    "# Read data in json format\n",
    "train = spark.read.option(\"header\",True).parquet(\"./data_preprocessed/train_data.parquet\")\n",
    "test = spark.read.option(\"header\",True).parquet(\"./data_preprocessed/test_data.parquet\")"
   ]
  },
  {
   "cell_type": "markdown",
   "metadata": {},
   "source": [
    "### Loading Models"
   ]
  },
  {
   "cell_type": "code",
   "execution_count": 5,
   "metadata": {},
   "outputs": [],
   "source": [
    "model_ridge = PipelineModel.load('./models/ridge.model')\n",
    "model_lasso = PipelineModel.load('./models/lasso.model')\n",
    "model_bayes = PipelineModel.load('./models/naive_bayes.model')\n",
    "model_rf = PipelineModel.load('./models/random_forest.model')\n",
    "model_gbt = PipelineModel.load('./models/gbt.model')"
   ]
  },
  {
   "cell_type": "markdown",
   "metadata": {},
   "source": [
    "### Results Table"
   ]
  },
  {
   "cell_type": "code",
   "execution_count": 6,
   "metadata": {},
   "outputs": [
    {
     "data": {
      "text/html": [
       "<div>\n",
       "<style scoped>\n",
       "    .dataframe tbody tr th:only-of-type {\n",
       "        vertical-align: middle;\n",
       "    }\n",
       "\n",
       "    .dataframe tbody tr th {\n",
       "        vertical-align: top;\n",
       "    }\n",
       "\n",
       "    .dataframe thead th {\n",
       "        text-align: right;\n",
       "    }\n",
       "</style>\n",
       "<table border=\"1\" class=\"dataframe\">\n",
       "  <thead>\n",
       "    <tr style=\"text-align: right;\">\n",
       "      <th></th>\n",
       "      <th>Naive Bayes</th>\n",
       "      <th>Ridge Logistic Regression</th>\n",
       "      <th>Lasso Logistic Regression</th>\n",
       "      <th>Random Forest</th>\n",
       "      <th>Gradient Boosted Tree</th>\n",
       "    </tr>\n",
       "  </thead>\n",
       "  <tbody>\n",
       "    <tr>\n",
       "      <th>Training Accuracy</th>\n",
       "      <td>0.618926</td>\n",
       "      <td>0.684212</td>\n",
       "      <td>0.684212</td>\n",
       "      <td>0.687851</td>\n",
       "      <td>0.691129</td>\n",
       "    </tr>\n",
       "    <tr>\n",
       "      <th>Test Accuracy</th>\n",
       "      <td>0.618028</td>\n",
       "      <td>0.686811</td>\n",
       "      <td>0.686811</td>\n",
       "      <td>0.689469</td>\n",
       "      <td>0.692706</td>\n",
       "    </tr>\n",
       "    <tr>\n",
       "      <th>Training AUC</th>\n",
       "      <td>0.67452</td>\n",
       "      <td>0.72121</td>\n",
       "      <td>0.72121</td>\n",
       "      <td>0.732884</td>\n",
       "      <td>0.741573</td>\n",
       "    </tr>\n",
       "    <tr>\n",
       "      <th>Test AUC</th>\n",
       "      <td>0.67506</td>\n",
       "      <td>0.720943</td>\n",
       "      <td>0.720946</td>\n",
       "      <td>0.732937</td>\n",
       "      <td>0.739274</td>\n",
       "    </tr>\n",
       "    <tr>\n",
       "      <th>Training F1</th>\n",
       "      <td>0.618922</td>\n",
       "      <td>0.672694</td>\n",
       "      <td>0.672694</td>\n",
       "      <td>0.677851</td>\n",
       "      <td>0.683501</td>\n",
       "    </tr>\n",
       "    <tr>\n",
       "      <th>Test F1</th>\n",
       "      <td>0.618067</td>\n",
       "      <td>0.675218</td>\n",
       "      <td>0.675218</td>\n",
       "      <td>0.679404</td>\n",
       "      <td>0.685122</td>\n",
       "    </tr>\n",
       "    <tr>\n",
       "      <th>Training Precision</th>\n",
       "      <td>0.618918</td>\n",
       "      <td>0.681858</td>\n",
       "      <td>0.681858</td>\n",
       "      <td>0.685154</td>\n",
       "      <td>0.687787</td>\n",
       "    </tr>\n",
       "    <tr>\n",
       "      <th>Test Precision</th>\n",
       "      <td>0.618107</td>\n",
       "      <td>0.683944</td>\n",
       "      <td>0.683944</td>\n",
       "      <td>0.686204</td>\n",
       "      <td>0.688898</td>\n",
       "    </tr>\n",
       "    <tr>\n",
       "      <th>Training Recall</th>\n",
       "      <td>0.618926</td>\n",
       "      <td>0.684212</td>\n",
       "      <td>0.684212</td>\n",
       "      <td>0.687851</td>\n",
       "      <td>0.691129</td>\n",
       "    </tr>\n",
       "    <tr>\n",
       "      <th>Test Recall</th>\n",
       "      <td>0.618028</td>\n",
       "      <td>0.686811</td>\n",
       "      <td>0.686811</td>\n",
       "      <td>0.689469</td>\n",
       "      <td>0.692706</td>\n",
       "    </tr>\n",
       "    <tr>\n",
       "      <th>Training TPR</th>\n",
       "      <td>0.618926</td>\n",
       "      <td>0.684212</td>\n",
       "      <td>0.684212</td>\n",
       "      <td>0.687851</td>\n",
       "      <td>0.691129</td>\n",
       "    </tr>\n",
       "    <tr>\n",
       "      <th>Test TPR</th>\n",
       "      <td>0.618028</td>\n",
       "      <td>0.686811</td>\n",
       "      <td>0.686811</td>\n",
       "      <td>0.689469</td>\n",
       "      <td>0.692706</td>\n",
       "    </tr>\n",
       "    <tr>\n",
       "      <th>Training FPR</th>\n",
       "      <td>0.402327</td>\n",
       "      <td>0.373487</td>\n",
       "      <td>0.373487</td>\n",
       "      <td>0.366273</td>\n",
       "      <td>0.356709</td>\n",
       "    </tr>\n",
       "    <tr>\n",
       "      <th>Test FPR</th>\n",
       "      <td>0.405155</td>\n",
       "      <td>0.373984</td>\n",
       "      <td>0.373984</td>\n",
       "      <td>0.367552</td>\n",
       "      <td>0.357468</td>\n",
       "    </tr>\n",
       "  </tbody>\n",
       "</table>\n",
       "</div>"
      ],
      "text/plain": [
       "                   Naive Bayes Ridge Logistic Regression  \\\n",
       "Training Accuracy     0.618926                  0.684212   \n",
       "Test Accuracy         0.618028                  0.686811   \n",
       "Training AUC           0.67452                   0.72121   \n",
       "Test AUC               0.67506                  0.720943   \n",
       "Training F1           0.618922                  0.672694   \n",
       "Test F1               0.618067                  0.675218   \n",
       "Training Precision    0.618918                  0.681858   \n",
       "Test Precision        0.618107                  0.683944   \n",
       "Training Recall       0.618926                  0.684212   \n",
       "Test Recall           0.618028                  0.686811   \n",
       "Training TPR          0.618926                  0.684212   \n",
       "Test TPR              0.618028                  0.686811   \n",
       "Training FPR          0.402327                  0.373487   \n",
       "Test FPR              0.405155                  0.373984   \n",
       "\n",
       "                   Lasso Logistic Regression Random Forest  \\\n",
       "Training Accuracy                   0.684212      0.687851   \n",
       "Test Accuracy                       0.686811      0.689469   \n",
       "Training AUC                         0.72121      0.732884   \n",
       "Test AUC                            0.720946      0.732937   \n",
       "Training F1                         0.672694      0.677851   \n",
       "Test F1                             0.675218      0.679404   \n",
       "Training Precision                  0.681858      0.685154   \n",
       "Test Precision                      0.683944      0.686204   \n",
       "Training Recall                     0.684212      0.687851   \n",
       "Test Recall                         0.686811      0.689469   \n",
       "Training TPR                        0.684212      0.687851   \n",
       "Test TPR                            0.686811      0.689469   \n",
       "Training FPR                        0.373487      0.366273   \n",
       "Test FPR                            0.373984      0.367552   \n",
       "\n",
       "                   Gradient Boosted Tree  \n",
       "Training Accuracy               0.691129  \n",
       "Test Accuracy                   0.692706  \n",
       "Training AUC                    0.741573  \n",
       "Test AUC                        0.739274  \n",
       "Training F1                     0.683501  \n",
       "Test F1                         0.685122  \n",
       "Training Precision              0.687787  \n",
       "Test Precision                  0.688898  \n",
       "Training Recall                 0.691129  \n",
       "Test Recall                     0.692706  \n",
       "Training TPR                    0.691129  \n",
       "Test TPR                        0.692706  \n",
       "Training FPR                    0.356709  \n",
       "Test FPR                        0.357468  "
      ]
     },
     "execution_count": 6,
     "metadata": {},
     "output_type": "execute_result"
    }
   ],
   "source": [
    "models = [\n",
    "    model_ridge,\n",
    "    model_lasso,\n",
    "    model_bayes,\n",
    "    model_rf,\n",
    "    model_gbt\n",
    "]\n",
    "\n",
    "ClassEval = BinaryClassificationEvaluator()\n",
    "OtherClassEval = MulticlassClassificationEvaluator()\n",
    "\n",
    "training_auc = [ClassEval.evaluate(model.transform(train)) for model in models]\n",
    "test_auc = [ClassEval.evaluate(model.transform(test)) for model in models]\n",
    "\n",
    "training_acc = [OtherClassEval.evaluate(model.transform(train), {OtherClassEval.metricName: \"accuracy\"}) for model in models]\n",
    "test_acc = [OtherClassEval.evaluate(model.transform(test), {OtherClassEval.metricName: \"accuracy\"}) for model in models]\n",
    "\n",
    "training_f1 = [OtherClassEval.evaluate(model.transform(train), {OtherClassEval.metricName: \"f1\"}) for model in models]\n",
    "test_f1 = [OtherClassEval.evaluate(model.transform(test), {OtherClassEval.metricName: \"f1\"}) for model in models]\n",
    "\n",
    "training_1 = [OtherClassEval.evaluate(model.transform(train), {OtherClassEval.metricName: \"weightedPrecision\"}) for model in models]\n",
    "test_1 = [OtherClassEval.evaluate(model.transform(test), {OtherClassEval.metricName: \"weightedPrecision\"}) for model in models]\n",
    "\n",
    "training_2 = [OtherClassEval.evaluate(model.transform(train), {OtherClassEval.metricName: \"weightedRecall\"}) for model in models]\n",
    "test_2 = [OtherClassEval.evaluate(model.transform(test), {OtherClassEval.metricName: \"weightedRecall\"}) for model in models]\n",
    "\n",
    "training_3 = [OtherClassEval.evaluate(model.transform(train), {OtherClassEval.metricName: \"weightedTruePositiveRate\"}) for model in models]\n",
    "test_3 = [OtherClassEval.evaluate(model.transform(test), {OtherClassEval.metricName: \"weightedTruePositiveRate\"}) for model in models]\n",
    "\n",
    "training_4 = [OtherClassEval.evaluate(model.transform(train), {OtherClassEval.metricName: \"weightedFalsePositiveRate\"}) for model in models]\n",
    "test_4 = [OtherClassEval.evaluate(model.transform(test), {OtherClassEval.metricName: \"weightedFalsePositiveRate\"}) for model in models]\n",
    "\n",
    "results = pd.DataFrame({\n",
    "    \"Model_Name\" : [\n",
    "        \"Ridge Logistic Regression\",\n",
    "        \"Lasso Logistic Regression\",\n",
    "        \"Naive Bayes\",\n",
    "        \"Random Forest\",\n",
    "        \"Gradient Boosted Tree\"\n",
    "    ],\n",
    "    'Training Accuracy' : training_acc,\n",
    "    'Test Accuracy' : test_acc,\n",
    "    'Training AUC' : training_auc,\n",
    "    'Test AUC' : test_auc,\n",
    "    'Training F1' : training_f1,\n",
    "    'Test F1' : test_f1,\n",
    "    'Training Precision' : training_1,\n",
    "    'Test Precision' : test_1,\n",
    "    'Training Recall' : training_2,\n",
    "    'Test Recall' : test_2,\n",
    "    'Training TPR' : training_3,\n",
    "    'Test TPR' : test_3,\n",
    "    'Training FPR' : training_4,\n",
    "    'Test FPR' : test_4\n",
    "}).sort_values('Test AUC').T\n",
    "\n",
    "results.columns = results.iloc[0,:].to_list()\n",
    "results.drop(index = \"Model_Name\")"
   ]
  },
  {
   "cell_type": "markdown",
   "metadata": {},
   "source": [
    "From our table, it seems that overall both models performed around the same on the training and test set which is likely because we used crossvalidation.\n",
    "\n",
    "We found that the highest performing model in this case is the Gradient Boosted Tree model with a test AUC of 0.73."
   ]
  },
  {
   "cell_type": "code",
   "execution_count": 7,
   "metadata": {},
   "outputs": [
    {
     "data": {
      "image/png": "[encoded data removed]",
      "text/plain": [
       "<Figure size 432x288 with 2 Axes>"
      ]
     },
     "metadata": {
      "needs_background": "light"
     },
     "output_type": "display_data"
    }
   ],
   "source": [
    "%matplotlib inline\n",
    "model_ridge.transform(test).plot_confusion_matrix('label', 'prediction')\n",
    "plt.title(\"Ridge Regression\")\n",
    "plt.savefig(\"plots/ridge\", bbox_inches=\"tight\")"
   ]
  },
  {
   "cell_type": "code",
   "execution_count": 8,
   "metadata": {},
   "outputs": [
    {
     "data": {
      "image/png": "[encoded data removed]",
      "text/plain": [
       "<Figure size 432x288 with 2 Axes>"
      ]
     },
     "metadata": {
      "needs_background": "light"
     },
     "output_type": "display_data"
    }
   ],
   "source": [
    "model_lasso.transform(test).plot_confusion_matrix('label', 'prediction')\n",
    "plt.title(\"Lasso Regression\")\n",
    "plt.savefig(\"plots/lasso\", bbox_inches=\"tight\")"
   ]
  },
  {
   "cell_type": "code",
   "execution_count": 9,
   "metadata": {},
   "outputs": [
    {
     "data": {
      "image/png": "[encoded data removed]",
      "text/plain": [
       "<Figure size 432x288 with 2 Axes>"
      ]
     },
     "metadata": {
      "needs_background": "light"
     },
     "output_type": "display_data"
    }
   ],
   "source": [
    "model_bayes.transform(test).plot_confusion_matrix('label', 'prediction')\n",
    "plt.title(\"Naive Bayes\")\n",
    "plt.savefig(\"plots/nb\", bbox_inches=\"tight\")"
   ]
  },
  {
   "cell_type": "code",
   "execution_count": 10,
   "metadata": {},
   "outputs": [
    {
     "data": {
      "image/png": "[encoded data removed]",
      "text/plain": [
       "<Figure size 432x288 with 2 Axes>"
      ]
     },
     "metadata": {
      "needs_background": "light"
     },
     "output_type": "display_data"
    }
   ],
   "source": [
    "model_rf.transform(test).plot_confusion_matrix('label', 'prediction')\n",
    "plt.title(\"Random Forest\")\n",
    "plt.savefig(\"plots/rf\", bbox_inches=\"tight\")"
   ]
  },
  {
   "cell_type": "code",
   "execution_count": 11,
   "metadata": {},
   "outputs": [
    {
     "data": {
      "image/png": "[encoded data removed]",
      "text/plain": [
       "<Figure size 432x288 with 2 Axes>"
      ]
     },
     "metadata": {
      "needs_background": "light"
     },
     "output_type": "display_data"
    }
   ],
   "source": [
    "model_gbt.transform(test).plot_confusion_matrix('label', 'prediction')\n",
    "plt.title(\"Gradient Boosted Tree\")\n",
    "plt.savefig(\"plots/gbt\", bbox_inches=\"tight\")"
   ]
  }
 ],
 "metadata": {
  "kernelspec": {
   "display_name": "DS 5110 Spark 3.1",
   "language": "python",
   "name": "ds5110_spark3.1"
  },
  "language_info": {
   "codemirror_mode": {
    "name": "ipython",
    "version": 3
   },
   "file_extension": ".py",
   "mimetype": "text/x-python",
   "name": "python",
   "nbconvert_exporter": "python",
   "pygments_lexer": "ipython3",
   "version": "3.7.10"
  }
 },
 "nbformat": 4,
 "nbformat_minor": 4
}
