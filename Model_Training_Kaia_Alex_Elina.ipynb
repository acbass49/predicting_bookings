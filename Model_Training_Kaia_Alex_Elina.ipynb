{
 "cells": [
  {
   "cell_type": "markdown",
   "metadata": {},
   "source": [
    "# Airbnb Models\n",
    "\n",
    "Alex Bass (ujb3bu)\n",
    "\n"
   ]
  },
  {
   "cell_type": "markdown",
   "metadata": {},
   "source": [
    "## 5.10 Final Project Ungraded Assignment\n",
    "At this point in the course, you should be training and evaluating models. Please create a Jupyter Notebook containing a concise summary of your dataset (described in submission instructions).  \n",
    "\n",
    "At a minimum, the file should include a summary containing:\n",
    "\n",
    "- Number of records\n",
    "- Number of columns\n",
    "- Statistical summary of response variable\n",
    "- Statistical summary of potential predictor variables (if there are a large number of predictors, select the top 10)\n",
    "    - Note: Summarize categorical variables with counts and percentages for each level and summarize numerical variables with mean/quantiles/standard deviation.\n",
    "- Include up to five helpful graphs"
   ]
  },
  {
   "cell_type": "code",
   "execution_count": 1,
   "metadata": {},
   "outputs": [],
   "source": [
    "# Imports\n",
    "import os\n",
    "from pyspark.sql import SparkSession\n",
    "from pyspark.sql.types import StructType, StructField, StringType, IntegerType, DoubleType\n",
    "import pyspark.sql.functions as fn"
   ]
  },
  {
   "cell_type": "code",
   "execution_count": 2,
   "metadata": {},
   "outputs": [],
   "source": [
    "%matplotlib inline\n",
    "import matplotlib.pyplot as plt"
   ]
  },
  {
   "cell_type": "code",
   "execution_count": 3,
   "metadata": {},
   "outputs": [],
   "source": [
    "# Start spark session\n",
    "spark = SparkSession.builder.getOrCreate()\n"
   ]
  },
  {
   "cell_type": "markdown",
   "metadata": {},
   "source": [
    "### Users Dataset"
   ]
  },
  {
   "cell_type": "code",
   "execution_count": 4,
   "metadata": {},
   "outputs": [],
   "source": [
    "# Define schema for data\n",
    "schema = StructType() \\\n",
    "      .add(\"id\",StringType(),True) \\\n",
    "      .add(\"date_account_created\",StringType(),True) \\\n",
    "      .add(\"timestamp_first_active\",DoubleType(),True) \\\n",
    "      .add(\"date_first_booking\",StringType(),True) \\\n",
    "      .add(\"gender\",StringType(),True) \\\n",
    "      .add(\"age\",DoubleType(),True) \\\n",
    "      .add(\"signup_method\",StringType(),True) \\\n",
    "      .add(\"signup_flow\",IntegerType(),True) \\\n",
    "      .add(\"language\",StringType(),True) \\\n",
    "      .add(\"affiliate_channel\",StringType(),True) \\\n",
    "      .add(\"affiliate_provider\",StringType(),True) \\\n",
    "      .add(\"first_affiliate_tracked\",StringType(),True) \\\n",
    "      .add(\"signup_app\",StringType(),True) \\\n",
    "      .add(\"first_device_type\",StringType(),True) \\\n",
    "      .add(\"first_browser\",StringType(),True) \\\n",
    "      .add(\"country_destination\",StringType(),True)"
   ]
  },
  {
   "cell_type": "code",
   "execution_count": 5,
   "metadata": {},
   "outputs": [],
   "source": [
    "# Lists of columns\n",
    "response_col = \"country_destination\"\n",
    "id_col = \"id\"\n",
    "categorical_cols = [\"gender\", \"signup_method\", \"language\", \n",
    "                    \"affiliate_channel\", \"affiliate_provider\", \"first_affiliate_tracked\",\n",
    "                    \"signup_app\", \"first_device_type\", \"first_browser\"]\n",
    "numeric_cols = [\"timestamp_first_active\", \"age\", \"signup_flow\", ]\n",
    "date_cols = [\"date_account_created\", \"date_first_booking\"]\n"
   ]
  },
  {
   "cell_type": "code",
   "execution_count": 7,
   "metadata": {},
   "outputs": [],
   "source": [
    "# Read data in json format\n",
    "df = spark.read.option(\"header\",True).csv(\"train_users_2.csv\", schema)\n"
   ]
  },
  {
   "cell_type": "markdown",
   "metadata": {},
   "source": [
    "### Sessions Data"
   ]
  },
  {
   "cell_type": "code",
   "execution_count": 8,
   "metadata": {},
   "outputs": [],
   "source": [
    "# Define schema for data\n",
    "schema_sessions = StructType() \\\n",
    "      .add(\"user_id\",StringType(),True) \\\n",
    "      .add(\"action\",StringType(),True) \\\n",
    "      .add(\"action_type\",StringType(),True) \\\n",
    "      .add(\"action_detail\",StringType(),True) \\\n",
    "      .add(\"device_type\",StringType(),True) \\\n",
    "      .add(\"secs_elapsed\",DoubleType(),True)"
   ]
  },
  {
   "cell_type": "code",
   "execution_count": 10,
   "metadata": {},
   "outputs": [],
   "source": [
    "# Read data in json format\n",
    "df_sessions = spark.read.option(\"header\",True) \\\n",
    "    .csv(\"sessions.csv\", schema_sessions)\n"
   ]
  },
  {
   "cell_type": "code",
   "execution_count": 11,
   "metadata": {},
   "outputs": [],
   "source": [
    "# Aggregate some session data to user level\n",
    "session_agg = df_sessions.groupby('user_id').agg(\n",
    "    fn.sum('secs_elapsed').alias('total_time_elapsed'),\n",
    "    fn.count('action').alias('total_num_actions'),\n",
    "    fn.countDistinct('action').alias('num_unique_actions')\n",
    ")"
   ]
  },
  {
   "cell_type": "code",
   "execution_count": 12,
   "metadata": {},
   "outputs": [],
   "source": [
    "# Join datasets - use left join to keep as user data\n",
    "# Doing inner join becuase high % missing session data for train data\n",
    "# But low % missing session data in test data\n",
    "df = df.join(session_agg,df.id ==  session_agg.user_id, \"inner\")"
   ]
  },
  {
   "cell_type": "code",
   "execution_count": 13,
   "metadata": {},
   "outputs": [
    {
     "name": "stdout",
     "output_type": "stream",
     "text": [
      "-RECORD 0-----------------------------------------------\n",
      " id_missing                      | 0.0                  \n",
      " date_account_created_missing    | 0.0                  \n",
      " timestamp_first_active_missing  | 0.0                  \n",
      " date_first_booking_missing      | 0.6101876312402628   \n",
      " gender_missing                  | 0.0                  \n",
      " age_missing                     | 0.43687597371807896  \n",
      " signup_method_missing           | 0.0                  \n",
      " signup_flow_missing             | 0.0                  \n",
      " language_missing                | 0.0                  \n",
      " affiliate_channel_missing       | 0.0                  \n",
      " affiliate_provider_missing      | 0.0                  \n",
      " first_affiliate_tracked_missing | 0.004091309354467221 \n",
      " signup_app_missing              | 0.0                  \n",
      " first_device_type_missing       | 0.0                  \n",
      " first_browser_missing           | 0.0                  \n",
      " country_destination_missing     | 0.0                  \n",
      " user_id_missing                 | 0.0                  \n",
      " total_time_elapsed_missing      | 0.01604010025062652  \n",
      " total_num_actions_missing       | 0.0                  \n",
      " num_unique_actions_missing      | 0.0                  \n",
      "\n"
     ]
    }
   ],
   "source": [
    "# Percent missing per column\n",
    "df.agg(*[\n",
    "    (1 - (fn.count(c) / fn.count('*'))).alias(c + '_missing')\n",
    "    for c in df.columns\n",
    "]).show(vertical = True)"
   ]
  },
  {
   "cell_type": "code",
   "execution_count": 14,
   "metadata": {},
   "outputs": [],
   "source": [
    "# Select a subset of columns for initial model\n",
    "\n",
    "features = [\"age\", \"gender\", \"signup_method\", \n",
    "            \"language\", \"signup_app\", \n",
    "            \"total_time_elapsed\", \"total_num_actions\", \n",
    "            \"first_device_type\", \"date_account_created\"]\n",
    "\n",
    "df = df.select(features + ['country_destination', 'id'])"
   ]
  },
  {
   "cell_type": "markdown",
   "metadata": {},
   "source": [
    "## Response Variable Distribution"
   ]
  },
  {
   "cell_type": "code",
   "execution_count": 15,
   "metadata": {},
   "outputs": [
    {
     "name": "stdout",
     "output_type": "stream",
     "text": [
      "+-------------------+-----+-------+\n",
      "|country_destination|Count|Percent|\n",
      "+-------------------+-----+-------+\n",
      "|                 NL|  247|   0.33|\n",
      "|                 PT|   83|   0.11|\n",
      "|                 AU|  152|   0.21|\n",
      "|                 CA|  440|    0.6|\n",
      "|                 GB|  731|   0.99|\n",
      "|              other| 3655|   4.95|\n",
      "|                 DE|  250|   0.34|\n",
      "|                 ES|  707|   0.96|\n",
      "|                 US|20095|  27.22|\n",
      "|                 FR| 1435|   1.94|\n",
      "|                NDF|45041|  61.02|\n",
      "|                 IT|  979|   1.33|\n",
      "+-------------------+-----+-------+\n",
      "\n"
     ]
    }
   ],
   "source": [
    "# Statistical summary of response variable (count and percentage)\n",
    "\n",
    "df.groupBy(\"country_destination\") \\\n",
    "  .count() \\\n",
    "  .withColumnRenamed('count', 'Count') \\\n",
    "  .withColumn('Percent', fn.round((fn.col('Count') / df.count()) * 100 , 2)) \\\n",
    "  .show()"
   ]
  },
  {
   "cell_type": "code",
   "execution_count": 16,
   "metadata": {},
   "outputs": [],
   "source": [
    "# Create binary column (booked place or did not)\n",
    "df = df.withColumn(\n",
    "    'booked',\n",
    "    fn.when((df.country_destination == 'NDF'), 0)\\\n",
    "    .otherwise(1)\n",
    ")"
   ]
  },
  {
   "cell_type": "code",
   "execution_count": 17,
   "metadata": {},
   "outputs": [
    {
     "name": "stdout",
     "output_type": "stream",
     "text": [
      "+------+-----+-------+\n",
      "|booked|Count|Percent|\n",
      "+------+-----+-------+\n",
      "|     1|28774|  38.98|\n",
      "|     0|45041|  61.02|\n",
      "+------+-----+-------+\n",
      "\n"
     ]
    }
   ],
   "source": [
    "# Statistical summary of binary response variable (count and percentage)\n",
    "\n",
    "df.groupBy(\"booked\") \\\n",
    "  .count() \\\n",
    "  .withColumnRenamed('count', 'Count') \\\n",
    "  .withColumn('Percent', fn.round((fn.col('Count') / df.count()) * 100 , 2)) \\\n",
    "  .show()"
   ]
  },
  {
   "cell_type": "code",
   "execution_count": 18,
   "metadata": {},
   "outputs": [
    {
     "name": "stdout",
     "output_type": "stream",
     "text": [
      "-RECORD 0--------------------------------------------\n",
      " booked                       | 1                    \n",
      " age_missing                  | 0.2110933481615347   \n",
      " gender_missing               | 0.0                  \n",
      " signup_method_missing        | 0.0                  \n",
      " language_missing             | 0.0                  \n",
      " signup_app_missing           | 0.0                  \n",
      " total_time_elapsed_missing   | 0.012685062904010613 \n",
      " total_num_actions_missing    | 0.0                  \n",
      " first_device_type_missing    | 0.0                  \n",
      " date_account_created_missing | 0.0                  \n",
      " country_destination_missing  | 0.0                  \n",
      " id_missing                   | 0.0                  \n",
      " booked_missing               | 0.0                  \n",
      "-RECORD 1--------------------------------------------\n",
      " booked                       | 0                    \n",
      " age_missing                  | 0.5811149841255745   \n",
      " gender_missing               | 0.0                  \n",
      " signup_method_missing        | 0.0                  \n",
      " language_missing             | 0.0                  \n",
      " signup_app_missing           | 0.0                  \n",
      " total_time_elapsed_missing   | 0.018183432872271976 \n",
      " total_num_actions_missing    | 0.0                  \n",
      " first_device_type_missing    | 0.0                  \n",
      " date_account_created_missing | 0.0                  \n",
      " country_destination_missing  | 0.0                  \n",
      " id_missing                   | 0.0                  \n",
      " booked_missing               | 0.0                  \n",
      "\n"
     ]
    }
   ],
   "source": [
    "# Missing values by booked by column\n",
    "df.groupby(\"booked\").agg(*[\n",
    "    (1 - (fn.count(c) / fn.count('*'))).alias(c + '_missing')\n",
    "    for c in df.columns\n",
    "]).show(vertical = True)"
   ]
  },
  {
   "cell_type": "markdown",
   "metadata": {},
   "source": [
    "Clean up age column"
   ]
  },
  {
   "cell_type": "code",
   "execution_count": 19,
   "metadata": {},
   "outputs": [],
   "source": [
    "# Replace age with nan if outside reasonable range\n",
    "df = df.withColumn(\n",
    "    'age_new', \\\n",
    "    fn.when((df.age > 100) | (df.age < 16), None)\\\n",
    "    .otherwise(df.age)\n",
    ")"
   ]
  },
  {
   "cell_type": "code",
   "execution_count": 20,
   "metadata": {},
   "outputs": [],
   "source": [
    "# Add column indicating whether age is missing or not\n",
    "# Since % missing is higher for those that didn't book\n",
    "# may be a proxy for how effort user has put into updating profile\n",
    "df = df.withColumn(\n",
    "    'age_missing',\n",
    "    fn.when(df.age_new.isNull(), 1)\\\n",
    "    .otherwise(0)\n",
    ")"
   ]
  },
  {
   "cell_type": "code",
   "execution_count": 21,
   "metadata": {},
   "outputs": [
    {
     "name": "stdout",
     "output_type": "stream",
     "text": [
      "+-----------+-----+\n",
      "|age_missing|count|\n",
      "+-----------+-----+\n",
      "|          1|32974|\n",
      "|          0|40841|\n",
      "+-----------+-----+\n",
      "\n"
     ]
    }
   ],
   "source": [
    "df.groupby(\"age_missing\").count().show()"
   ]
  },
  {
   "cell_type": "code",
   "execution_count": 22,
   "metadata": {},
   "outputs": [
    {
     "data": {
      "text/plain": [
       "['age',\n",
       " 'gender',\n",
       " 'signup_method',\n",
       " 'language',\n",
       " 'signup_app',\n",
       " 'total_time_elapsed',\n",
       " 'total_num_actions',\n",
       " 'first_device_type',\n",
       " 'date_account_created',\n",
       " 'country_destination',\n",
       " 'id',\n",
       " 'booked',\n",
       " 'age_new',\n",
       " 'age_missing']"
      ]
     },
     "execution_count": 22,
     "metadata": {},
     "output_type": "execute_result"
    }
   ],
   "source": [
    "df.columns"
   ]
  },
  {
   "cell_type": "code",
   "execution_count": 23,
   "metadata": {},
   "outputs": [
    {
     "name": "stdout",
     "output_type": "stream",
     "text": [
      "+------------------+-----+\n",
      "| first_device_type|count|\n",
      "+------------------+-----+\n",
      "|    Android Tablet|  701|\n",
      "|              iPad| 5238|\n",
      "|            iPhone|10961|\n",
      "|   Windows Desktop|23395|\n",
      "|SmartPhone (Other)|   30|\n",
      "|     Android Phone| 1979|\n",
      "|       Mac Desktop|28029|\n",
      "|     Other/Unknown| 2993|\n",
      "|   Desktop (Other)|  489|\n",
      "+------------------+-----+\n",
      "\n"
     ]
    }
   ],
   "source": [
    "## ALEX ADDITION: Time Elapsed Since Account Creation\n",
    "#check device type\n",
    "df.groupby(\"first_device_type\").count().show()\n"
   ]
  },
  {
   "cell_type": "code",
   "execution_count": 24,
   "metadata": {},
   "outputs": [],
   "source": [
    "# some of the `other` categories are a bit small so combining\n",
    "# Create binary column (booked place or did not)\n",
    "df = df.withColumn(\n",
    "    'first_device_type',\n",
    "    fn.when((df.first_device_type == 'Android Tablet'), 'Android Tablet')\\\n",
    "    .when((df.first_device_type == 'iPad'), 'iPad')\\\n",
    "    .when((df.first_device_type == 'iPhone'), 'iPhone')\\\n",
    "    .when((df.first_device_type == 'Windows Desktop'), 'Windows Desktop')\\\n",
    "    .when((df.first_device_type == 'Android Phone'), 'Android Phone')\\\n",
    "    .when((df.first_device_type == 'Mac Desktop'), 'Mac Desktop')\\\n",
    "    .otherwise(\"Other\")\n",
    ")"
   ]
  },
  {
   "cell_type": "code",
   "execution_count": 25,
   "metadata": {},
   "outputs": [
    {
     "name": "stdout",
     "output_type": "stream",
     "text": [
      "+-----------------+-----+\n",
      "|first_device_type|count|\n",
      "+-----------------+-----+\n",
      "|   Android Tablet|  701|\n",
      "|             iPad| 5238|\n",
      "|           iPhone|10961|\n",
      "|  Windows Desktop|23395|\n",
      "|            Other| 3512|\n",
      "|    Android Phone| 1979|\n",
      "|      Mac Desktop|28029|\n",
      "+-----------------+-----+\n",
      "\n"
     ]
    }
   ],
   "source": [
    "df.groupby(\"first_device_type\").count().show()"
   ]
  },
  {
   "cell_type": "code",
   "execution_count": 26,
   "metadata": {},
   "outputs": [
    {
     "name": "stdout",
     "output_type": "stream",
     "text": [
      "+----+-----+\n",
      "|year|count|\n",
      "+----+-----+\n",
      "|2014|73815|\n",
      "+----+-----+\n",
      "\n"
     ]
    }
   ],
   "source": [
    "df.select(fn.col(\"date_account_created\"),fn.year(fn.col(\"date_account_created\")).alias(\"year\")).groupby(\"year\").count().show()"
   ]
  },
  {
   "cell_type": "markdown",
   "metadata": {},
   "source": [
    "looks like all accounts were created in 2014, so going to use month instead. I thought there would be more variance here."
   ]
  },
  {
   "cell_type": "code",
   "execution_count": 27,
   "metadata": {},
   "outputs": [
    {
     "data": {
      "text/plain": [
       "Text(0.5, 1.0, 'Months Accounts are created in Year 2014')"
      ]
     },
     "execution_count": 27,
     "metadata": {},
     "output_type": "execute_result"
    },
    {
     "data": {
      "image/png": "[encoded data removed]",
      "text/plain": [
       "<Figure size 432x288 with 1 Axes>"
      ]
     },
     "metadata": {
      "needs_background": "light"
     },
     "output_type": "display_data"
    }
   ],
   "source": [
    "# Also going to create a time elapsed variable to get at longer customers\n",
    "import seaborn as sns\n",
    "temp_data = df.select(fn.col(\"date_account_created\"),fn.month(fn.col(\"date_account_created\")).alias(\"month\")).toPandas()\n",
    "sns.histplot(data=temp_data, x=\"month\")\n",
    "plt.title('Months Accounts are created in Year 2014')"
   ]
  },
  {
   "cell_type": "code",
   "execution_count": 28,
   "metadata": {},
   "outputs": [],
   "source": [
    "# Can treat this as a numeric variable since all months are in 2014.\n",
    "df = df.withColumn(\n",
    "    'date_account_created',\n",
    "    fn.month(fn.col(\"date_account_created\")).alias(\"month\")\n",
    ")"
   ]
  },
  {
   "cell_type": "code",
   "execution_count": 29,
   "metadata": {},
   "outputs": [],
   "source": [
    "#Need to rename the variable 'booked' to 'label'\n",
    "df = df.withColumn(\n",
    "    'label',\n",
    "    df['booked']\n",
    ")"
   ]
  },
  {
   "cell_type": "code",
   "execution_count": 30,
   "metadata": {},
   "outputs": [],
   "source": [
    "# Split data into train/test\n",
    "seed = 123\n",
    "train, test = df.randomSplit([.7,.3], seed)"
   ]
  },
  {
   "cell_type": "code",
   "execution_count": 31,
   "metadata": {},
   "outputs": [],
   "source": [
    "# One hot encoding for gender, signup method, language, signup app\n",
    "from pyspark.ml.feature import OneHotEncoder, StringIndexer\n",
    "\n",
    "# Gender\n",
    "gender_idx = StringIndexer(inputCol=\"gender\", outputCol=\"gender_idx\")\n",
    "gender_ohe = OneHotEncoder(inputCol=\"gender_idx\", outputCol=\"gender_vec\")\n",
    "\n",
    "# Signup method\n",
    "signup_method_idx = StringIndexer(inputCol=\"signup_method\", outputCol=\"signup_method_idx\")\n",
    "signup_method_ohe = OneHotEncoder(inputCol=\"signup_method_idx\", outputCol=\"signup_method_vec\")\n",
    "\n",
    "# Language\n",
    "language_idx = StringIndexer(inputCol=\"language\", outputCol=\"language_idx\")\n",
    "language_ohe = OneHotEncoder(inputCol=\"language_idx\", outputCol=\"language_vec\")\n",
    "\n",
    "# Signup app\n",
    "signup_app_idx = StringIndexer(inputCol=\"signup_app\", outputCol=\"signup_app_idx\")\n",
    "signup_app_ohe = OneHotEncoder(inputCol=\"signup_app_idx\", outputCol=\"signup_app_vec\")\n",
    "\n",
    "### Alex Additions ###\n",
    "# First Device Type - Perhaps people browsing on their computer may be more serious about buying vs casual browsing on phone\n",
    "device_idx = StringIndexer(inputCol=\"first_device_type\", outputCol=\"first_device_type_idx\")\n",
    "device_ohe = OneHotEncoder(inputCol=\"first_device_type_idx\", outputCol=\"first_device_type_vec\")"
   ]
  },
  {
   "cell_type": "code",
   "execution_count": 32,
   "metadata": {},
   "outputs": [],
   "source": [
    "# Impute missing values with median\n",
    "from pyspark.ml.feature import Imputer\n",
    "\n",
    "# Age\n",
    "imputer_age = Imputer(\n",
    "    inputCol='age_new', \n",
    "    outputCol='age_new_imputed'\n",
    "    ).setStrategy(\"median\")\n",
    "\n",
    "# Total time elapsed\n",
    "imputer_total_elapsed = Imputer(\n",
    "    inputCol='total_time_elapsed', \n",
    "    outputCol='total_time_elapsed_imputed'\n",
    "    ).setStrategy(\"median\")"
   ]
  },
  {
   "cell_type": "code",
   "execution_count": 33,
   "metadata": {},
   "outputs": [],
   "source": [
    "# Select features\n",
    "features = [\"age_new_imputed\", \"age_missing\",\n",
    "            \"gender_vec\", \"signup_method_vec\", \"language_vec\", \"signup_app_vec\",\n",
    "             \"total_time_elapsed_imputed\", \"total_num_actions\", \"first_device_type_vec\", \"date_account_created\"]\n",
    "\n",
    "from pyspark.ml.feature import VectorAssembler\n",
    "\n",
    "assembler = VectorAssembler(inputCols=features,\n",
    "                            outputCol=\"fts\")"
   ]
  },
  {
   "cell_type": "code",
   "execution_count": 34,
   "metadata": {},
   "outputs": [],
   "source": [
    "# Scale all features\n",
    "from pyspark.ml.feature import MaxAbsScaler\n",
    "# Using maxabsscaler because some OHE features are sparse\n",
    "scaler = MaxAbsScaler(inputCol=\"fts\", outputCol=\"features\")"
   ]
  },
  {
   "cell_type": "code",
   "execution_count": 35,
   "metadata": {},
   "outputs": [],
   "source": [
    "# Setup logistic regression model\n",
    "max_iterations = 10\n",
    "\n",
    "from pyspark.ml.classification import LogisticRegression\n",
    "\n",
    "lr = LogisticRegression(maxIter=max_iterations,\n",
    "                        featuresCol = 'features',\n",
    "                        labelCol = 'label'\n",
    "                       )"
   ]
  },
  {
   "cell_type": "code",
   "execution_count": 36,
   "metadata": {},
   "outputs": [],
   "source": [
    "# Configure pipeline\n",
    "from pyspark.ml import Pipeline\n",
    "pipeline = Pipeline(stages=[gender_idx, gender_ohe, \n",
    "                           signup_method_idx, signup_method_ohe,\n",
    "                           language_idx, language_ohe,\n",
    "                           signup_app_idx, signup_app_ohe, device_idx, device_ohe,\n",
    "                           imputer_age, imputer_total_elapsed,\n",
    "                           assembler, scaler,\n",
    "                           lr])"
   ]
  },
  {
   "cell_type": "code",
   "execution_count": 37,
   "metadata": {},
   "outputs": [
    {
     "name": "stdout",
     "output_type": "stream",
     "text": [
      "------------------------------\n",
      "paramGrid [{Param(parent='LogisticRegression_5eb5731d22f4', name='elasticNetParam', doc='the ElasticNet mixing parameter, in range [0, 1]. For alpha = 0, the penalty is an L2 penalty. For alpha = 1, it is an L1 penalty.'): 1.0}, {Param(parent='LogisticRegression_5eb5731d22f4', name='elasticNetParam', doc='the ElasticNet mixing parameter, in range [0, 1]. For alpha = 0, the penalty is an L2 penalty. For alpha = 1, it is an L1 penalty.'): 0.5}, {Param(parent='LogisticRegression_5eb5731d22f4', name='elasticNetParam', doc='the ElasticNet mixing parameter, in range [0, 1]. For alpha = 0, the penalty is an L2 penalty. For alpha = 1, it is an L1 penalty.'): 0.1}, {Param(parent='LogisticRegression_5eb5731d22f4', name='elasticNetParam', doc='the ElasticNet mixing parameter, in range [0, 1]. For alpha = 0, the penalty is an L2 penalty. For alpha = 1, it is an L1 penalty.'): 0.01}, {Param(parent='LogisticRegression_5eb5731d22f4', name='elasticNetParam', doc='the ElasticNet mixing parameter, in range [0, 1]. For alpha = 0, the penalty is an L2 penalty. For alpha = 1, it is an L1 penalty.'): 0.0}] \n",
      "\n",
      "len(paramGrid): 5\n",
      "------------------------------\n",
      "train time: 1209.661659002304\n",
      "------------------------------\n",
      "elastic net 1 to elastic net 0.01\n",
      "[0.7579579105271874, 0.7579583856346788, 0.7579607975131721, 0.7579566035734275, 0.757957627286034]\n"
     ]
    }
   ],
   "source": [
    "from pyspark.ml.evaluation import BinaryClassificationEvaluator\n",
    "from pyspark.ml.tuning import CrossValidator, ParamGridBuilder\n",
    "\n",
    "# Set up the parameter grid\n",
    "paramGrid = ParamGridBuilder() \\\n",
    "    .addGrid(lr.elasticNetParam, [1, 0.5, 0.1, 0.01, 0]) \\\n",
    "    .build()\n",
    "\n",
    "print('-'*30)\n",
    "print('paramGrid', paramGrid, '\\n')\n",
    "print('len(paramGrid): {}'.format(len(paramGrid)))\n",
    "print('-'*30)\n",
    "\n",
    "crossval = CrossValidator(estimator=pipeline,\n",
    "                          estimatorParamMaps=paramGrid,\n",
    "                          evaluator=BinaryClassificationEvaluator(),\n",
    "                          numFolds=3,\n",
    "                          seed=1)\n",
    "import time\n",
    "t0 = time.time()\n",
    "cv_model_lr = crossval.fit(df)\n",
    "print(\"train time:\", time.time() - t0)\n",
    "print('-'*30)\n",
    "print(\"elastic net 1\", \"to elastic net 0.01\")\n",
    "print(cv_model_lr.avgMetrics)"
   ]
  },
  {
   "cell_type": "code",
   "execution_count": 38,
   "metadata": {},
   "outputs": [],
   "source": [
    "from pyspark.ml.classification import RandomForestClassifier\n",
    "\n",
    "rf = RandomForestClassifier(\n",
    "    featuresCol = 'features',\n",
    "    labelCol = 'label'\n",
    ")"
   ]
  },
  {
   "cell_type": "code",
   "execution_count": 39,
   "metadata": {},
   "outputs": [
    {
     "name": "stdout",
     "output_type": "stream",
     "text": [
      "------------------------------\n",
      "paramGrid [{Param(parent='RandomForestClassifier_d7f26639698d', name='numTrees', doc='Number of trees to train (>= 1).'): 5, Param(parent='RandomForestClassifier_d7f26639698d', name='maxDepth', doc='Maximum depth of the tree. (>= 0) E.g., depth 0 means 1 leaf node; depth 1 means 1 internal node + 2 leaf nodes.'): 3}, {Param(parent='RandomForestClassifier_d7f26639698d', name='numTrees', doc='Number of trees to train (>= 1).'): 5, Param(parent='RandomForestClassifier_d7f26639698d', name='maxDepth', doc='Maximum depth of the tree. (>= 0) E.g., depth 0 means 1 leaf node; depth 1 means 1 internal node + 2 leaf nodes.'): 5}, {Param(parent='RandomForestClassifier_d7f26639698d', name='numTrees', doc='Number of trees to train (>= 1).'): 5, Param(parent='RandomForestClassifier_d7f26639698d', name='maxDepth', doc='Maximum depth of the tree. (>= 0) E.g., depth 0 means 1 leaf node; depth 1 means 1 internal node + 2 leaf nodes.'): 6}, {Param(parent='RandomForestClassifier_d7f26639698d', name='numTrees', doc='Number of trees to train (>= 1).'): 20, Param(parent='RandomForestClassifier_d7f26639698d', name='maxDepth', doc='Maximum depth of the tree. (>= 0) E.g., depth 0 means 1 leaf node; depth 1 means 1 internal node + 2 leaf nodes.'): 3}, {Param(parent='RandomForestClassifier_d7f26639698d', name='numTrees', doc='Number of trees to train (>= 1).'): 20, Param(parent='RandomForestClassifier_d7f26639698d', name='maxDepth', doc='Maximum depth of the tree. (>= 0) E.g., depth 0 means 1 leaf node; depth 1 means 1 internal node + 2 leaf nodes.'): 5}, {Param(parent='RandomForestClassifier_d7f26639698d', name='numTrees', doc='Number of trees to train (>= 1).'): 20, Param(parent='RandomForestClassifier_d7f26639698d', name='maxDepth', doc='Maximum depth of the tree. (>= 0) E.g., depth 0 means 1 leaf node; depth 1 means 1 internal node + 2 leaf nodes.'): 6}, {Param(parent='RandomForestClassifier_d7f26639698d', name='numTrees', doc='Number of trees to train (>= 1).'): 50, Param(parent='RandomForestClassifier_d7f26639698d', name='maxDepth', doc='Maximum depth of the tree. (>= 0) E.g., depth 0 means 1 leaf node; depth 1 means 1 internal node + 2 leaf nodes.'): 3}, {Param(parent='RandomForestClassifier_d7f26639698d', name='numTrees', doc='Number of trees to train (>= 1).'): 50, Param(parent='RandomForestClassifier_d7f26639698d', name='maxDepth', doc='Maximum depth of the tree. (>= 0) E.g., depth 0 means 1 leaf node; depth 1 means 1 internal node + 2 leaf nodes.'): 5}, {Param(parent='RandomForestClassifier_d7f26639698d', name='numTrees', doc='Number of trees to train (>= 1).'): 50, Param(parent='RandomForestClassifier_d7f26639698d', name='maxDepth', doc='Maximum depth of the tree. (>= 0) E.g., depth 0 means 1 leaf node; depth 1 means 1 internal node + 2 leaf nodes.'): 6}] \n",
      "\n",
      "len(paramGrid): 9\n",
      "------------------------------\n",
      "train time: 2190.589357852936\n",
      "------------------------------\n",
      "[0.7246021928186646, 0.7547392023570099, 0.7577555072231432, 0.7390204459211531, 0.75686251740297, 0.758729062550062, 0.7487032374277903, 0.7574710871879899, 0.7595009328100761]\n"
     ]
    }
   ],
   "source": [
    "pipeline_rf = Pipeline(stages=[gender_idx, gender_ohe, \n",
    "                           signup_method_idx, signup_method_ohe,\n",
    "                           language_idx, language_ohe,\n",
    "                           signup_app_idx, signup_app_ohe, device_idx, device_ohe,\n",
    "                           imputer_age, imputer_total_elapsed,\n",
    "                           assembler, scaler,\n",
    "                           rf])\n",
    "\n",
    "# Set up the parameter grid\n",
    "paramGrid = ParamGridBuilder() \\\n",
    "    .addGrid(rf.numTrees, [5, 20, 50]) \\\n",
    "    .addGrid(rf.maxDepth, [3,5,6]) \\\n",
    "    .build()\n",
    "\n",
    "print('-'*30)\n",
    "print('paramGrid', paramGrid, '\\n')\n",
    "print('len(paramGrid): {}'.format(len(paramGrid)))\n",
    "print('-'*30)\n",
    "\n",
    "crossval = CrossValidator(estimator=pipeline_rf,\n",
    "                          estimatorParamMaps=paramGrid,\n",
    "                          evaluator=BinaryClassificationEvaluator(),\n",
    "                          numFolds=3,\n",
    "                          seed=1)\n",
    "\n",
    "t0 = time.time()\n",
    "cv_model_rf = crossval.fit(df)\n",
    "print(\"train time:\", time.time() - t0)\n",
    "print('-'*30)\n",
    "print(cv_model_rf.avgMetrics)"
   ]
  },
  {
   "cell_type": "code",
   "execution_count": 40,
   "metadata": {},
   "outputs": [
    {
     "name": "stdout",
     "output_type": "stream",
     "text": [
      "------------------------------\n",
      "paramGrid [{Param(parent='NaiveBayes_7b1702a4521d', name='smoothing', doc='The smoothing parameter, should be >= 0, default is 1.0'): 0.0}, {Param(parent='NaiveBayes_7b1702a4521d', name='smoothing', doc='The smoothing parameter, should be >= 0, default is 1.0'): 0.5}, {Param(parent='NaiveBayes_7b1702a4521d', name='smoothing', doc='The smoothing parameter, should be >= 0, default is 1.0'): 1.0}, {Param(parent='NaiveBayes_7b1702a4521d', name='smoothing', doc='The smoothing parameter, should be >= 0, default is 1.0'): 5.0}] \n",
      "\n",
      "len(paramGrid): 4\n",
      "------------------------------\n",
      "train time: 692.2205185890198\n",
      "------------------------------\n",
      "[0.6877912235297616, 0.6877998617984563, 0.6878148800562481, 0.6879137950430848]\n"
     ]
    }
   ],
   "source": [
    "from pyspark.ml.classification import NaiveBayes\n",
    "\n",
    "nb = NaiveBayes(\n",
    "    featuresCol = 'features',\n",
    "    labelCol = 'label'\n",
    ")\n",
    "\n",
    "pipeline_bayes = Pipeline(stages=[gender_idx, gender_ohe, \n",
    "                           signup_method_idx, signup_method_ohe,\n",
    "                           language_idx, language_ohe,\n",
    "                           signup_app_idx, signup_app_ohe, device_idx, device_ohe,\n",
    "                           imputer_age, imputer_total_elapsed,\n",
    "                           assembler, scaler,\n",
    "                           nb])\n",
    "\n",
    "# Set up the parameter grid\n",
    "paramGrid = ParamGridBuilder() \\\n",
    "    .addGrid(nb.smoothing, [0, 0.5, 1, 5]) \\\n",
    "    .build()\n",
    "\n",
    "print('-'*30)\n",
    "print('paramGrid', paramGrid, '\\n')\n",
    "print('len(paramGrid): {}'.format(len(paramGrid)))\n",
    "print('-'*30)\n",
    "\n",
    "crossval = CrossValidator(estimator=pipeline_bayes,\n",
    "                          estimatorParamMaps=paramGrid,\n",
    "                          evaluator=BinaryClassificationEvaluator(),\n",
    "                          numFolds=3,\n",
    "                          seed=1)\n",
    "\n",
    "t0 = time.time()\n",
    "cv_model_bayes = crossval.fit(df)\n",
    "print(\"train time:\", time.time() - t0)\n",
    "print('-'*30)\n",
    "print(cv_model_bayes.avgMetrics)"
   ]
  },
  {
   "cell_type": "code",
   "execution_count": 41,
   "metadata": {},
   "outputs": [
    {
     "ename": "AttributeError",
     "evalue": "'GBTClassifier' object has no attribute 'max_depth'",
     "output_type": "error",
     "traceback": [
      "\u001b[0;31m---------------------------------------------------------------------------\u001b[0m",
      "\u001b[0;31mAttributeError\u001b[0m                            Traceback (most recent call last)",
      "\u001b[0;32m<ipython-input-41-30a2758e0971>\u001b[0m in \u001b[0;36m<module>\u001b[0;34m\u001b[0m\n\u001b[1;32m     17\u001b[0m \u001b[0;31m# Set up the parameter grid\u001b[0m\u001b[0;34m\u001b[0m\u001b[0;34m\u001b[0m\u001b[0;34m\u001b[0m\u001b[0m\n\u001b[1;32m     18\u001b[0m \u001b[0mparamGrid\u001b[0m \u001b[0;34m=\u001b[0m \u001b[0mParamGridBuilder\u001b[0m\u001b[0;34m(\u001b[0m\u001b[0;34m)\u001b[0m\u001b[0;31m \u001b[0m\u001b[0;31m\\\u001b[0m\u001b[0;34m\u001b[0m\u001b[0;34m\u001b[0m\u001b[0m\n\u001b[0;32m---> 19\u001b[0;31m     \u001b[0;34m.\u001b[0m\u001b[0maddGrid\u001b[0m\u001b[0;34m(\u001b[0m\u001b[0mgbt\u001b[0m\u001b[0;34m.\u001b[0m\u001b[0mmax_depth\u001b[0m\u001b[0;34m,\u001b[0m \u001b[0;34m[\u001b[0m\u001b[0;36m3\u001b[0m\u001b[0;34m,\u001b[0m \u001b[0;36m5\u001b[0m\u001b[0;34m,\u001b[0m \u001b[0;36m6\u001b[0m\u001b[0;34m]\u001b[0m\u001b[0;34m)\u001b[0m\u001b[0;31m \u001b[0m\u001b[0;31m\\\u001b[0m\u001b[0;34m\u001b[0m\u001b[0;34m\u001b[0m\u001b[0m\n\u001b[0m\u001b[1;32m     20\u001b[0m     \u001b[0;34m.\u001b[0m\u001b[0maddGrid\u001b[0m\u001b[0;34m(\u001b[0m\u001b[0mgbt\u001b[0m\u001b[0;34m.\u001b[0m\u001b[0mminWeightFractionPerNode\u001b[0m\u001b[0;34m,\u001b[0m \u001b[0;34m[\u001b[0m\u001b[0;36m0\u001b[0m\u001b[0;34m,\u001b[0m \u001b[0;36m0.01\u001b[0m\u001b[0;34m,\u001b[0m \u001b[0;36m0.1\u001b[0m\u001b[0;34m]\u001b[0m\u001b[0;34m)\u001b[0m\u001b[0;31m \u001b[0m\u001b[0;31m\\\u001b[0m\u001b[0;34m\u001b[0m\u001b[0;34m\u001b[0m\u001b[0m\n\u001b[1;32m     21\u001b[0m     \u001b[0;34m.\u001b[0m\u001b[0mbuild\u001b[0m\u001b[0;34m(\u001b[0m\u001b[0;34m)\u001b[0m\u001b[0;34m\u001b[0m\u001b[0;34m\u001b[0m\u001b[0m\n",
      "\u001b[0;31mAttributeError\u001b[0m: 'GBTClassifier' object has no attribute 'max_depth'"
     ]
    }
   ],
   "source": [
    "from pyspark.ml.classification import GBTClassifier\n",
    "\n",
    "gbt = GBTClassifier(\n",
    "    featuresCol = 'features',\n",
    "    labelCol = 'label',\n",
    "    maxIter = 5\n",
    ")\n",
    "\n",
    "pipeline_gbt = Pipeline(stages=[gender_idx, gender_ohe, \n",
    "                           signup_method_idx, signup_method_ohe,\n",
    "                           language_idx, language_ohe,\n",
    "                           signup_app_idx, signup_app_ohe, device_idx, device_ohe,\n",
    "                           imputer_age, imputer_total_elapsed,\n",
    "                           assembler, scaler,\n",
    "                           gbt])\n",
    "\n",
    "# Set up the parameter grid\n",
    "paramGrid = ParamGridBuilder() \\\n",
    "    .addGrid(gbt.max_depth, [3, 5, 6]) \\ # ER need to change AttributeError: 'GBTClassifier' object has no attribute 'max_depth'\n",
    "    .addGrid(gbt.minWeightFractionPerNode, [0, 0.01, 0.1]) \\\n",
    "    .build()\n",
    "\n",
    "print('-'*30)\n",
    "print('paramGrid', paramGrid, '\\n')\n",
    "print('len(paramGrid): {}'.format(len(paramGrid)))\n",
    "print('-'*30)\n",
    "\n",
    "crossval = CrossValidator(estimator=pipeline_gbt,\n",
    "                          estimatorParamMaps=paramGrid,\n",
    "                          evaluator=BinaryClassificationEvaluator(),\n",
    "                          numFolds=3,\n",
    "                          seed=1)\n",
    "\n",
    "t0 = time.time()\n",
    "cv_model_gbt = crossval.fit(df)\n",
    "print(\"train time:\", time.time() - t0)\n",
    "print('-'*30)\n",
    "print(cv_model_gbt.avgMetrics)"
   ]
  },
  {
   "cell_type": "code",
   "execution_count": 42,
   "metadata": {},
   "outputs": [
    {
     "ename": "TypeError",
     "evalue": "'int' object is not iterable",
     "output_type": "error",
     "traceback": [
      "\u001b[0;31m---------------------------------------------------------------------------\u001b[0m",
      "\u001b[0;31mTypeError\u001b[0m                                 Traceback (most recent call last)",
      "\u001b[0;32m<ipython-input-42-808b02e3790e>\u001b[0m in \u001b[0;36m<module>\u001b[0;34m\u001b[0m\n\u001b[1;32m     11\u001b[0m     \"AUC\" : [\n\u001b[1;32m     12\u001b[0m         \u001b[0mcv_model_lr\u001b[0m\u001b[0;34m.\u001b[0m\u001b[0mavgMetrics\u001b[0m\u001b[0;34m[\u001b[0m\u001b[0;36m0\u001b[0m\u001b[0;34m]\u001b[0m\u001b[0;34m,\u001b[0m\u001b[0;34m\u001b[0m\u001b[0;34m\u001b[0m\u001b[0m\n\u001b[0;32m---> 13\u001b[0;31m         \u001b[0mcv_model_lr\u001b[0m\u001b[0;34m.\u001b[0m\u001b[0mavgMetrics\u001b[0m\u001b[0;34m[\u001b[0m\u001b[0mmax\u001b[0m\u001b[0;34m(\u001b[0m\u001b[0mlen\u001b[0m\u001b[0;34m(\u001b[0m\u001b[0mcv_model_lr\u001b[0m\u001b[0;34m.\u001b[0m\u001b[0mavgMetrics\u001b[0m\u001b[0;34m)\u001b[0m\u001b[0;34m)\u001b[0m\u001b[0;34m]\u001b[0m\u001b[0;34m,\u001b[0m\u001b[0;34m\u001b[0m\u001b[0;34m\u001b[0m\u001b[0m\n\u001b[0m\u001b[1;32m     14\u001b[0m         \u001b[0mmax\u001b[0m\u001b[0;34m(\u001b[0m\u001b[0mcv_model_nb\u001b[0m\u001b[0;34m.\u001b[0m\u001b[0mavgMetrics\u001b[0m\u001b[0;34m)\u001b[0m\u001b[0;34m,\u001b[0m\u001b[0;34m\u001b[0m\u001b[0;34m\u001b[0m\u001b[0m\n\u001b[1;32m     15\u001b[0m         \u001b[0mmax\u001b[0m\u001b[0;34m(\u001b[0m\u001b[0mcv_model_rf\u001b[0m\u001b[0;34m.\u001b[0m\u001b[0mavgMetrics\u001b[0m\u001b[0;34m)\u001b[0m\u001b[0;34m,\u001b[0m\u001b[0;34m\u001b[0m\u001b[0;34m\u001b[0m\u001b[0m\n",
      "\u001b[0;31mTypeError\u001b[0m: 'int' object is not iterable"
     ]
    }
   ],
   "source": [
    "import pandas as pd\n",
    "\n",
    "# ER to check TypeError: 'int' object is not iterable\n",
    "\n",
    "pd.DataFrame({\n",
    "    \"Model\" : [\n",
    "        \"Lasso\",\n",
    "        \"Ridge\",\n",
    "        \"Naive Bayes\",\n",
    "        \"Random Forest\",\n",
    "        \"GBT\"\n",
    "    ],\n",
    "    \"AUC\" : [\n",
    "        cv_model_lr.avgMetrics[0],\n",
    "        cv_model_lr.avgMetrics[max(len(cv_model_lr.avgMetrics))],\n",
    "        max(cv_model_nb.avgMetrics),\n",
    "        max(cv_model_rf.avgMetrics),\n",
    "        max(cv_model_gbt.avgMetrics)\n",
    "    ]\n",
    "})"
   ]
  },
  {
   "cell_type": "code",
   "execution_count": null,
   "metadata": {},
   "outputs": [],
   "source": []
  }
 ],
 "metadata": {
  "kernelspec": {
   "display_name": "DS 5110 Spark 3.1",
   "language": "python",
   "name": "ds5110_spark3.1"
  },
  "language_info": {
   "codemirror_mode": {
    "name": "ipython",
    "version": 3
   },
   "file_extension": ".py",
   "mimetype": "text/x-python",
   "name": "python",
   "nbconvert_exporter": "python",
   "pygments_lexer": "ipython3",
   "version": "3.7.10"
  }
 },
 "nbformat": 4,
 "nbformat_minor": 4
}
