{
 "cells": [
  {
   "cell_type": "markdown",
   "metadata": {},
   "source": [
    "# Airbnb Models\n",
    "\n",
    "Alex Bass (ujb3bu)\n",
    "\n",
    "Kaia Lindberg (pkx2ec)\n",
    "\n",
    "Elina Ribakova (uvg5bn)\n"
   ]
  },
  {
   "cell_type": "markdown",
   "metadata": {},
   "source": [
    "## 5.10 Final Project Ungraded Assignment\n",
    "At this point in the course, you should be training and evaluating models. Please create a Jupyter Notebook containing a concise summary of your dataset (described in submission instructions).  \n",
    "\n",
    "At a minimum, the file should include a summary containing:\n",
    "\n",
    "- Number of records\n",
    "- Number of columns\n",
    "- Statistical summary of response variable\n",
    "- Statistical summary of potential predictor variables (if there are a large number of predictors, select the top 10)\n",
    "    - Note: Summarize categorical variables with counts and percentages for each level and summarize numerical variables with mean/quantiles/standard deviation.\n",
    "- Include up to five helpful graphs"
   ]
  },
  {
   "cell_type": "code",
   "execution_count": 1,
   "metadata": {},
   "outputs": [],
   "source": [
    "# Imports\n",
    "import os\n",
    "from pyspark.sql import SparkSession\n",
    "from pyspark.sql.types import StructType, StructField, StringType, IntegerType, DoubleType\n",
    "import pyspark.sql.functions as fn"
   ]
  },
  {
   "cell_type": "code",
   "execution_count": 2,
   "metadata": {},
   "outputs": [],
   "source": [
    "%matplotlib inline\n",
    "import matplotlib.pyplot as plt"
   ]
  },
  {
   "cell_type": "code",
   "execution_count": 91,
   "metadata": {},
   "outputs": [],
   "source": [
    "from pyspark.ml.evaluation import BinaryClassificationEvaluator\n",
    "from pyspark.ml.tuning import CrossValidator, ParamGridBuilder\n",
    "import time"
   ]
  },
  {
   "cell_type": "code",
   "execution_count": 3,
   "metadata": {},
   "outputs": [],
   "source": [
    "# Start spark session\n",
    "spark = SparkSession.builder.getOrCreate()\n"
   ]
  },
  {
   "cell_type": "markdown",
   "metadata": {},
   "source": [
    "### Users Dataset"
   ]
  },
  {
   "cell_type": "code",
   "execution_count": 4,
   "metadata": {},
   "outputs": [],
   "source": [
    "# Define schema for data\n",
    "schema = StructType() \\\n",
    "      .add(\"id\",StringType(),True) \\\n",
    "      .add(\"date_account_created\",StringType(),True) \\\n",
    "      .add(\"timestamp_first_active\",DoubleType(),True) \\\n",
    "      .add(\"date_first_booking\",StringType(),True) \\\n",
    "      .add(\"gender\",StringType(),True) \\\n",
    "      .add(\"age\",DoubleType(),True) \\\n",
    "      .add(\"signup_method\",StringType(),True) \\\n",
    "      .add(\"signup_flow\",IntegerType(),True) \\\n",
    "      .add(\"language\",StringType(),True) \\\n",
    "      .add(\"affiliate_channel\",StringType(),True) \\\n",
    "      .add(\"affiliate_provider\",StringType(),True) \\\n",
    "      .add(\"first_affiliate_tracked\",StringType(),True) \\\n",
    "      .add(\"signup_app\",StringType(),True) \\\n",
    "      .add(\"first_device_type\",StringType(),True) \\\n",
    "      .add(\"first_browser\",StringType(),True) \\\n",
    "      .add(\"country_destination\",StringType(),True)"
   ]
  },
  {
   "cell_type": "code",
   "execution_count": 5,
   "metadata": {},
   "outputs": [],
   "source": [
    "# Lists of columns\n",
    "response_col = \"country_destination\"\n",
    "id_col = \"id\"\n",
    "categorical_cols = [\"gender\", \"signup_method\", \"language\", \n",
    "                    \"affiliate_channel\", \"affiliate_provider\", \"first_affiliate_tracked\",\n",
    "                    \"signup_app\", \"first_device_type\", \"first_browser\"]\n",
    "numeric_cols = [\"timestamp_first_active\", \"age\", \"signup_flow\", ]\n",
    "date_cols = [\"date_account_created\", \"date_first_booking\"]\n"
   ]
  },
  {
   "cell_type": "code",
   "execution_count": 6,
   "metadata": {},
   "outputs": [],
   "source": [
    "# Read data in json format\n",
    "df = spark.read.option(\"header\",True).csv(\"train_users_2.csv\", schema)\n"
   ]
  },
  {
   "cell_type": "markdown",
   "metadata": {},
   "source": [
    "### Sessions Data"
   ]
  },
  {
   "cell_type": "code",
   "execution_count": 7,
   "metadata": {},
   "outputs": [],
   "source": [
    "# Define schema for data\n",
    "schema_sessions = StructType() \\\n",
    "      .add(\"user_id\",StringType(),True) \\\n",
    "      .add(\"action\",StringType(),True) \\\n",
    "      .add(\"action_type\",StringType(),True) \\\n",
    "      .add(\"action_detail\",StringType(),True) \\\n",
    "      .add(\"device_type\",StringType(),True) \\\n",
    "      .add(\"secs_elapsed\",DoubleType(),True)"
   ]
  },
  {
   "cell_type": "code",
   "execution_count": 8,
   "metadata": {},
   "outputs": [],
   "source": [
    "# Read data in json format\n",
    "df_sessions = spark.read.option(\"header\",True) \\\n",
    "    .csv(\"sessions.csv\", schema_sessions)\n"
   ]
  },
  {
   "cell_type": "code",
   "execution_count": 9,
   "metadata": {},
   "outputs": [],
   "source": [
    "# Aggregate some session data to user level\n",
    "session_agg = df_sessions.groupby('user_id').agg(\n",
    "    fn.sum('secs_elapsed').alias('total_time_elapsed'),\n",
    "    fn.count('action').alias('total_num_actions'),\n",
    "    fn.countDistinct('action').alias('num_unique_actions')\n",
    ")"
   ]
  },
  {
   "cell_type": "code",
   "execution_count": 10,
   "metadata": {},
   "outputs": [],
   "source": [
    "# Join datasets - use left join to keep as user data\n",
    "# Doing inner join because high % missing session data for train data\n",
    "# But low % missing session data in test data\n",
    "df = df.join(session_agg,df.id ==  session_agg.user_id, \"inner\")"
   ]
  },
  {
   "cell_type": "code",
   "execution_count": 11,
   "metadata": {},
   "outputs": [
    {
     "name": "stdout",
     "output_type": "stream",
     "text": [
      "-RECORD 0-----------------------------------------------\n",
      " id_missing                      | 0.0                  \n",
      " date_account_created_missing    | 0.0                  \n",
      " timestamp_first_active_missing  | 0.0                  \n",
      " date_first_booking_missing      | 0.6101876312402628   \n",
      " gender_missing                  | 0.0                  \n",
      " age_missing                     | 0.43687597371807896  \n",
      " signup_method_missing           | 0.0                  \n",
      " signup_flow_missing             | 0.0                  \n",
      " language_missing                | 0.0                  \n",
      " affiliate_channel_missing       | 0.0                  \n",
      " affiliate_provider_missing      | 0.0                  \n",
      " first_affiliate_tracked_missing | 0.004091309354467221 \n",
      " signup_app_missing              | 0.0                  \n",
      " first_device_type_missing       | 0.0                  \n",
      " first_browser_missing           | 0.0                  \n",
      " country_destination_missing     | 0.0                  \n",
      " user_id_missing                 | 0.0                  \n",
      " total_time_elapsed_missing      | 0.01604010025062652  \n",
      " total_num_actions_missing       | 0.0                  \n",
      " num_unique_actions_missing      | 0.0                  \n",
      "\n"
     ]
    }
   ],
   "source": [
    "# Percent missing per column\n",
    "df.agg(*[\n",
    "    (1 - (fn.count(c) / fn.count('*'))).alias(c + '_missing')\n",
    "    for c in df.columns\n",
    "]).show(vertical = True)"
   ]
  },
  {
   "cell_type": "code",
   "execution_count": 12,
   "metadata": {},
   "outputs": [],
   "source": [
    "# Select a subset of columns for initial model\n",
    "\n",
    "features = [\"age\", \"gender\", \"signup_method\", \n",
    "            \"language\", \"signup_app\", \n",
    "            \"total_time_elapsed\", \"total_num_actions\", \n",
    "            \"first_device_type\", \"date_account_created\"]\n",
    "\n",
    "df = df.select(features + ['country_destination', 'id'])"
   ]
  },
  {
   "cell_type": "markdown",
   "metadata": {},
   "source": [
    "## Response Variable Distribution"
   ]
  },
  {
   "cell_type": "code",
   "execution_count": 13,
   "metadata": {},
   "outputs": [
    {
     "name": "stdout",
     "output_type": "stream",
     "text": [
      "+-------------------+-----+-------+\n",
      "|country_destination|Count|Percent|\n",
      "+-------------------+-----+-------+\n",
      "|                 NL|  247|   0.33|\n",
      "|                 PT|   83|   0.11|\n",
      "|                 AU|  152|   0.21|\n",
      "|                 CA|  440|    0.6|\n",
      "|                 GB|  731|   0.99|\n",
      "|              other| 3655|   4.95|\n",
      "|                 DE|  250|   0.34|\n",
      "|                 ES|  707|   0.96|\n",
      "|                 US|20095|  27.22|\n",
      "|                 FR| 1435|   1.94|\n",
      "|                NDF|45041|  61.02|\n",
      "|                 IT|  979|   1.33|\n",
      "+-------------------+-----+-------+\n",
      "\n"
     ]
    }
   ],
   "source": [
    "# Statistical summary of response variable (count and percentage)\n",
    "\n",
    "df.groupBy(\"country_destination\") \\\n",
    "  .count() \\\n",
    "  .withColumnRenamed('count', 'Count') \\\n",
    "  .withColumn('Percent', fn.round((fn.col('Count') / df.count()) * 100 , 2)) \\\n",
    "  .show()"
   ]
  },
  {
   "cell_type": "code",
   "execution_count": 14,
   "metadata": {},
   "outputs": [],
   "source": [
    "# Create binary column (booked place or did not)\n",
    "df = df.withColumn(\n",
    "    'booked',\n",
    "    fn.when((df.country_destination == 'NDF'), 0)\\\n",
    "    .otherwise(1)\n",
    ")"
   ]
  },
  {
   "cell_type": "code",
   "execution_count": 15,
   "metadata": {},
   "outputs": [
    {
     "name": "stdout",
     "output_type": "stream",
     "text": [
      "+------+-----+-------+\n",
      "|booked|Count|Percent|\n",
      "+------+-----+-------+\n",
      "|     1|28774|  38.98|\n",
      "|     0|45041|  61.02|\n",
      "+------+-----+-------+\n",
      "\n"
     ]
    }
   ],
   "source": [
    "# Statistical summary of binary response variable (count and percentage)\n",
    "\n",
    "df.groupBy(\"booked\") \\\n",
    "  .count() \\\n",
    "  .withColumnRenamed('count', 'Count') \\\n",
    "  .withColumn('Percent', fn.round((fn.col('Count') / df.count()) * 100 , 2)) \\\n",
    "  .show()"
   ]
  },
  {
   "cell_type": "code",
   "execution_count": 16,
   "metadata": {},
   "outputs": [
    {
     "name": "stdout",
     "output_type": "stream",
     "text": [
      "-RECORD 0--------------------------------------------\n",
      " booked                       | 1                    \n",
      " age_missing                  | 0.2110933481615347   \n",
      " gender_missing               | 0.0                  \n",
      " signup_method_missing        | 0.0                  \n",
      " language_missing             | 0.0                  \n",
      " signup_app_missing           | 0.0                  \n",
      " total_time_elapsed_missing   | 0.012685062904010613 \n",
      " total_num_actions_missing    | 0.0                  \n",
      " first_device_type_missing    | 0.0                  \n",
      " date_account_created_missing | 0.0                  \n",
      " country_destination_missing  | 0.0                  \n",
      " id_missing                   | 0.0                  \n",
      " booked_missing               | 0.0                  \n",
      "-RECORD 1--------------------------------------------\n",
      " booked                       | 0                    \n",
      " age_missing                  | 0.5811149841255745   \n",
      " gender_missing               | 0.0                  \n",
      " signup_method_missing        | 0.0                  \n",
      " language_missing             | 0.0                  \n",
      " signup_app_missing           | 0.0                  \n",
      " total_time_elapsed_missing   | 0.018183432872271976 \n",
      " total_num_actions_missing    | 0.0                  \n",
      " first_device_type_missing    | 0.0                  \n",
      " date_account_created_missing | 0.0                  \n",
      " country_destination_missing  | 0.0                  \n",
      " id_missing                   | 0.0                  \n",
      " booked_missing               | 0.0                  \n",
      "\n"
     ]
    }
   ],
   "source": [
    "# Missing values by booked by column\n",
    "df.groupby(\"booked\").agg(*[\n",
    "    (1 - (fn.count(c) / fn.count('*'))).alias(c + '_missing')\n",
    "    for c in df.columns\n",
    "]).show(vertical = True)"
   ]
  },
  {
   "cell_type": "markdown",
   "metadata": {},
   "source": [
    "Clean up age column"
   ]
  },
  {
   "cell_type": "code",
   "execution_count": 17,
   "metadata": {},
   "outputs": [],
   "source": [
    "# Replace age with nan if outside reasonable range\n",
    "df = df.withColumn(\n",
    "    'age_new', \\\n",
    "    fn.when((df.age > 100) | (df.age < 16), None)\\\n",
    "    .otherwise(df.age)\n",
    ")"
   ]
  },
  {
   "cell_type": "code",
   "execution_count": 18,
   "metadata": {},
   "outputs": [],
   "source": [
    "# Add column indicating whether age is missing or not\n",
    "# Since % missing is higher for those that didn't book\n",
    "# may be a proxy for how effort user has put into updating profile\n",
    "df = df.withColumn(\n",
    "    'age_missing',\n",
    "    fn.when(df.age_new.isNull(), 1)\\\n",
    "    .otherwise(0)\n",
    ")"
   ]
  },
  {
   "cell_type": "code",
   "execution_count": 19,
   "metadata": {},
   "outputs": [
    {
     "name": "stdout",
     "output_type": "stream",
     "text": [
      "+-----------+-----+\n",
      "|age_missing|count|\n",
      "+-----------+-----+\n",
      "|          1|32974|\n",
      "|          0|40841|\n",
      "+-----------+-----+\n",
      "\n"
     ]
    }
   ],
   "source": [
    "df.groupby(\"age_missing\").count().show()"
   ]
  },
  {
   "cell_type": "code",
   "execution_count": 20,
   "metadata": {},
   "outputs": [
    {
     "data": {
      "text/plain": [
       "['age',\n",
       " 'gender',\n",
       " 'signup_method',\n",
       " 'language',\n",
       " 'signup_app',\n",
       " 'total_time_elapsed',\n",
       " 'total_num_actions',\n",
       " 'first_device_type',\n",
       " 'date_account_created',\n",
       " 'country_destination',\n",
       " 'id',\n",
       " 'booked',\n",
       " 'age_new',\n",
       " 'age_missing']"
      ]
     },
     "execution_count": 20,
     "metadata": {},
     "output_type": "execute_result"
    }
   ],
   "source": [
    "df.columns"
   ]
  },
  {
   "cell_type": "code",
   "execution_count": 21,
   "metadata": {},
   "outputs": [
    {
     "name": "stdout",
     "output_type": "stream",
     "text": [
      "+------------------+-----+\n",
      "| first_device_type|count|\n",
      "+------------------+-----+\n",
      "|    Android Tablet|  701|\n",
      "|              iPad| 5238|\n",
      "|            iPhone|10961|\n",
      "|   Windows Desktop|23395|\n",
      "|SmartPhone (Other)|   30|\n",
      "|     Android Phone| 1979|\n",
      "|       Mac Desktop|28029|\n",
      "|     Other/Unknown| 2993|\n",
      "|   Desktop (Other)|  489|\n",
      "+------------------+-----+\n",
      "\n"
     ]
    }
   ],
   "source": [
    "## ALEX ADDITION: Time Elapsed Since Account Creation\n",
    "#check device type\n",
    "df.groupby(\"first_device_type\").count().show()\n"
   ]
  },
  {
   "cell_type": "code",
   "execution_count": 22,
   "metadata": {},
   "outputs": [],
   "source": [
    "# some of the `other` categories are a bit small so combining\n",
    "# Create binary column (booked place or did not)\n",
    "df = df.withColumn(\n",
    "    'first_device_type',\n",
    "    fn.when((df.first_device_type == 'Android Tablet'), 'Android Tablet')\\\n",
    "    .when((df.first_device_type == 'iPad'), 'iPad')\\\n",
    "    .when((df.first_device_type == 'iPhone'), 'iPhone')\\\n",
    "    .when((df.first_device_type == 'Windows Desktop'), 'Windows Desktop')\\\n",
    "    .when((df.first_device_type == 'Android Phone'), 'Android Phone')\\\n",
    "    .when((df.first_device_type == 'Mac Desktop'), 'Mac Desktop')\\\n",
    "    .otherwise(\"Other\")\n",
    ")"
   ]
  },
  {
   "cell_type": "code",
   "execution_count": 23,
   "metadata": {},
   "outputs": [
    {
     "name": "stdout",
     "output_type": "stream",
     "text": [
      "+-----------------+-----+\n",
      "|first_device_type|count|\n",
      "+-----------------+-----+\n",
      "|   Android Tablet|  701|\n",
      "|             iPad| 5238|\n",
      "|           iPhone|10961|\n",
      "|  Windows Desktop|23395|\n",
      "|            Other| 3512|\n",
      "|    Android Phone| 1979|\n",
      "|      Mac Desktop|28029|\n",
      "+-----------------+-----+\n",
      "\n"
     ]
    }
   ],
   "source": [
    "df.groupby(\"first_device_type\").count().show()"
   ]
  },
  {
   "cell_type": "code",
   "execution_count": 24,
   "metadata": {},
   "outputs": [
    {
     "name": "stdout",
     "output_type": "stream",
     "text": [
      "+----+-----+\n",
      "|year|count|\n",
      "+----+-----+\n",
      "|2014|73815|\n",
      "+----+-----+\n",
      "\n"
     ]
    }
   ],
   "source": [
    "df.select(fn.col(\"date_account_created\"),fn.year(fn.col(\"date_account_created\")).alias(\"year\")).groupby(\"year\").count().show()"
   ]
  },
  {
   "cell_type": "markdown",
   "metadata": {},
   "source": [
    "looks like all accounts were created in 2014, so going to use month instead. I thought there would be more variance here."
   ]
  },
  {
   "cell_type": "code",
   "execution_count": 25,
   "metadata": {},
   "outputs": [
    {
     "data": {
      "text/plain": [
       "Text(0.5, 1.0, 'Months Accounts are created in Year 2014')"
      ]
     },
     "execution_count": 25,
     "metadata": {},
     "output_type": "execute_result"
    },
    {
     "data": {
      "image/png": "[encoded data removed]",
      "text/plain": [
       "<Figure size 432x288 with 1 Axes>"
      ]
     },
     "metadata": {
      "needs_background": "light"
     },
     "output_type": "display_data"
    }
   ],
   "source": [
    "# Also going to create a time elapsed variable to get at longer customers\n",
    "import seaborn as sns\n",
    "temp_data = df.select(fn.col(\"date_account_created\"),fn.month(fn.col(\"date_account_created\")).alias(\"month\")).toPandas()\n",
    "sns.histplot(data=temp_data, x=\"month\")\n",
    "plt.title('Months Accounts are created in Year 2014')"
   ]
  },
  {
   "cell_type": "code",
   "execution_count": 26,
   "metadata": {},
   "outputs": [],
   "source": [
    "# Can treat this as a numeric variable since all months are in 2014.\n",
    "df = df.withColumn(\n",
    "    'date_account_created',\n",
    "    fn.month(fn.col(\"date_account_created\")).alias(\"month\")\n",
    ")"
   ]
  },
  {
   "cell_type": "code",
   "execution_count": 27,
   "metadata": {},
   "outputs": [],
   "source": [
    "#Need to rename the variable 'booked' to 'label'\n",
    "df = df.withColumn(\n",
    "    'label',\n",
    "    df['booked']\n",
    ")"
   ]
  },
  {
   "cell_type": "code",
   "execution_count": 28,
   "metadata": {},
   "outputs": [],
   "source": [
    "# Split data into train/test\n",
    "seed = 123\n",
    "train, test = df.randomSplit([.7,.3], seed)"
   ]
  },
  {
   "cell_type": "code",
   "execution_count": 29,
   "metadata": {},
   "outputs": [],
   "source": [
    "# One hot encoding for gender, signup method, language, signup app\n",
    "from pyspark.ml.feature import OneHotEncoder, StringIndexer\n",
    "\n",
    "# Gender\n",
    "gender_idx = StringIndexer(inputCol=\"gender\", outputCol=\"gender_idx\")\n",
    "gender_ohe = OneHotEncoder(inputCol=\"gender_idx\", outputCol=\"gender_vec\")\n",
    "\n",
    "# Signup method\n",
    "signup_method_idx = StringIndexer(inputCol=\"signup_method\", outputCol=\"signup_method_idx\")\n",
    "signup_method_ohe = OneHotEncoder(inputCol=\"signup_method_idx\", outputCol=\"signup_method_vec\")\n",
    "\n",
    "# Language\n",
    "language_idx = StringIndexer(inputCol=\"language\", outputCol=\"language_idx\")\n",
    "language_ohe = OneHotEncoder(inputCol=\"language_idx\", outputCol=\"language_vec\")\n",
    "\n",
    "# Signup app\n",
    "signup_app_idx = StringIndexer(inputCol=\"signup_app\", outputCol=\"signup_app_idx\")\n",
    "signup_app_ohe = OneHotEncoder(inputCol=\"signup_app_idx\", outputCol=\"signup_app_vec\")\n",
    "\n",
    "### Alex Additions ###\n",
    "# First Device Type - Perhaps people browsing on their computer may be more serious about buying vs casual browsing on phone\n",
    "device_idx = StringIndexer(inputCol=\"first_device_type\", outputCol=\"first_device_type_idx\")\n",
    "device_ohe = OneHotEncoder(inputCol=\"first_device_type_idx\", outputCol=\"first_device_type_vec\")"
   ]
  },
  {
   "cell_type": "code",
   "execution_count": 30,
   "metadata": {},
   "outputs": [],
   "source": [
    "# Impute missing values with median\n",
    "from pyspark.ml.feature import Imputer\n",
    "\n",
    "# Age\n",
    "imputer_age = Imputer(\n",
    "    inputCol='age_new', \n",
    "    outputCol='age_new_imputed'\n",
    "    ).setStrategy(\"median\")\n",
    "\n",
    "# Total time elapsed\n",
    "imputer_total_elapsed = Imputer(\n",
    "    inputCol='total_time_elapsed', \n",
    "    outputCol='total_time_elapsed_imputed'\n",
    "    ).setStrategy(\"median\")"
   ]
  },
  {
   "cell_type": "code",
   "execution_count": 34,
   "metadata": {},
   "outputs": [
    {
     "data": {
      "text/plain": [
       "['age',\n",
       " 'gender',\n",
       " 'signup_method',\n",
       " 'language',\n",
       " 'signup_app',\n",
       " 'total_time_elapsed',\n",
       " 'total_num_actions',\n",
       " 'first_device_type',\n",
       " 'date_account_created',\n",
       " 'country_destination',\n",
       " 'id',\n",
       " 'booked',\n",
       " 'age_new',\n",
       " 'age_missing',\n",
       " 'label']"
      ]
     },
     "execution_count": 34,
     "metadata": {},
     "output_type": "execute_result"
    }
   ],
   "source": [
    "df.columns "
   ]
  },
  {
   "cell_type": "markdown",
   "metadata": {},
   "source": [
    "## Data Visualization"
   ]
  },
  {
   "cell_type": "code",
   "execution_count": 32,
   "metadata": {},
   "outputs": [
    {
     "data": {
      "text/plain": [
       "Text(0.5, 1.0, 'Histogram of Age')"
      ]
     },
     "execution_count": 32,
     "metadata": {},
     "output_type": "execute_result"
    },
    {
     "data": {
      "image/png": "[encoded data removed]",
      "text/plain": [
       "<Figure size 432x288 with 1 Axes>"
      ]
     },
     "metadata": {
      "needs_background": "light"
     },
     "output_type": "display_data"
    }
   ],
   "source": [
    "# Histogram of age\n",
    "hists = df.select('age_new').rdd.flatMap(\n",
    "    lambda row: row\n",
    ").histogram(20)\n",
    "\n",
    "data = {\n",
    "    'bins': hists[0][:-1],\n",
    "    'freq': hists[1]\n",
    "}\n",
    "plt.bar(data['bins'], data['freq'], width=5)\n",
    "plt.title('Histogram of Age')"
   ]
  },
  {
   "cell_type": "code",
   "execution_count": null,
   "metadata": {},
   "outputs": [],
   "source": []
  },
  {
   "cell_type": "code",
   "execution_count": null,
   "metadata": {},
   "outputs": [],
   "source": []
  },
  {
   "cell_type": "code",
   "execution_count": null,
   "metadata": {},
   "outputs": [],
   "source": []
  },
  {
   "cell_type": "markdown",
   "metadata": {},
   "source": [
    "## Data Models"
   ]
  },
  {
   "cell_type": "markdown",
   "metadata": {},
   "source": [
    "In this section we use selected features to predict in which country users booked a stay. We use numeric and dummy variables for logistic regression (ridge and lasso), as well as Naive B ....[XXXX]\n",
    "\n",
    "In this section we use numerical features to predict whether a user will book or not with the AirBnB. We are using a simple logistic regression and compute probabilities."
   ]
  },
  {
   "cell_type": "code",
   "execution_count": null,
   "metadata": {},
   "outputs": [],
   "source": [
    "# Prepare the pipeline inputs"
   ]
  },
  {
   "cell_type": "code",
   "execution_count": 35,
   "metadata": {},
   "outputs": [],
   "source": [
    "# Select features\n",
    "features = [\"age_new_imputed\", \"age_missing\",\n",
    "            \"gender_vec\", \"signup_method_vec\", \"language_vec\", \"signup_app_vec\",\n",
    "             \"total_time_elapsed_imputed\", \"total_num_actions\", \"first_device_type_vec\", \"date_account_created\"]\n",
    "\n",
    "from pyspark.ml.feature import VectorAssembler\n",
    "\n",
    "assembler = VectorAssembler(inputCols=features,\n",
    "                            outputCol=\"fts\")"
   ]
  },
  {
   "cell_type": "code",
   "execution_count": 36,
   "metadata": {},
   "outputs": [],
   "source": [
    "# Scale all features\n",
    "from pyspark.ml.feature import MaxAbsScaler\n",
    "# Using maxabsscaler because some OHE features are sparse\n",
    "scaler = MaxAbsScaler(inputCol=\"fts\", outputCol=\"features\")"
   ]
  },
  {
   "cell_type": "markdown",
   "metadata": {},
   "source": [
    "### Model 1: Logistic Regression "
   ]
  },
  {
   "cell_type": "code",
   "execution_count": 80,
   "metadata": {},
   "outputs": [],
   "source": [
    "# Setup logistic regression model\n",
    "max_iterations = 10\n",
    "\n",
    "from pyspark.ml.classification import LogisticRegression\n",
    "\n",
    "lr = LogisticRegression(maxIter=max_iterations,\n",
    "                        featuresCol = 'features',\n",
    "                        labelCol = 'label',\n",
    "                        regParam = 0.3,\n",
    "                        elasticNetParam = 0.8 #penalized logistic regression elasticNetParam = 0.8\n",
    "                        \n",
    "                       )"
   ]
  },
  {
   "cell_type": "code",
   "execution_count": 81,
   "metadata": {},
   "outputs": [],
   "source": [
    "# Configure pipeline\n",
    "from pyspark.ml import Pipeline\n",
    "pipeline = Pipeline(stages=[gender_idx, gender_ohe, \n",
    "                           signup_method_idx, signup_method_ohe,\n",
    "                           language_idx, language_ohe,\n",
    "                           signup_app_idx, signup_app_ohe, device_idx, device_ohe,\n",
    "                           imputer_age, imputer_total_elapsed,\n",
    "                           assembler, scaler,\n",
    "                           lr])"
   ]
  },
  {
   "cell_type": "code",
   "execution_count": 82,
   "metadata": {},
   "outputs": [],
   "source": [
    "# Train model\n",
    "pipeline_model = pipeline.fit(train)"
   ]
  },
  {
   "cell_type": "code",
   "execution_count": 83,
   "metadata": {},
   "outputs": [],
   "source": [
    "# Classify data in test set\n",
    "predictions = pipeline_model.transform(test)"
   ]
  },
  {
   "cell_type": "code",
   "execution_count": 84,
   "metadata": {},
   "outputs": [],
   "source": [
    "# Get AUC\n",
    "from pyspark.ml.evaluation import BinaryClassificationEvaluator\n",
    "evaluator = BinaryClassificationEvaluator(labelCol=\"booked\")\n",
    "auc = evaluator.evaluate(predictions)\n",
    "\n",
    "from pyspark.ml.evaluation import MulticlassClassificationEvaluator\n",
    "evaluatorMulti = MulticlassClassificationEvaluator(labelCol=\"booked\", predictionCol=\"prediction\")"
   ]
  },
  {
   "cell_type": "code",
   "execution_count": 56,
   "metadata": {},
   "outputs": [],
   "source": [
    "# Get metrics\n",
    "accuracy = evaluatorMulti.evaluate(predictions, {evaluatorMulti.metricName: \"accuracy\"})\n",
    "f1 = evaluatorMulti.evaluate(predictions, {evaluatorMulti.metricName: \"f1\"})\n",
    "weightedPrecision = evaluatorMulti.evaluate(predictions, {evaluatorMulti.metricName: \"weightedPrecision\"})\n",
    "weightedRecall = evaluatorMulti.evaluate(predictions, {evaluatorMulti.metricName: \"weightedRecall\"})"
   ]
  },
  {
   "cell_type": "code",
   "execution_count": 57,
   "metadata": {},
   "outputs": [
    {
     "data": {
      "text/html": [
       "<div>\n",
       "<style scoped>\n",
       "    .dataframe tbody tr th:only-of-type {\n",
       "        vertical-align: middle;\n",
       "    }\n",
       "\n",
       "    .dataframe tbody tr th {\n",
       "        vertical-align: top;\n",
       "    }\n",
       "\n",
       "    .dataframe thead th {\n",
       "        text-align: right;\n",
       "    }\n",
       "</style>\n",
       "<table border=\"1\" class=\"dataframe\">\n",
       "  <thead>\n",
       "    <tr style=\"text-align: right;\">\n",
       "      <th></th>\n",
       "      <th>probability</th>\n",
       "      <th>prediction</th>\n",
       "      <th>booked</th>\n",
       "    </tr>\n",
       "  </thead>\n",
       "  <tbody>\n",
       "    <tr>\n",
       "      <th>0</th>\n",
       "      <td>[0.8839755548694519, 0.1160244451305481]</td>\n",
       "      <td>0.0</td>\n",
       "      <td>0</td>\n",
       "    </tr>\n",
       "    <tr>\n",
       "      <th>1</th>\n",
       "      <td>[0.8632526309882185, 0.13674736901178153]</td>\n",
       "      <td>0.0</td>\n",
       "      <td>1</td>\n",
       "    </tr>\n",
       "    <tr>\n",
       "      <th>2</th>\n",
       "      <td>[0.8642670848603585, 0.13573291513964147]</td>\n",
       "      <td>0.0</td>\n",
       "      <td>0</td>\n",
       "    </tr>\n",
       "    <tr>\n",
       "      <th>3</th>\n",
       "      <td>[0.8597332611658636, 0.14026673883413643]</td>\n",
       "      <td>0.0</td>\n",
       "      <td>0</td>\n",
       "    </tr>\n",
       "    <tr>\n",
       "      <th>4</th>\n",
       "      <td>[0.8543629259232044, 0.1456370740767956]</td>\n",
       "      <td>0.0</td>\n",
       "      <td>0</td>\n",
       "    </tr>\n",
       "  </tbody>\n",
       "</table>\n",
       "</div>"
      ],
      "text/plain": [
       "                                 probability  prediction  booked\n",
       "0   [0.8839755548694519, 0.1160244451305481]         0.0       0\n",
       "1  [0.8632526309882185, 0.13674736901178153]         0.0       1\n",
       "2  [0.8642670848603585, 0.13573291513964147]         0.0       0\n",
       "3  [0.8597332611658636, 0.14026673883413643]         0.0       0\n",
       "4   [0.8543629259232044, 0.1456370740767956]         0.0       0"
      ]
     },
     "execution_count": 57,
     "metadata": {},
     "output_type": "execute_result"
    }
   ],
   "source": [
    "# Get coefficients\n",
    "coef = pipeline_model.stages[-1].coefficients\n",
    "\n",
    "df_pred = predictions.select(\"probability\", \"prediction\", \"booked\").toPandas()\n",
    "df_pred.head()"
   ]
  },
  {
   "cell_type": "code",
   "execution_count": 58,
   "metadata": {},
   "outputs": [
    {
     "data": {
      "text/html": [
       "<div>\n",
       "<style scoped>\n",
       "    .dataframe tbody tr th:only-of-type {\n",
       "        vertical-align: middle;\n",
       "    }\n",
       "\n",
       "    .dataframe tbody tr th {\n",
       "        vertical-align: top;\n",
       "    }\n",
       "\n",
       "    .dataframe thead th {\n",
       "        text-align: right;\n",
       "    }\n",
       "</style>\n",
       "<table border=\"1\" class=\"dataframe\">\n",
       "  <thead>\n",
       "    <tr style=\"text-align: right;\">\n",
       "      <th></th>\n",
       "      <th>label</th>\n",
       "      <th>features</th>\n",
       "      <th>prediction</th>\n",
       "      <th>probability</th>\n",
       "    </tr>\n",
       "  </thead>\n",
       "  <tbody>\n",
       "    <tr>\n",
       "      <th>0</th>\n",
       "      <td>0</td>\n",
       "      <td>(0.32, 1.0, 1.0, 0.0, 0.0, 1.0, 0.0, 1.0, 0.0,...</td>\n",
       "      <td>0.0</td>\n",
       "      <td>[0.8839755548694519, 0.1160244451305481]</td>\n",
       "    </tr>\n",
       "    <tr>\n",
       "      <th>1</th>\n",
       "      <td>1</td>\n",
       "      <td>(0.32, 1.0, 1.0, 0.0, 0.0, 1.0, 0.0, 1.0, 0.0,...</td>\n",
       "      <td>0.0</td>\n",
       "      <td>[0.8632526309882185, 0.13674736901178153]</td>\n",
       "    </tr>\n",
       "    <tr>\n",
       "      <th>2</th>\n",
       "      <td>0</td>\n",
       "      <td>(0.32, 1.0, 1.0, 0.0, 0.0, 1.0, 0.0, 1.0, 0.0,...</td>\n",
       "      <td>0.0</td>\n",
       "      <td>[0.8642670848603585, 0.13573291513964147]</td>\n",
       "    </tr>\n",
       "    <tr>\n",
       "      <th>3</th>\n",
       "      <td>0</td>\n",
       "      <td>(0.32, 1.0, 1.0, 0.0, 0.0, 1.0, 0.0, 1.0, 0.0,...</td>\n",
       "      <td>0.0</td>\n",
       "      <td>[0.8597332611658636, 0.14026673883413643]</td>\n",
       "    </tr>\n",
       "    <tr>\n",
       "      <th>4</th>\n",
       "      <td>0</td>\n",
       "      <td>(0.32, 1.0, 1.0, 0.0, 0.0, 1.0, 0.0, 1.0, 0.0,...</td>\n",
       "      <td>0.0</td>\n",
       "      <td>[0.8543629259232044, 0.1456370740767956]</td>\n",
       "    </tr>\n",
       "  </tbody>\n",
       "</table>\n",
       "</div>"
      ],
      "text/plain": [
       "   label                                           features  prediction  \\\n",
       "0      0  (0.32, 1.0, 1.0, 0.0, 0.0, 1.0, 0.0, 1.0, 0.0,...         0.0   \n",
       "1      1  (0.32, 1.0, 1.0, 0.0, 0.0, 1.0, 0.0, 1.0, 0.0,...         0.0   \n",
       "2      0  (0.32, 1.0, 1.0, 0.0, 0.0, 1.0, 0.0, 1.0, 0.0,...         0.0   \n",
       "3      0  (0.32, 1.0, 1.0, 0.0, 0.0, 1.0, 0.0, 1.0, 0.0,...         0.0   \n",
       "4      0  (0.32, 1.0, 1.0, 0.0, 0.0, 1.0, 0.0, 1.0, 0.0,...         0.0   \n",
       "\n",
       "                                 probability  \n",
       "0   [0.8839755548694519, 0.1160244451305481]  \n",
       "1  [0.8632526309882185, 0.13674736901178153]  \n",
       "2  [0.8642670848603585, 0.13573291513964147]  \n",
       "3  [0.8597332611658636, 0.14026673883413643]  \n",
       "4   [0.8543629259232044, 0.1456370740767956]  "
      ]
     },
     "execution_count": 58,
     "metadata": {},
     "output_type": "execute_result"
    }
   ],
   "source": [
    "predictions.select(\"label\", \"features\", \"prediction\", \"probability\").toPandas().head(5)"
   ]
  },
  {
   "cell_type": "code",
   "execution_count": 59,
   "metadata": {},
   "outputs": [],
   "source": [
    "df_pred['prob_booked'] = df_pred['probability'].apply(lambda x: x[1])"
   ]
  },
  {
   "cell_type": "code",
   "execution_count": 60,
   "metadata": {},
   "outputs": [],
   "source": [
    "import pandas as pd\n",
    "df_pred['binned_pred'] = pd.qcut(df_pred['prob_booked'], q = 100, labels = False)"
   ]
  },
  {
   "cell_type": "code",
   "execution_count": 63,
   "metadata": {},
   "outputs": [
    {
     "ename": "NameError",
     "evalue": "name 'df_grpd' is not defined",
     "output_type": "error",
     "traceback": [
      "\u001b[0;31m---------------------------------------------------------------------------\u001b[0m",
      "\u001b[0;31mNameError\u001b[0m                                 Traceback (most recent call last)",
      "\u001b[0;32m<ipython-input-63-31a027d3db64>\u001b[0m in \u001b[0;36m<module>\u001b[0;34m\u001b[0m\n\u001b[0;32m----> 1\u001b[0;31m \u001b[0mdf_grpd\u001b[0m\u001b[0;34m.\u001b[0m\u001b[0mplot\u001b[0m\u001b[0;34m(\u001b[0m\u001b[0;34m)\u001b[0m\u001b[0;34m\u001b[0m\u001b[0;34m\u001b[0m\u001b[0m\n\u001b[0m\u001b[1;32m      2\u001b[0m \u001b[0mplt\u001b[0m\u001b[0;34m.\u001b[0m\u001b[0mxlabel\u001b[0m\u001b[0;34m(\u001b[0m\u001b[0;34m'Predicted Percentile'\u001b[0m\u001b[0;34m)\u001b[0m\u001b[0;34m\u001b[0m\u001b[0;34m\u001b[0m\u001b[0m\n\u001b[1;32m      3\u001b[0m \u001b[0mplt\u001b[0m\u001b[0;34m.\u001b[0m\u001b[0mylabel\u001b[0m\u001b[0;34m(\u001b[0m\u001b[0;34m'Percent Booked'\u001b[0m\u001b[0;34m)\u001b[0m\u001b[0;34m\u001b[0m\u001b[0;34m\u001b[0m\u001b[0m\n\u001b[1;32m      4\u001b[0m \u001b[0mplt\u001b[0m\u001b[0;34m.\u001b[0m\u001b[0mtitle\u001b[0m\u001b[0;34m(\u001b[0m\u001b[0;34m'Percent Booked by Model Prediction'\u001b[0m\u001b[0;34m)\u001b[0m\u001b[0;34m\u001b[0m\u001b[0;34m\u001b[0m\u001b[0m\n",
      "\u001b[0;31mNameError\u001b[0m: name 'df_grpd' is not defined"
     ]
    }
   ],
   "source": [
    "df_grpd.plot()\n",
    "plt.xlabel('Predicted Percentile')\n",
    "plt.ylabel('Percent Booked')\n",
    "plt.title('Percent Booked by Model Prediction')"
   ]
  },
  {
   "cell_type": "markdown",
   "metadata": {},
   "source": [
    "### Model 2: Ridge Regression"
   ]
  },
  {
   "cell_type": "markdown",
   "metadata": {},
   "source": [
    "(featuresCol=\"features\", labelCol=\"label\", predictionCol=\"prediction\", maxIter=100,\n",
    "regParam=0.1, elasticNetParam=0.0, tol=1e-6, fitIntercept=True, standardization=True, solver=\"auto\",\n",
    "weightCol=None, aggregationDepth=2)"
   ]
  },
  {
   "cell_type": "code",
   "execution_count": 68,
   "metadata": {},
   "outputs": [],
   "source": [
    "# Setup Ridge regression model\n",
    "max_iterations = 10\n",
    "\n",
    "from pyspark.ml.classification import LogisticRegression\n",
    "\n",
    "lr_ridge = LogisticRegression(maxIter=max_iterations,\n",
    "                              featuresCol=\"scaledFeatures\", \n",
    "                              labelCol=\"booked\",\n",
    "                              regParam=0.1,\n",
    "                              elasticNetParam=0.0, # Elastic Net Parameter (Ridge = 0, Lasso = 1, Elasticnet inbetween, penalty paramter) \n",
    "                              fitIntercept=True)"
   ]
  },
  {
   "cell_type": "code",
   "execution_count": 69,
   "metadata": {},
   "outputs": [],
   "source": [
    "# Configure pipeline\n",
    "from pyspark.ml import Pipeline\n",
    "pipeline_ridge = Pipeline(stages=[gender_idx, gender_ohe, \n",
    "                           signup_method_idx, signup_method_ohe,\n",
    "                           language_idx, language_ohe,\n",
    "                           signup_app_idx, signup_app_ohe,\n",
    "                           imputer_age, imputer_total_elapsed,\n",
    "                           assembler, scaler,\n",
    "                           lr_ridge])"
   ]
  },
  {
   "cell_type": "code",
   "execution_count": 70,
   "metadata": {},
   "outputs": [],
   "source": [
    "# Train model\n",
    "pipeline_ridge = pipeline.fit(train)"
   ]
  },
  {
   "cell_type": "code",
   "execution_count": 71,
   "metadata": {},
   "outputs": [],
   "source": [
    "# Classify data in test set\n",
    "predictions_ridge = pipeline_ridge.transform(test)"
   ]
  },
  {
   "cell_type": "code",
   "execution_count": 72,
   "metadata": {},
   "outputs": [],
   "source": [
    "# Get AUC\n",
    "from pyspark.ml.evaluation import BinaryClassificationEvaluator\n",
    "evaluator = BinaryClassificationEvaluator(labelCol=\"booked\")\n",
    "auc_ridge = evaluator.evaluate(predictions)\n",
    "\n",
    "from pyspark.ml.evaluation import MulticlassClassificationEvaluator\n",
    "evaluatorMulti = MulticlassClassificationEvaluator(labelCol=\"booked\", predictionCol=\"prediction\")"
   ]
  },
  {
   "cell_type": "code",
   "execution_count": 73,
   "metadata": {},
   "outputs": [],
   "source": [
    "# Get metrics\n",
    "accuracy_ridge = evaluatorMulti.evaluate(predictions, {evaluatorMulti.metricName: \"accuracy\"})\n",
    "f1 = evaluatorMulti.evaluate(predictions, {evaluatorMulti.metricName: \"f1\"})\n",
    "weightedPrecision = evaluatorMulti.evaluate(predictions, {evaluatorMulti.metricName: \"weightedPrecision\"})\n",
    "weightedRecall = evaluatorMulti.evaluate(predictions, {evaluatorMulti.metricName: \"weightedRecall\"})"
   ]
  },
  {
   "cell_type": "code",
   "execution_count": 74,
   "metadata": {},
   "outputs": [
    {
     "data": {
      "text/html": [
       "<div>\n",
       "<style scoped>\n",
       "    .dataframe tbody tr th:only-of-type {\n",
       "        vertical-align: middle;\n",
       "    }\n",
       "\n",
       "    .dataframe tbody tr th {\n",
       "        vertical-align: top;\n",
       "    }\n",
       "\n",
       "    .dataframe thead th {\n",
       "        text-align: right;\n",
       "    }\n",
       "</style>\n",
       "<table border=\"1\" class=\"dataframe\">\n",
       "  <thead>\n",
       "    <tr style=\"text-align: right;\">\n",
       "      <th></th>\n",
       "      <th>probability</th>\n",
       "      <th>prediction</th>\n",
       "      <th>booked</th>\n",
       "    </tr>\n",
       "  </thead>\n",
       "  <tbody>\n",
       "    <tr>\n",
       "      <th>0</th>\n",
       "      <td>[0.8839755548694519, 0.1160244451305481]</td>\n",
       "      <td>0.0</td>\n",
       "      <td>0</td>\n",
       "    </tr>\n",
       "    <tr>\n",
       "      <th>1</th>\n",
       "      <td>[0.8632526309882185, 0.13674736901178153]</td>\n",
       "      <td>0.0</td>\n",
       "      <td>1</td>\n",
       "    </tr>\n",
       "    <tr>\n",
       "      <th>2</th>\n",
       "      <td>[0.8642670848603585, 0.13573291513964147]</td>\n",
       "      <td>0.0</td>\n",
       "      <td>0</td>\n",
       "    </tr>\n",
       "    <tr>\n",
       "      <th>3</th>\n",
       "      <td>[0.8597332611658636, 0.14026673883413643]</td>\n",
       "      <td>0.0</td>\n",
       "      <td>0</td>\n",
       "    </tr>\n",
       "    <tr>\n",
       "      <th>4</th>\n",
       "      <td>[0.8543629259232044, 0.1456370740767956]</td>\n",
       "      <td>0.0</td>\n",
       "      <td>0</td>\n",
       "    </tr>\n",
       "  </tbody>\n",
       "</table>\n",
       "</div>"
      ],
      "text/plain": [
       "                                 probability  prediction  booked\n",
       "0   [0.8839755548694519, 0.1160244451305481]         0.0       0\n",
       "1  [0.8632526309882185, 0.13674736901178153]         0.0       1\n",
       "2  [0.8642670848603585, 0.13573291513964147]         0.0       0\n",
       "3  [0.8597332611658636, 0.14026673883413643]         0.0       0\n",
       "4   [0.8543629259232044, 0.1456370740767956]         0.0       0"
      ]
     },
     "execution_count": 74,
     "metadata": {},
     "output_type": "execute_result"
    }
   ],
   "source": [
    "# Get coefficients\n",
    "coef_ridge = pipeline_ridge.stages[-1].coefficients\n",
    "\n",
    "df_pred = predictions_ridge.select(\"probability\", \"prediction\", \"booked\").toPandas()\n",
    "df_pred.head()"
   ]
  },
  {
   "cell_type": "code",
   "execution_count": 76,
   "metadata": {},
   "outputs": [],
   "source": [
    "df_pred['prob_booked'] = df_pred['probability'].apply(lambda x: x[1])"
   ]
  },
  {
   "cell_type": "code",
   "execution_count": 77,
   "metadata": {},
   "outputs": [],
   "source": [
    "import pandas as pd\n",
    "df_pred['binned_pred'] = pd.qcut(df_pred['prob_booked'], q = 100, labels = False)"
   ]
  },
  {
   "cell_type": "code",
   "execution_count": null,
   "metadata": {},
   "outputs": [],
   "source": []
  },
  {
   "cell_type": "markdown",
   "metadata": {},
   "source": [
    "### Logistic and Ridge"
   ]
  },
  {
   "cell_type": "code",
   "execution_count": 85,
   "metadata": {},
   "outputs": [
    {
     "data": {
      "text/html": [
       "<div>\n",
       "<style scoped>\n",
       "    .dataframe tbody tr th:only-of-type {\n",
       "        vertical-align: middle;\n",
       "    }\n",
       "\n",
       "    .dataframe tbody tr th {\n",
       "        vertical-align: top;\n",
       "    }\n",
       "\n",
       "    .dataframe thead th {\n",
       "        text-align: right;\n",
       "    }\n",
       "</style>\n",
       "<table border=\"1\" class=\"dataframe\">\n",
       "  <thead>\n",
       "    <tr style=\"text-align: right;\">\n",
       "      <th></th>\n",
       "      <th>Model</th>\n",
       "      <th>AUC</th>\n",
       "    </tr>\n",
       "  </thead>\n",
       "  <tbody>\n",
       "    <tr>\n",
       "      <th>0</th>\n",
       "      <td>Logistic</td>\n",
       "      <td>0.500000</td>\n",
       "    </tr>\n",
       "    <tr>\n",
       "      <th>1</th>\n",
       "      <td>Ridge</td>\n",
       "      <td>0.761051</td>\n",
       "    </tr>\n",
       "  </tbody>\n",
       "</table>\n",
       "</div>"
      ],
      "text/plain": [
       "      Model       AUC\n",
       "0  Logistic  0.500000\n",
       "1     Ridge  0.761051"
      ]
     },
     "execution_count": 85,
     "metadata": {},
     "output_type": "execute_result"
    }
   ],
   "source": [
    "import pandas as pd\n",
    "\n",
    "pd.DataFrame({\n",
    "    \"Model\" : [\n",
    "        \"Logistic\",\n",
    "        \"Ridge\",\n",
    "        ],\n",
    "    \"AUC\" : [\n",
    "        auc,\n",
    "        auc_ridge]\n",
    "})"
   ]
  },
  {
   "cell_type": "markdown",
   "metadata": {},
   "source": [
    "### Model 2: LASSO Regression"
   ]
  },
  {
   "cell_type": "markdown",
   "metadata": {},
   "source": [
    "LinearRegression(featuresCol=\"features\", labelCol=\"label\", predictionCol=\"prediction\", maxIter=100,\n",
    "regParam=0.0, elasticNetParam=0.0, tol=1e-6, fitIntercept=True, standardization=True, solver=\"auto\",\n",
    "weightCol=None, aggregationDepth=2)"
   ]
  },
  {
   "cell_type": "code",
   "execution_count": null,
   "metadata": {},
   "outputs": [],
   "source": [
    "# Setup Lasso regression model\n",
    "max_iterations = 10\n",
    "\n",
    "from pyspark.ml.classification import LogisticRegression\n",
    "\n",
    "lr_ridge = LogisticRegression(maxIter=max_iterations,\n",
    "                              featuresCol=\"scaledFeatures\", \n",
    "                              labelCol=\"booked\",\n",
    "                              regParam=0.0,\n",
    "                              elasticNetParam=1,\n",
    "                              fitIntercept=True)"
   ]
  },
  {
   "cell_type": "code",
   "execution_count": null,
   "metadata": {},
   "outputs": [],
   "source": []
  },
  {
   "cell_type": "markdown",
   "metadata": {},
   "source": [
    "## Cross validation logistic regression"
   ]
  },
  {
   "cell_type": "code",
   "execution_count": 37,
   "metadata": {},
   "outputs": [
    {
     "name": "stdout",
     "output_type": "stream",
     "text": [
      "------------------------------\n",
      "paramGrid [{Param(parent='LogisticRegression_5eb5731d22f4', name='elasticNetParam', doc='the ElasticNet mixing parameter, in range [0, 1]. For alpha = 0, the penalty is an L2 penalty. For alpha = 1, it is an L1 penalty.'): 1.0}, {Param(parent='LogisticRegression_5eb5731d22f4', name='elasticNetParam', doc='the ElasticNet mixing parameter, in range [0, 1]. For alpha = 0, the penalty is an L2 penalty. For alpha = 1, it is an L1 penalty.'): 0.5}, {Param(parent='LogisticRegression_5eb5731d22f4', name='elasticNetParam', doc='the ElasticNet mixing parameter, in range [0, 1]. For alpha = 0, the penalty is an L2 penalty. For alpha = 1, it is an L1 penalty.'): 0.1}, {Param(parent='LogisticRegression_5eb5731d22f4', name='elasticNetParam', doc='the ElasticNet mixing parameter, in range [0, 1]. For alpha = 0, the penalty is an L2 penalty. For alpha = 1, it is an L1 penalty.'): 0.01}, {Param(parent='LogisticRegression_5eb5731d22f4', name='elasticNetParam', doc='the ElasticNet mixing parameter, in range [0, 1]. For alpha = 0, the penalty is an L2 penalty. For alpha = 1, it is an L1 penalty.'): 0.0}] \n",
      "\n",
      "len(paramGrid): 5\n",
      "------------------------------\n",
      "train time: 1209.661659002304\n",
      "------------------------------\n",
      "elastic net 1 to elastic net 0.01\n",
      "[0.7579579105271874, 0.7579583856346788, 0.7579607975131721, 0.7579566035734275, 0.757957627286034]\n"
     ]
    }
   ],
   "source": [
    "from pyspark.ml.evaluation import BinaryClassificationEvaluator\n",
    "from pyspark.ml.tuning import CrossValidator, ParamGridBuilder\n",
    "\n",
    "# Set up the parameter grid\n",
    "paramGrid = ParamGridBuilder() \\\n",
    "    .addGrid(lr.elasticNetParam, [1, 0.5, 0.1, 0.01, 0]) \\\n",
    "    .build()\n",
    "\n",
    "print('-'*30)\n",
    "print('paramGrid', paramGrid, '\\n')\n",
    "print('len(paramGrid): {}'.format(len(paramGrid)))\n",
    "print('-'*30)\n",
    "\n",
    "crossval = CrossValidator(estimator=pipeline,\n",
    "                          estimatorParamMaps=paramGrid,\n",
    "                          evaluator=BinaryClassificationEvaluator(),\n",
    "                          numFolds=3,\n",
    "                          seed=1)\n",
    "import time\n",
    "t0 = time.time()\n",
    "cv_model_lr = crossval.fit(df)\n",
    "print(\"train time:\", time.time() - t0)\n",
    "print('-'*30)\n",
    "print(\"elastic net 1\", \"to elastic net 0.01\")\n",
    "print(cv_model_lr.avgMetrics)"
   ]
  },
  {
   "cell_type": "markdown",
   "metadata": {},
   "source": [
    "### Model 2: Random Forest "
   ]
  },
  {
   "cell_type": "code",
   "execution_count": 92,
   "metadata": {},
   "outputs": [],
   "source": [
    "from pyspark.ml.classification import RandomForestClassifier\n",
    "\n",
    "rf = RandomForestClassifier(\n",
    "    featuresCol = 'features',\n",
    "    labelCol = 'label'\n",
    ")"
   ]
  },
  {
   "cell_type": "code",
   "execution_count": null,
   "metadata": {},
   "outputs": [
    {
     "name": "stdout",
     "output_type": "stream",
     "text": [
      "------------------------------\n",
      "paramGrid [{Param(parent='RandomForestClassifier_9c132f702e08', name='numTrees', doc='Number of trees to train (>= 1).'): 5, Param(parent='RandomForestClassifier_9c132f702e08', name='maxDepth', doc='Maximum depth of the tree. (>= 0) E.g., depth 0 means 1 leaf node; depth 1 means 1 internal node + 2 leaf nodes.'): 3}, {Param(parent='RandomForestClassifier_9c132f702e08', name='numTrees', doc='Number of trees to train (>= 1).'): 5, Param(parent='RandomForestClassifier_9c132f702e08', name='maxDepth', doc='Maximum depth of the tree. (>= 0) E.g., depth 0 means 1 leaf node; depth 1 means 1 internal node + 2 leaf nodes.'): 5}, {Param(parent='RandomForestClassifier_9c132f702e08', name='numTrees', doc='Number of trees to train (>= 1).'): 5, Param(parent='RandomForestClassifier_9c132f702e08', name='maxDepth', doc='Maximum depth of the tree. (>= 0) E.g., depth 0 means 1 leaf node; depth 1 means 1 internal node + 2 leaf nodes.'): 6}, {Param(parent='RandomForestClassifier_9c132f702e08', name='numTrees', doc='Number of trees to train (>= 1).'): 20, Param(parent='RandomForestClassifier_9c132f702e08', name='maxDepth', doc='Maximum depth of the tree. (>= 0) E.g., depth 0 means 1 leaf node; depth 1 means 1 internal node + 2 leaf nodes.'): 3}, {Param(parent='RandomForestClassifier_9c132f702e08', name='numTrees', doc='Number of trees to train (>= 1).'): 20, Param(parent='RandomForestClassifier_9c132f702e08', name='maxDepth', doc='Maximum depth of the tree. (>= 0) E.g., depth 0 means 1 leaf node; depth 1 means 1 internal node + 2 leaf nodes.'): 5}, {Param(parent='RandomForestClassifier_9c132f702e08', name='numTrees', doc='Number of trees to train (>= 1).'): 20, Param(parent='RandomForestClassifier_9c132f702e08', name='maxDepth', doc='Maximum depth of the tree. (>= 0) E.g., depth 0 means 1 leaf node; depth 1 means 1 internal node + 2 leaf nodes.'): 6}, {Param(parent='RandomForestClassifier_9c132f702e08', name='numTrees', doc='Number of trees to train (>= 1).'): 50, Param(parent='RandomForestClassifier_9c132f702e08', name='maxDepth', doc='Maximum depth of the tree. (>= 0) E.g., depth 0 means 1 leaf node; depth 1 means 1 internal node + 2 leaf nodes.'): 3}, {Param(parent='RandomForestClassifier_9c132f702e08', name='numTrees', doc='Number of trees to train (>= 1).'): 50, Param(parent='RandomForestClassifier_9c132f702e08', name='maxDepth', doc='Maximum depth of the tree. (>= 0) E.g., depth 0 means 1 leaf node; depth 1 means 1 internal node + 2 leaf nodes.'): 5}, {Param(parent='RandomForestClassifier_9c132f702e08', name='numTrees', doc='Number of trees to train (>= 1).'): 50, Param(parent='RandomForestClassifier_9c132f702e08', name='maxDepth', doc='Maximum depth of the tree. (>= 0) E.g., depth 0 means 1 leaf node; depth 1 means 1 internal node + 2 leaf nodes.'): 6}] \n",
      "\n",
      "len(paramGrid): 9\n",
      "------------------------------\n"
     ]
    }
   ],
   "source": [
    "pipeline_rf = Pipeline(stages=[gender_idx, gender_ohe, \n",
    "                           signup_method_idx, signup_method_ohe,\n",
    "                           language_idx, language_ohe,\n",
    "                           signup_app_idx, signup_app_ohe, device_idx, device_ohe,\n",
    "                           imputer_age, imputer_total_elapsed,\n",
    "                           assembler, scaler,\n",
    "                           rf])\n",
    "\n",
    "# Set up the parameter grid\n",
    "paramGrid = ParamGridBuilder() \\\n",
    "    .addGrid(rf.numTrees, [5, 20, 50]) \\\n",
    "    .addGrid(rf.maxDepth, [3,5,6]) \\\n",
    "    .build()\n",
    "\n",
    "print('-'*30)\n",
    "print('paramGrid', paramGrid, '\\n')\n",
    "print('len(paramGrid): {}'.format(len(paramGrid)))\n",
    "print('-'*30)\n",
    "\n",
    "crossval = CrossValidator(estimator=pipeline_rf,\n",
    "                          estimatorParamMaps=paramGrid,\n",
    "                          evaluator=BinaryClassificationEvaluator(),\n",
    "                          numFolds=3,\n",
    "                          seed=1)\n",
    "\n",
    "t0 = time.time()\n",
    "cv_model_rf = crossval.fit(df)\n",
    "print(\"train time:\", time.time() - t0)\n",
    "print('-'*30)\n",
    "print(cv_model_rf.avgMetrics)"
   ]
  },
  {
   "cell_type": "markdown",
   "metadata": {},
   "source": [
    "### Model 3: Naive Bayes"
   ]
  },
  {
   "cell_type": "code",
   "execution_count": null,
   "metadata": {},
   "outputs": [],
   "source": [
    "from pyspark.ml.classification import NaiveBayes\n",
    "\n",
    "nb = NaiveBayes(\n",
    "    featuresCol = 'features',\n",
    "    labelCol = 'label'\n",
    ")\n",
    "\n",
    "pipeline_bayes = Pipeline(stages=[gender_idx, gender_ohe, \n",
    "                           signup_method_idx, signup_method_ohe,\n",
    "                           language_idx, language_ohe,\n",
    "                           signup_app_idx, signup_app_ohe, device_idx, device_ohe,\n",
    "                           imputer_age, imputer_total_elapsed,\n",
    "                           assembler, scaler,\n",
    "                           nb])\n",
    "\n",
    "# Set up the parameter grid\n",
    "paramGrid = ParamGridBuilder() \\\n",
    "    .addGrid(nb.smoothing, [0, 0.5, 1, 5]) \\\n",
    "    .build()\n",
    "\n",
    "print('-'*30)\n",
    "print('paramGrid', paramGrid, '\\n')\n",
    "print('len(paramGrid): {}'.format(len(paramGrid)))\n",
    "print('-'*30)\n",
    "\n",
    "crossval = CrossValidator(estimator=pipeline_bayes,\n",
    "                          estimatorParamMaps=paramGrid,\n",
    "                          evaluator=BinaryClassificationEvaluator(),\n",
    "                          numFolds=3,\n",
    "                          seed=1)\n",
    "\n",
    "t0 = time.time()\n",
    "cv_model_bayes = crossval.fit(df)\n",
    "print(\"train time:\", time.time() - t0)\n",
    "print('-'*30)\n",
    "print(cv_model_bayes.avgMetrics)"
   ]
  },
  {
   "cell_type": "code",
   "execution_count": null,
   "metadata": {},
   "outputs": [],
   "source": [
    "from pyspark.ml.classification import GBTClassifier\n",
    "\n",
    "gbt = GBTClassifier(\n",
    "    featuresCol = 'features',\n",
    "    labelCol = 'label',\n",
    "    maxIter = 5\n",
    ")\n",
    "\n",
    "pipeline_gbt = Pipeline(stages=[gender_idx, gender_ohe, \n",
    "                           signup_method_idx, signup_method_ohe,\n",
    "                           language_idx, language_ohe,\n",
    "                           signup_app_idx, signup_app_ohe, device_idx, device_ohe,\n",
    "                           imputer_age, imputer_total_elapsed,\n",
    "                           assembler, scaler,\n",
    "                           gbt])\n",
    "\n",
    "# Set up the parameter grid\n",
    "paramGrid = ParamGridBuilder() \\\n",
    "    .addGrid(gbt.maxDepth, [3, 5, 6]) \\ # ER need to change AttributeError: 'GBTClassifier' object has no attribute 'max_depth' need to use 'maxDepth'\n",
    "    .addGrid(gbt.minWeightFractionPerNode, [0, 0.01, 0.1]) \\\n",
    "    .build()\n",
    "\n",
    "print('-'*30)\n",
    "print('paramGrid', paramGrid, '\\n')\n",
    "print('len(paramGrid): {}'.format(len(paramGrid)))\n",
    "print('-'*30)\n",
    "\n",
    "crossval = CrossValidator(estimator=pipeline_gbt,\n",
    "                          estimatorParamMaps=paramGrid,\n",
    "                          evaluator=BinaryClassificationEvaluator(),\n",
    "                          numFolds=3,\n",
    "                          seed=1)\n",
    "\n",
    "t0 = time.time()\n",
    "cv_model_gbt = crossval.fit(df)\n",
    "print(\"train time:\", time.time() - t0)\n",
    "print('-'*30)\n",
    "print(cv_model_gbt.avgMetrics)"
   ]
  },
  {
   "cell_type": "code",
   "execution_count": null,
   "metadata": {},
   "outputs": [],
   "source": [
    "import pandas as pd\n",
    "\n",
    "# ER to check TypeError: 'int' object is not iterable\n",
    "\n",
    "pd.DataFrame({\n",
    "    \"Model\" : [\n",
    "        \"Lasso\",\n",
    "        \"Ridge\",\n",
    "        \"Naive Bayes\",\n",
    "        \"Random Forest\",\n",
    "        \"GBT\"\n",
    "    ],\n",
    "    \"AUC\" : [\n",
    "        cv_model_lr.avgMetrics[0],\n",
    "        cv_model_lr.avgMetrics[max(len(cv_model_lr.avgMetrics))],\n",
    "        max(cv_model_nb.avgMetrics),\n",
    "        max(cv_model_rf.avgMetrics),\n",
    "        max(cv_model_gbt.avgMetrics)\n",
    "    ]\n",
    "})"
   ]
  },
  {
   "cell_type": "code",
   "execution_count": null,
   "metadata": {},
   "outputs": [],
   "source": [
    "import pandas as pd\n",
    "\n",
    "# ER to check TypeError: 'int' object is not iterable\n",
    "\n",
    "pd.DataFrame({\n",
    "    \"Model\" : [\n",
    "        \"Logistic\",\n",
    "        \"Ridge\",\n",
    "        \"Naive Bayes\",\n",
    "        \"Random Forest\",\n",
    "        \"GBT\"\n",
    "    ],\n",
    "    \"AUC\" : [\n",
    "        auc,\n",
    "        auc_ridge],\n",
    "        max(cv_model_nb.avgMetrics),\n",
    "        max(cv_model_rf.avgMetrics),\n",
    "        max(cv_model_gbt.avgMetrics)\n",
    "    ]\n",
    "})"
   ]
  }
 ],
 "metadata": {
  "kernelspec": {
   "display_name": "DS 5110 Spark 3.1",
   "language": "python",
   "name": "ds5110_spark3.1"
  },
  "language_info": {
   "codemirror_mode": {
    "name": "ipython",
    "version": 3
   },
   "file_extension": ".py",
   "mimetype": "text/x-python",
   "name": "python",
   "nbconvert_exporter": "python",
   "pygments_lexer": "ipython3",
   "version": "3.7.10"
  }
 },
 "nbformat": 4,
 "nbformat_minor": 4
}
