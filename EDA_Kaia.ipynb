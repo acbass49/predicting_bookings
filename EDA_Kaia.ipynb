{
 "cells": [
  {
   "cell_type": "markdown",
   "metadata": {},
   "source": [
    "# Airbnb EDA\n",
    "\n",
    "Kaia Lindberg (pkx2ec)\n",
    "\n"
   ]
  },
  {
   "cell_type": "markdown",
   "metadata": {},
   "source": [
    "## 5.10 Final Project Ungraded Assignment\n",
    "At this point in the course, you should be training and evaluating models. Please create a Jupyter Notebook containing a concise summary of your dataset (described in submission instructions).  \n",
    "\n",
    "At a minimum, the file should include a summary containing:\n",
    "\n",
    "- Number of records\n",
    "- Number of columns\n",
    "- Statistical summary of response variable\n",
    "- Statistical summary of potential predictor variables (if there are a large number of predictors, select the top 10)\n",
    "    - Note: Summarize categorical variables with counts and percentages for each level and summarize numerical variables with mean/quantiles/standard deviation.\n",
    "- Include up to five helpful graphs"
   ]
  },
  {
   "cell_type": "code",
   "execution_count": 53,
   "metadata": {},
   "outputs": [],
   "source": [
    "# Imports\n",
    "import os\n",
    "from pyspark.sql import SparkSession\n",
    "from pyspark.sql.types import StructType, StructField, StringType, IntegerType, DoubleType\n",
    "from pyspark.sql.functions import col, desc\n"
   ]
  },
  {
   "cell_type": "code",
   "execution_count": 36,
   "metadata": {},
   "outputs": [],
   "source": [
    "# Start spark session\n",
    "spark = SparkSession.builder.getOrCreate()\n"
   ]
  },
  {
   "cell_type": "markdown",
   "metadata": {},
   "source": [
    "### Users Dataset"
   ]
  },
  {
   "cell_type": "code",
   "execution_count": 37,
   "metadata": {},
   "outputs": [],
   "source": [
    "# Define schema for data\n",
    "schema = StructType() \\\n",
    "      .add(\"id\",StringType(),True) \\\n",
    "      .add(\"date_account_created\",StringType(),True) \\\n",
    "      .add(\"timestamp_first_active\",DoubleType(),True) \\\n",
    "      .add(\"date_first_booking\",StringType(),True) \\\n",
    "      .add(\"gender\",StringType(),True) \\\n",
    "      .add(\"age\",DoubleType(),True) \\\n",
    "      .add(\"signup_method\",StringType(),True) \\\n",
    "      .add(\"signup_flow\",IntegerType(),True) \\\n",
    "      .add(\"language\",StringType(),True) \\\n",
    "      .add(\"affiliate_channel\",StringType(),True) \\\n",
    "      .add(\"affiliate_provider\",StringType(),True) \\\n",
    "      .add(\"first_affiliate_tracked\",StringType(),True) \\\n",
    "      .add(\"signup_app\",StringType(),True) \\\n",
    "      .add(\"first_device_type\",StringType(),True) \\\n",
    "      .add(\"first_browser\",StringType(),True) \\\n",
    "      .add(\"country_destination\",StringType(),True)"
   ]
  },
  {
   "cell_type": "code",
   "execution_count": 38,
   "metadata": {},
   "outputs": [],
   "source": [
    "# Lists of columns\n",
    "response_col = \"country_destination\"\n",
    "id_col = \"id\"\n",
    "categorical_cols = [\"gender\", \"signup_method\", \"language\", \n",
    "                    \"affiliate_channel\", \"affiliate_provider\", \"first_affiliate_tracked\",\n",
    "                    \"signup_app\", \"first_device_type\", \"first_browser\"]\n",
    "numeric_cols = [\"timestamp_first_active\", \"age\", \"signup_flow\", ]\n",
    "date_cols = [\"date_account_created\", \"date_first_booking\"]\n"
   ]
  },
  {
   "cell_type": "code",
   "execution_count": null,
   "metadata": {},
   "outputs": [],
   "source": []
  },
  {
   "cell_type": "code",
   "execution_count": 39,
   "metadata": {},
   "outputs": [],
   "source": [
    "# Read data in json format\n",
    "df = spark.read.option(\"header\",True).csv(\"./data/train_users_2.csv\", schema)\n"
   ]
  },
  {
   "cell_type": "code",
   "execution_count": 40,
   "metadata": {},
   "outputs": [
    {
     "name": "stdout",
     "output_type": "stream",
     "text": [
      "+----------+--------------------+----------------------+------------------+---------+----+-------------+-----------+--------+-----------------+------------------+-----------------------+----------+-----------------+-------------+-------------------+\n",
      "|        id|date_account_created|timestamp_first_active|date_first_booking|   gender| age|signup_method|signup_flow|language|affiliate_channel|affiliate_provider|first_affiliate_tracked|signup_app|first_device_type|first_browser|country_destination|\n",
      "+----------+--------------------+----------------------+------------------+---------+----+-------------+-----------+--------+-----------------+------------------+-----------------------+----------+-----------------+-------------+-------------------+\n",
      "|gxn3p5htnn|          2010-06-28|    2.0090319043255E13|              null|-unknown-|null|     facebook|          0|      en|           direct|            direct|              untracked|       Web|      Mac Desktop|       Chrome|                NDF|\n",
      "|820tgsjxq7|          2011-05-25|    2.0090523174809E13|              null|     MALE|38.0|     facebook|          0|      en|              seo|            google|              untracked|       Web|      Mac Desktop|       Chrome|                NDF|\n",
      "+----------+--------------------+----------------------+------------------+---------+----+-------------+-----------+--------+-----------------+------------------+-----------------------+----------+-----------------+-------------+-------------------+\n",
      "only showing top 2 rows\n",
      "\n"
     ]
    }
   ],
   "source": [
    "df.show(2)"
   ]
  },
  {
   "cell_type": "code",
   "execution_count": 41,
   "metadata": {},
   "outputs": [
    {
     "name": "stdout",
     "output_type": "stream",
     "text": [
      "root\n",
      " |-- id: string (nullable = true)\n",
      " |-- date_account_created: string (nullable = true)\n",
      " |-- timestamp_first_active: double (nullable = true)\n",
      " |-- date_first_booking: string (nullable = true)\n",
      " |-- gender: string (nullable = true)\n",
      " |-- age: double (nullable = true)\n",
      " |-- signup_method: string (nullable = true)\n",
      " |-- signup_flow: integer (nullable = true)\n",
      " |-- language: string (nullable = true)\n",
      " |-- affiliate_channel: string (nullable = true)\n",
      " |-- affiliate_provider: string (nullable = true)\n",
      " |-- first_affiliate_tracked: string (nullable = true)\n",
      " |-- signup_app: string (nullable = true)\n",
      " |-- first_device_type: string (nullable = true)\n",
      " |-- first_browser: string (nullable = true)\n",
      " |-- country_destination: string (nullable = true)\n",
      "\n"
     ]
    }
   ],
   "source": [
    "df.printSchema()"
   ]
  },
  {
   "cell_type": "code",
   "execution_count": 42,
   "metadata": {},
   "outputs": [
    {
     "data": {
      "text/plain": [
       "213451"
      ]
     },
     "execution_count": 42,
     "metadata": {},
     "output_type": "execute_result"
    }
   ],
   "source": [
    "# Count number of records\n",
    "df.count()"
   ]
  },
  {
   "cell_type": "code",
   "execution_count": 43,
   "metadata": {},
   "outputs": [
    {
     "data": {
      "text/plain": [
       "16"
      ]
     },
     "execution_count": 43,
     "metadata": {},
     "output_type": "execute_result"
    }
   ],
   "source": [
    "# Number of columns\n",
    "len(df.columns)"
   ]
  },
  {
   "cell_type": "code",
   "execution_count": 44,
   "metadata": {},
   "outputs": [
    {
     "name": "stdout",
     "output_type": "stream",
     "text": [
      "+-------------------+------+\n",
      "|country_destination| count|\n",
      "+-------------------+------+\n",
      "|                 NL|   762|\n",
      "|                 PT|   217|\n",
      "|                 AU|   539|\n",
      "|                 CA|  1428|\n",
      "|                 GB|  2324|\n",
      "|              other| 10094|\n",
      "|                 DE|  1061|\n",
      "|                 ES|  2249|\n",
      "|                 US| 62376|\n",
      "|                 FR|  5023|\n",
      "|                NDF|124543|\n",
      "|                 IT|  2835|\n",
      "+-------------------+------+\n",
      "\n"
     ]
    }
   ],
   "source": [
    "# Statistical summary of response variable\n",
    "df.groupBy('country_destination').count().show()"
   ]
  },
  {
   "cell_type": "markdown",
   "metadata": {},
   "source": [
    "There are 12 different destinations. The most common is NDF, no destination found, meaning that the user did not book a place. The second most common, and most common actual country destination, is the United States. Other is also a common, but pretty broad category. "
   ]
  },
  {
   "cell_type": "code",
   "execution_count": 45,
   "metadata": {},
   "outputs": [
    {
     "name": "stdout",
     "output_type": "stream",
     "text": [
      "+----------------------+----+-----------+\n",
      "|timestamp_first_active| age|signup_flow|\n",
      "+----------------------+----+-----------+\n",
      "|    2.0090319043255E13|null|          0|\n",
      "|    2.0090523174809E13|38.0|          0|\n",
      "|    2.0090609231247E13|56.0|          3|\n",
      "+----------------------+----+-----------+\n",
      "only showing top 3 rows\n",
      "\n"
     ]
    }
   ],
   "source": [
    "df.select(numeric_cols).show(3)"
   ]
  },
  {
   "cell_type": "code",
   "execution_count": 49,
   "metadata": {},
   "outputs": [
    {
     "name": "stdout",
     "output_type": "stream",
     "text": [
      "+-------+----------------------+------------------+------------------+\n",
      "|summary|timestamp_first_active|               age|       signup_flow|\n",
      "+-------+----------------------+------------------+------------------+\n",
      "|  count|                213451|            125461|            213451|\n",
      "|   mean|  2.013085041736745...| 49.66833517985669|3.2673868944160485|\n",
      "| stddev|   9.253717046788992E9|155.66661183021571|  7.63770686943505|\n",
      "|    min|    2.0090319043255E13|               1.0|                 0|\n",
      "|    25%|     2.012122504391E13|              28.0|                 0|\n",
      "|    50%|    2.0130911053924E13|              34.0|                 0|\n",
      "|    75%|    2.0140306074825E13|              43.0|                 0|\n",
      "|    max|    2.0140630235824E13|            2014.0|                25|\n",
      "+-------+----------------------+------------------+------------------+\n",
      "\n"
     ]
    }
   ],
   "source": [
    "# Statistical summary of numeric columns\n",
    "df.select(numeric_cols).summary().show()"
   ]
  },
  {
   "cell_type": "markdown",
   "metadata": {},
   "source": [
    "Note illogical min age of 1 and max age of 2014."
   ]
  },
  {
   "cell_type": "code",
   "execution_count": 57,
   "metadata": {},
   "outputs": [
    {
     "name": "stdout",
     "output_type": "stream",
     "text": [
      "gender\n",
      "+---------+-----+\n",
      "|   gender|count|\n",
      "+---------+-----+\n",
      "|-unknown-|95688|\n",
      "|   FEMALE|63041|\n",
      "|     MALE|54440|\n",
      "|    OTHER|  282|\n",
      "+---------+-----+\n",
      "\n",
      "signup_method\n",
      "+-------------+------+\n",
      "|signup_method| count|\n",
      "+-------------+------+\n",
      "|        basic|152897|\n",
      "|     facebook| 60008|\n",
      "|       google|   546|\n",
      "+-------------+------+\n",
      "\n",
      "language\n",
      "+--------+------+\n",
      "|language| count|\n",
      "+--------+------+\n",
      "|      en|206314|\n",
      "|      zh|  1632|\n",
      "|      fr|  1172|\n",
      "|      es|   915|\n",
      "|      ko|   747|\n",
      "|      de|   732|\n",
      "|      it|   514|\n",
      "|      ru|   389|\n",
      "|      pt|   240|\n",
      "|      ja|   225|\n",
      "|      sv|   122|\n",
      "|      nl|    97|\n",
      "|      tr|    64|\n",
      "|      da|    58|\n",
      "|      pl|    54|\n",
      "|      cs|    32|\n",
      "|      no|    30|\n",
      "|      th|    24|\n",
      "|      el|    24|\n",
      "|      id|    22|\n",
      "+--------+------+\n",
      "only showing top 20 rows\n",
      "\n",
      "affiliate_channel\n",
      "+-----------------+------+\n",
      "|affiliate_channel| count|\n",
      "+-----------------+------+\n",
      "|           direct|137727|\n",
      "|        sem-brand| 26045|\n",
      "|    sem-non-brand| 18844|\n",
      "|            other|  8961|\n",
      "|              seo|  8663|\n",
      "|              api|  8167|\n",
      "|          content|  3948|\n",
      "|      remarketing|  1096|\n",
      "+-----------------+------+\n",
      "\n",
      "affiliate_provider\n",
      "+-------------------+------+\n",
      "| affiliate_provider| count|\n",
      "+-------------------+------+\n",
      "|             direct|137426|\n",
      "|             google| 51693|\n",
      "|              other| 12549|\n",
      "|         craigslist|  3471|\n",
      "|               bing|  2328|\n",
      "|           facebook|  2273|\n",
      "|               vast|   829|\n",
      "|          padmapper|   768|\n",
      "|facebook-open-graph|   545|\n",
      "|              yahoo|   496|\n",
      "|                gsp|   453|\n",
      "|             meetup|   347|\n",
      "|    email-marketing|   166|\n",
      "|              naver|    52|\n",
      "|              baidu|    29|\n",
      "|             yandex|    17|\n",
      "|               wayn|     8|\n",
      "|               daum|     1|\n",
      "+-------------------+------+\n",
      "\n",
      "first_affiliate_tracked\n",
      "+-----------------------+------+\n",
      "|first_affiliate_tracked| count|\n",
      "+-----------------------+------+\n",
      "|              untracked|109232|\n",
      "|                 linked| 46287|\n",
      "|                    omg| 43982|\n",
      "|          tracked-other|  6156|\n",
      "|                   null|  6065|\n",
      "|                product|  1556|\n",
      "|              marketing|   139|\n",
      "|              local ops|    34|\n",
      "+-----------------------+------+\n",
      "\n",
      "signup_app\n",
      "+----------+------+\n",
      "|signup_app| count|\n",
      "+----------+------+\n",
      "|       Web|182717|\n",
      "|       iOS| 19019|\n",
      "|     Moweb|  6261|\n",
      "|   Android|  5454|\n",
      "+----------+------+\n",
      "\n",
      "first_device_type\n",
      "+------------------+-----+\n",
      "| first_device_type|count|\n",
      "+------------------+-----+\n",
      "|       Mac Desktop|89600|\n",
      "|   Windows Desktop|72716|\n",
      "|            iPhone|20759|\n",
      "|              iPad|14339|\n",
      "|     Other/Unknown|10667|\n",
      "|     Android Phone| 2803|\n",
      "|    Android Tablet| 1292|\n",
      "|   Desktop (Other)| 1199|\n",
      "|SmartPhone (Other)|   76|\n",
      "+------------------+-----+\n",
      "\n",
      "first_browser\n",
      "+------------------+-----+\n",
      "|     first_browser|count|\n",
      "+------------------+-----+\n",
      "|            Chrome|63845|\n",
      "|            Safari|45169|\n",
      "|           Firefox|33655|\n",
      "|         -unknown-|27266|\n",
      "|                IE|21068|\n",
      "|     Mobile Safari|19274|\n",
      "|     Chrome Mobile| 1270|\n",
      "|   Android Browser|  851|\n",
      "|      AOL Explorer|  245|\n",
      "|             Opera|  188|\n",
      "|              Silk|  124|\n",
      "|          Chromium|   73|\n",
      "|BlackBerry Browser|   53|\n",
      "|           Maxthon|   46|\n",
      "|         IE Mobile|   36|\n",
      "|        Apple Mail|   36|\n",
      "|    Sogou Explorer|   33|\n",
      "|    Mobile Firefox|   30|\n",
      "|          RockMelt|   24|\n",
      "|         SiteKiosk|   24|\n",
      "+------------------+-----+\n",
      "only showing top 20 rows\n",
      "\n"
     ]
    }
   ],
   "source": [
    "for col in categorical_cols:\n",
    "    print(col)\n",
    "    df.groupBy(col).count().sort(desc(\"count\")).show()"
   ]
  },
  {
   "cell_type": "code",
   "execution_count": null,
   "metadata": {},
   "outputs": [],
   "source": []
  },
  {
   "cell_type": "code",
   "execution_count": null,
   "metadata": {},
   "outputs": [],
   "source": []
  }
 ],
 "metadata": {
  "kernelspec": {
   "display_name": "DS 5110 Spark 3.1",
   "language": "python",
   "name": "ds5110_spark3.1"
  },
  "language_info": {
   "codemirror_mode": {
    "name": "ipython",
    "version": 3
   },
   "file_extension": ".py",
   "mimetype": "text/x-python",
   "name": "python",
   "nbconvert_exporter": "python",
   "pygments_lexer": "ipython3",
   "version": "3.7.10"
  }
 },
 "nbformat": 4,
 "nbformat_minor": 4
}
