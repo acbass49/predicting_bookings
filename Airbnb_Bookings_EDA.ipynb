{
 "cells": [
  {
   "cell_type": "markdown",
   "metadata": {},
   "source": [
    "# Airbnb EDA"
   ]
  },
  {
   "cell_type": "markdown",
   "metadata": {},
   "source": [
    "At a minimum, the file should include a summary containing:\n",
    "\n",
    "- Number of records\n",
    "- Number of columns\n",
    "- Statistical summary of response variable\n",
    "- Statistical summary of potential predictor variables (if there are a large number of predictors, select the top 10)\n",
    "    - Note: Summarize categorical variables with counts and percentages for each level and summarize numerical variables with mean/quantiles/standard deviation.\n",
    "- Include up to five helpful graphs"
   ]
  },
  {
   "cell_type": "code",
   "execution_count": 1,
   "metadata": {},
   "outputs": [],
   "source": [
    "# Imports\n",
    "import os\n",
    "from pyspark.sql import SparkSession\n",
    "from pyspark.sql.types import StructType, StructField, StringType, IntegerType, DoubleType\n",
    "import pyspark.sql.functions as fn"
   ]
  },
  {
   "cell_type": "code",
   "execution_count": 2,
   "metadata": {},
   "outputs": [],
   "source": [
    "%matplotlib inline\n",
    "import matplotlib.pyplot as plt"
   ]
  },
  {
   "cell_type": "code",
   "execution_count": 3,
   "metadata": {},
   "outputs": [],
   "source": [
    "# Start spark session\n",
    "spark = SparkSession.builder.getOrCreate()\n"
   ]
  },
  {
   "cell_type": "markdown",
   "metadata": {},
   "source": [
    "### Users Dataset"
   ]
  },
  {
   "cell_type": "code",
   "execution_count": 4,
   "metadata": {},
   "outputs": [],
   "source": [
    "# Define schema for data\n",
    "schema = StructType() \\\n",
    "      .add(\"id\",StringType(),True) \\\n",
    "      .add(\"date_account_created\",StringType(),True) \\\n",
    "      .add(\"timestamp_first_active\",DoubleType(),True) \\\n",
    "      .add(\"date_first_booking\",StringType(),True) \\\n",
    "      .add(\"gender\",StringType(),True) \\\n",
    "      .add(\"age\",DoubleType(),True) \\\n",
    "      .add(\"signup_method\",StringType(),True) \\\n",
    "      .add(\"signup_flow\",IntegerType(),True) \\\n",
    "      .add(\"language\",StringType(),True) \\\n",
    "      .add(\"affiliate_channel\",StringType(),True) \\\n",
    "      .add(\"affiliate_provider\",StringType(),True) \\\n",
    "      .add(\"first_affiliate_tracked\",StringType(),True) \\\n",
    "      .add(\"signup_app\",StringType(),True) \\\n",
    "      .add(\"first_device_type\",StringType(),True) \\\n",
    "      .add(\"first_browser\",StringType(),True) \\\n",
    "      .add(\"country_destination\",StringType(),True)"
   ]
  },
  {
   "cell_type": "code",
   "execution_count": 5,
   "metadata": {},
   "outputs": [],
   "source": [
    "# Lists of columns\n",
    "response_col = \"country_destination\"\n",
    "id_col = \"id\"\n",
    "categorical_cols = [\"gender\", \"signup_method\", \"language\", \n",
    "                    \"affiliate_channel\", \"affiliate_provider\", \"first_affiliate_tracked\",\n",
    "                    \"signup_app\", \"first_device_type\", \"first_browser\"]\n",
    "numeric_cols = [\"timestamp_first_active\", \"age\", \"signup_flow\", ]\n",
    "date_cols = [\"date_account_created\", \"date_first_booking\"]\n"
   ]
  },
  {
   "cell_type": "code",
   "execution_count": 6,
   "metadata": {},
   "outputs": [],
   "source": [
    "# Read data in json format\n",
    "df = spark.read.option(\"header\",True).csv(\"./data/train_users_2.csv\", schema)\n"
   ]
  },
  {
   "cell_type": "code",
   "execution_count": 7,
   "metadata": {},
   "outputs": [
    {
     "name": "stdout",
     "output_type": "stream",
     "text": [
      "+----------+--------------------+----------------------+------------------+---------+----+-------------+-----------+--------+-----------------+------------------+-----------------------+----------+-----------------+-------------+-------------------+\n",
      "|        id|date_account_created|timestamp_first_active|date_first_booking|   gender| age|signup_method|signup_flow|language|affiliate_channel|affiliate_provider|first_affiliate_tracked|signup_app|first_device_type|first_browser|country_destination|\n",
      "+----------+--------------------+----------------------+------------------+---------+----+-------------+-----------+--------+-----------------+------------------+-----------------------+----------+-----------------+-------------+-------------------+\n",
      "|gxn3p5htnn|          2010-06-28|    2.0090319043255E13|              null|-unknown-|null|     facebook|          0|      en|           direct|            direct|              untracked|       Web|      Mac Desktop|       Chrome|                NDF|\n",
      "|820tgsjxq7|          2011-05-25|    2.0090523174809E13|              null|     MALE|38.0|     facebook|          0|      en|              seo|            google|              untracked|       Web|      Mac Desktop|       Chrome|                NDF|\n",
      "+----------+--------------------+----------------------+------------------+---------+----+-------------+-----------+--------+-----------------+------------------+-----------------------+----------+-----------------+-------------+-------------------+\n",
      "only showing top 2 rows\n",
      "\n"
     ]
    }
   ],
   "source": [
    "df.show(2)"
   ]
  },
  {
   "cell_type": "code",
   "execution_count": 8,
   "metadata": {},
   "outputs": [
    {
     "name": "stdout",
     "output_type": "stream",
     "text": [
      "root\n",
      " |-- id: string (nullable = true)\n",
      " |-- date_account_created: string (nullable = true)\n",
      " |-- timestamp_first_active: double (nullable = true)\n",
      " |-- date_first_booking: string (nullable = true)\n",
      " |-- gender: string (nullable = true)\n",
      " |-- age: double (nullable = true)\n",
      " |-- signup_method: string (nullable = true)\n",
      " |-- signup_flow: integer (nullable = true)\n",
      " |-- language: string (nullable = true)\n",
      " |-- affiliate_channel: string (nullable = true)\n",
      " |-- affiliate_provider: string (nullable = true)\n",
      " |-- first_affiliate_tracked: string (nullable = true)\n",
      " |-- signup_app: string (nullable = true)\n",
      " |-- first_device_type: string (nullable = true)\n",
      " |-- first_browser: string (nullable = true)\n",
      " |-- country_destination: string (nullable = true)\n",
      "\n"
     ]
    }
   ],
   "source": [
    "df.printSchema()"
   ]
  },
  {
   "cell_type": "code",
   "execution_count": 9,
   "metadata": {},
   "outputs": [
    {
     "data": {
      "text/plain": [
       "213451"
      ]
     },
     "execution_count": 9,
     "metadata": {},
     "output_type": "execute_result"
    }
   ],
   "source": [
    "# Count number of records\n",
    "df.count()"
   ]
  },
  {
   "cell_type": "code",
   "execution_count": 10,
   "metadata": {},
   "outputs": [
    {
     "name": "stdout",
     "output_type": "stream",
     "text": [
      "Count of rows: 213451\n",
      "Count of distinct rows: 213451\n"
     ]
    }
   ],
   "source": [
    "print('Count of rows: {0}'.format(df.count()))\n",
    "print('Count of distinct rows: {0}'.format(df.distinct().count()))"
   ]
  },
  {
   "cell_type": "code",
   "execution_count": 11,
   "metadata": {},
   "outputs": [
    {
     "name": "stdout",
     "output_type": "stream",
     "text": [
      "+------+--------+\n",
      "| count|distinct|\n",
      "+------+--------+\n",
      "|213451|  213451|\n",
      "+------+--------+\n",
      "\n"
     ]
    }
   ],
   "source": [
    "# Count number of unique ids\n",
    "\n",
    "df.agg(\n",
    "    fn.count('id').alias('count'),\n",
    "    fn.countDistinct('id').alias('distinct')\n",
    ").show()"
   ]
  },
  {
   "cell_type": "markdown",
   "metadata": {},
   "source": [
    "Note that the number of distinct ids is the same as the number of rows so there are no duplicate ids."
   ]
  },
  {
   "cell_type": "code",
   "execution_count": 12,
   "metadata": {},
   "outputs": [
    {
     "data": {
      "text/plain": [
       "16"
      ]
     },
     "execution_count": 12,
     "metadata": {},
     "output_type": "execute_result"
    }
   ],
   "source": [
    "# Number of columns\n",
    "len(df.columns)"
   ]
  },
  {
   "cell_type": "code",
   "execution_count": 13,
   "metadata": {},
   "outputs": [
    {
     "name": "stdout",
     "output_type": "stream",
     "text": [
      "-RECORD 0----------------------------------------------\n",
      " id_missing                      | 0.0                 \n",
      " date_account_created_missing    | 0.0                 \n",
      " timestamp_first_active_missing  | 0.0                 \n",
      " date_first_booking_missing      | 0.5834734904029496  \n",
      " gender_missing                  | 0.0                 \n",
      " age_missing                     | 0.412225756731053   \n",
      " signup_method_missing           | 0.0                 \n",
      " signup_flow_missing             | 0.0                 \n",
      " language_missing                | 0.0                 \n",
      " affiliate_channel_missing       | 0.0                 \n",
      " affiliate_provider_missing      | 0.0                 \n",
      " first_affiliate_tracked_missing | 0.02841401539463395 \n",
      " signup_app_missing              | 0.0                 \n",
      " first_device_type_missing       | 0.0                 \n",
      " first_browser_missing           | 0.0                 \n",
      " country_destination_missing     | 0.0                 \n",
      "\n"
     ]
    }
   ],
   "source": [
    "# Percent missing per column\n",
    "df.agg(*[\n",
    "    (1 - (fn.count(c) / fn.count('*'))).alias(c + '_missing')\n",
    "    for c in df.columns\n",
    "]).show(vertical = True)"
   ]
  },
  {
   "cell_type": "markdown",
   "metadata": {},
   "source": [
    "Overall not too much missing data other than a handful of columns:\n",
    "- Date of first booking is missing for more than half, but I suspect that these are users that did not make a booking so that is fine. Also this isn't a useful feature anyways because we're going to be using our model to predict before a user makes a booking so we wouldn't know this at inference time anyways. \n",
    "- Age has about 40% missing, which is pretty high. Will need to decide what to do with this... drop, fill, impute, etc. \n",
    "- First affiliate tracked has some missing values, but not too many so that's fine"
   ]
  },
  {
   "cell_type": "code",
   "execution_count": 14,
   "metadata": {},
   "outputs": [
    {
     "name": "stdout",
     "output_type": "stream",
     "text": [
      "+-------------------+------+-------+\n",
      "|country_destination| Count|Percent|\n",
      "+-------------------+------+-------+\n",
      "|                 NL|   762|   0.36|\n",
      "|                 PT|   217|    0.1|\n",
      "|                 AU|   539|   0.25|\n",
      "|                 CA|  1428|   0.67|\n",
      "|                 GB|  2324|   1.09|\n",
      "|              other| 10094|   4.73|\n",
      "|                 DE|  1061|    0.5|\n",
      "|                 ES|  2249|   1.05|\n",
      "|                 US| 62376|  29.22|\n",
      "|                 FR|  5023|   2.35|\n",
      "|                NDF|124543|  58.35|\n",
      "|                 IT|  2835|   1.33|\n",
      "+-------------------+------+-------+\n",
      "\n"
     ]
    }
   ],
   "source": [
    "# Statistical summary of response variable (count and percentage)\n",
    "\n",
    "df.groupBy(\"country_destination\") \\\n",
    "  .count() \\\n",
    "  .withColumnRenamed('count', 'Count') \\\n",
    "  .withColumn('Percent', fn.round((fn.col('Count') / df.count()) * 100 , 2)) \\\n",
    "  .show()"
   ]
  },
  {
   "cell_type": "markdown",
   "metadata": {},
   "source": [
    "There are 12 different destinations. The most common is NDF, no destination found, meaning that the user did not book a place. The second most common, and most common actual country destination, is the United States. Other is also a common, but pretty broad category. "
   ]
  },
  {
   "cell_type": "code",
   "execution_count": 15,
   "metadata": {},
   "outputs": [],
   "source": [
    "# Create binary column (booked place or did not)\n",
    "df = df.withColumn(\n",
    "    'booked',\n",
    "    fn.when((df.country_destination == 'NDF'), 'No')\\\n",
    "    .otherwise('Yes')\n",
    ")"
   ]
  },
  {
   "cell_type": "code",
   "execution_count": 16,
   "metadata": {},
   "outputs": [
    {
     "name": "stdout",
     "output_type": "stream",
     "text": [
      "+------+------+-------+\n",
      "|booked| Count|Percent|\n",
      "+------+------+-------+\n",
      "|    No|124543|  58.35|\n",
      "|   Yes| 88908|  41.65|\n",
      "+------+------+-------+\n",
      "\n"
     ]
    }
   ],
   "source": [
    "# Statistical summary of binary response variable (count and percentage)\n",
    "df.groupBy(\"booked\") \\\n",
    "  .count() \\\n",
    "  .withColumnRenamed('count', 'Count') \\\n",
    "  .withColumn('Percent', fn.round((fn.col('Count') / df.count()) * 100 , 2)) \\\n",
    "  .show()"
   ]
  },
  {
   "cell_type": "code",
   "execution_count": 17,
   "metadata": {},
   "outputs": [
    {
     "name": "stdout",
     "output_type": "stream",
     "text": [
      "+----------------------+----+-----------+\n",
      "|timestamp_first_active| age|signup_flow|\n",
      "+----------------------+----+-----------+\n",
      "|    2.0090319043255E13|null|          0|\n",
      "|    2.0090523174809E13|38.0|          0|\n",
      "|    2.0090609231247E13|56.0|          3|\n",
      "+----------------------+----+-----------+\n",
      "only showing top 3 rows\n",
      "\n"
     ]
    }
   ],
   "source": [
    "df.select(numeric_cols).show(3)"
   ]
  },
  {
   "cell_type": "code",
   "execution_count": 18,
   "metadata": {},
   "outputs": [
    {
     "name": "stdout",
     "output_type": "stream",
     "text": [
      "+-------+----------------------+------------------+------------------+\n",
      "|summary|timestamp_first_active|               age|       signup_flow|\n",
      "+-------+----------------------+------------------+------------------+\n",
      "|  count|                213451|            125461|            213451|\n",
      "|   mean|  2.013085041736745...| 49.66833517985669|3.2673868944160485|\n",
      "| stddev|   9.253717046788992E9|155.66661183021571|  7.63770686943505|\n",
      "|    min|    2.0090319043255E13|               1.0|                 0|\n",
      "|    25%|     2.012122504391E13|              28.0|                 0|\n",
      "|    50%|    2.0130911053924E13|              34.0|                 0|\n",
      "|    75%|    2.0140306074825E13|              43.0|                 0|\n",
      "|    max|    2.0140630235824E13|            2014.0|                25|\n",
      "+-------+----------------------+------------------+------------------+\n",
      "\n"
     ]
    }
   ],
   "source": [
    "# Statistical summary of numeric columns\n",
    "df.select(numeric_cols).summary().show()"
   ]
  },
  {
   "cell_type": "markdown",
   "metadata": {},
   "source": [
    "Note illogical min age of 1 and max age of 2014.\n",
    "\n",
    "Signup flow is numeric, but according to dataset description on kaggle signup_flow is the page a user came to signup up from. Not sure what this column means"
   ]
  },
  {
   "cell_type": "code",
   "execution_count": 19,
   "metadata": {},
   "outputs": [
    {
     "name": "stdout",
     "output_type": "stream",
     "text": [
      "+------+\n",
      "|   age|\n",
      "+------+\n",
      "|2014.0|\n",
      "|2014.0|\n",
      "|2014.0|\n",
      "|2014.0|\n",
      "|2014.0|\n",
      "|2014.0|\n",
      "|2014.0|\n",
      "|2014.0|\n",
      "|2014.0|\n",
      "|2014.0|\n",
      "+------+\n",
      "only showing top 10 rows\n",
      "\n"
     ]
    }
   ],
   "source": [
    "# Checking top 10 rows of age\n",
    "df.select([\"age\"]).orderBy(\"age\", ascending = [False]).show(10)"
   ]
  },
  {
   "cell_type": "code",
   "execution_count": 20,
   "metadata": {},
   "outputs": [
    {
     "data": {
      "text/plain": [
       "710"
      ]
     },
     "execution_count": 20,
     "metadata": {},
     "output_type": "execute_result"
    }
   ],
   "source": [
    "df.filter(df[\"age\"] == 2014).count()"
   ]
  },
  {
   "cell_type": "markdown",
   "metadata": {},
   "source": [
    "That's a lot of 2014s. We need to make sure to recode this variable because age of 2014 does not make sense. Let's replace illogical ages with missing values."
   ]
  },
  {
   "cell_type": "code",
   "execution_count": 21,
   "metadata": {},
   "outputs": [],
   "source": [
    "# Replace age with nan if outside reasonable range\n",
    "df = df.withColumn(\n",
    "    'age_new', \\\n",
    "    fn.when((df.age > 100) | (df.age < 16), None)\\\n",
    "    .otherwise(df.age)\n",
    ")"
   ]
  },
  {
   "cell_type": "code",
   "execution_count": 22,
   "metadata": {},
   "outputs": [
    {
     "name": "stdout",
     "output_type": "stream",
     "text": [
      "+-------+------------------+------------------+\n",
      "|summary|               age|           age_new|\n",
      "+-------+------------------+------------------+\n",
      "|  count|            125461|            123051|\n",
      "|   mean| 49.66833517985669|36.560613079129794|\n",
      "| stddev|155.66661183021571|11.689698826479379|\n",
      "|    min|               1.0|              16.0|\n",
      "|    25%|              28.0|              28.0|\n",
      "|    50%|              34.0|              34.0|\n",
      "|    75%|              43.0|              42.0|\n",
      "|    max|            2014.0|             100.0|\n",
      "+-------+------------------+------------------+\n",
      "\n"
     ]
    }
   ],
   "source": [
    "df.select('age', 'age_new').summary().show()"
   ]
  },
  {
   "cell_type": "code",
   "execution_count": 23,
   "metadata": {},
   "outputs": [
    {
     "name": "stdout",
     "output_type": "stream",
     "text": [
      "gender\n",
      "+---------+-----+-------+\n",
      "|   gender|Count|Percent|\n",
      "+---------+-----+-------+\n",
      "|-unknown-|95688|  44.83|\n",
      "|   FEMALE|63041|  29.53|\n",
      "|     MALE|54440|   25.5|\n",
      "|    OTHER|  282|   0.13|\n",
      "+---------+-----+-------+\n",
      "\n",
      "signup_method\n",
      "+-------------+------+-------+\n",
      "|signup_method| Count|Percent|\n",
      "+-------------+------+-------+\n",
      "|        basic|152897|  71.63|\n",
      "|     facebook| 60008|  28.11|\n",
      "|       google|   546|   0.26|\n",
      "+-------------+------+-------+\n",
      "\n",
      "language\n",
      "+--------+------+-------+\n",
      "|language| Count|Percent|\n",
      "+--------+------+-------+\n",
      "|      en|206314|  96.66|\n",
      "|      zh|  1632|   0.76|\n",
      "|      fr|  1172|   0.55|\n",
      "|      es|   915|   0.43|\n",
      "|      ko|   747|   0.35|\n",
      "|      de|   732|   0.34|\n",
      "|      it|   514|   0.24|\n",
      "|      ru|   389|   0.18|\n",
      "|      pt|   240|   0.11|\n",
      "|      ja|   225|   0.11|\n",
      "|      sv|   122|   0.06|\n",
      "|      nl|    97|   0.05|\n",
      "|      tr|    64|   0.03|\n",
      "|      da|    58|   0.03|\n",
      "|      pl|    54|   0.03|\n",
      "|      cs|    32|   0.01|\n",
      "|      no|    30|   0.01|\n",
      "|      th|    24|   0.01|\n",
      "|      el|    24|   0.01|\n",
      "|      id|    22|   0.01|\n",
      "+--------+------+-------+\n",
      "only showing top 20 rows\n",
      "\n",
      "affiliate_channel\n",
      "+-----------------+------+-------+\n",
      "|affiliate_channel| Count|Percent|\n",
      "+-----------------+------+-------+\n",
      "|           direct|137727|  64.52|\n",
      "|        sem-brand| 26045|   12.2|\n",
      "|    sem-non-brand| 18844|   8.83|\n",
      "|            other|  8961|    4.2|\n",
      "|              seo|  8663|   4.06|\n",
      "|              api|  8167|   3.83|\n",
      "|          content|  3948|   1.85|\n",
      "|      remarketing|  1096|   0.51|\n",
      "+-----------------+------+-------+\n",
      "\n",
      "affiliate_provider\n",
      "+-------------------+------+-------+\n",
      "| affiliate_provider| Count|Percent|\n",
      "+-------------------+------+-------+\n",
      "|             direct|137426|  64.38|\n",
      "|             google| 51693|  24.22|\n",
      "|              other| 12549|   5.88|\n",
      "|         craigslist|  3471|   1.63|\n",
      "|               bing|  2328|   1.09|\n",
      "|           facebook|  2273|   1.06|\n",
      "|               vast|   829|   0.39|\n",
      "|          padmapper|   768|   0.36|\n",
      "|facebook-open-graph|   545|   0.26|\n",
      "|              yahoo|   496|   0.23|\n",
      "|                gsp|   453|   0.21|\n",
      "|             meetup|   347|   0.16|\n",
      "|    email-marketing|   166|   0.08|\n",
      "|              naver|    52|   0.02|\n",
      "|              baidu|    29|   0.01|\n",
      "|             yandex|    17|   0.01|\n",
      "|               wayn|     8|    0.0|\n",
      "|               daum|     1|    0.0|\n",
      "+-------------------+------+-------+\n",
      "\n",
      "first_affiliate_tracked\n",
      "+-----------------------+------+-------+\n",
      "|first_affiliate_tracked| Count|Percent|\n",
      "+-----------------------+------+-------+\n",
      "|              untracked|109232|  51.17|\n",
      "|                 linked| 46287|  21.69|\n",
      "|                    omg| 43982|  20.61|\n",
      "|          tracked-other|  6156|   2.88|\n",
      "|                   null|  6065|   2.84|\n",
      "|                product|  1556|   0.73|\n",
      "|              marketing|   139|   0.07|\n",
      "|              local ops|    34|   0.02|\n",
      "+-----------------------+------+-------+\n",
      "\n",
      "signup_app\n",
      "+----------+------+-------+\n",
      "|signup_app| Count|Percent|\n",
      "+----------+------+-------+\n",
      "|       Web|182717|   85.6|\n",
      "|       iOS| 19019|   8.91|\n",
      "|     Moweb|  6261|   2.93|\n",
      "|   Android|  5454|   2.56|\n",
      "+----------+------+-------+\n",
      "\n",
      "first_device_type\n",
      "+------------------+-----+-------+\n",
      "| first_device_type|Count|Percent|\n",
      "+------------------+-----+-------+\n",
      "|       Mac Desktop|89600|  41.98|\n",
      "|   Windows Desktop|72716|  34.07|\n",
      "|            iPhone|20759|   9.73|\n",
      "|              iPad|14339|   6.72|\n",
      "|     Other/Unknown|10667|    5.0|\n",
      "|     Android Phone| 2803|   1.31|\n",
      "|    Android Tablet| 1292|   0.61|\n",
      "|   Desktop (Other)| 1199|   0.56|\n",
      "|SmartPhone (Other)|   76|   0.04|\n",
      "+------------------+-----+-------+\n",
      "\n",
      "first_browser\n",
      "+------------------+-----+-------+\n",
      "|     first_browser|Count|Percent|\n",
      "+------------------+-----+-------+\n",
      "|            Chrome|63845|  29.91|\n",
      "|            Safari|45169|  21.16|\n",
      "|           Firefox|33655|  15.77|\n",
      "|         -unknown-|27266|  12.77|\n",
      "|                IE|21068|   9.87|\n",
      "|     Mobile Safari|19274|   9.03|\n",
      "|     Chrome Mobile| 1270|   0.59|\n",
      "|   Android Browser|  851|    0.4|\n",
      "|      AOL Explorer|  245|   0.11|\n",
      "|             Opera|  188|   0.09|\n",
      "|              Silk|  124|   0.06|\n",
      "|          Chromium|   73|   0.03|\n",
      "|BlackBerry Browser|   53|   0.02|\n",
      "|           Maxthon|   46|   0.02|\n",
      "|        Apple Mail|   36|   0.02|\n",
      "|         IE Mobile|   36|   0.02|\n",
      "|    Sogou Explorer|   33|   0.02|\n",
      "|    Mobile Firefox|   30|   0.01|\n",
      "|          RockMelt|   24|   0.01|\n",
      "|         SiteKiosk|   24|   0.01|\n",
      "+------------------+-----+-------+\n",
      "only showing top 20 rows\n",
      "\n"
     ]
    }
   ],
   "source": [
    "for col in categorical_cols:\n",
    "    print(col)\n",
    "    df.groupBy(col) \\\n",
    "          .count() \\\n",
    "          .withColumnRenamed('count', 'Count') \\\n",
    "          .withColumn('Percent', fn.round((fn.col('Count') / df.count()) * 100 , 2)) \\\n",
    "          .sort(fn.desc('Count')) \\\n",
    "          .show()"
   ]
  },
  {
   "cell_type": "markdown",
   "metadata": {},
   "source": [
    "A few observations: \n",
    "- Large number unknown gender\n",
    "- Some of the categorical variables have a lot of small categories. For ones we wish to use it may be beneficial to group some of the small ones into \"Other\"."
<<<<<<< HEAD
   ]
  },
  {
   "cell_type": "code",
   "execution_count": 24,
   "metadata": {},
   "outputs": [
    {
     "name": "stdout",
     "output_type": "stream",
     "text": [
      "-RECORD 0----------------------------------------------\n",
      " booked                          | No                  \n",
      " id_missing                      | 0.0                 \n",
      " date_account_created_missing    | 0.0                 \n",
      " timestamp_first_active_missing  | 0.0                 \n",
      " date_first_booking_missing      | 1.0                 \n",
      " gender_missing                  | 0.0                 \n",
      " age_missing                     | 0.542896830813454   \n",
      " signup_method_missing           | 0.0                 \n",
      " signup_flow_missing             | 0.0                 \n",
      " language_missing                | 0.0                 \n",
      " affiliate_channel_missing       | 0.0                 \n",
      " affiliate_provider_missing      | 0.0                 \n",
      " first_affiliate_tracked_missing | 0.03474302048288547 \n",
      " signup_app_missing              | 0.0                 \n",
      " first_device_type_missing       | 0.0                 \n",
      " first_browser_missing           | 0.0                 \n",
      " country_destination_missing     | 0.0                 \n",
      " booked_missing                  | 0.0                 \n",
      " age_new_missing                 | 0.5515042997197754  \n",
      "-RECORD 1----------------------------------------------\n",
      " booked                          | Yes                 \n",
      " id_missing                      | 0.0                 \n",
      " date_account_created_missing    | 0.0                 \n",
      " timestamp_first_active_missing  | 0.0                 \n",
      " date_first_booking_missing      | 0.0                 \n",
      " gender_missing                  | 0.0                 \n",
      " age_missing                     | 0.22918072614387908 \n",
      " signup_method_missing           | 0.0                 \n",
      " signup_flow_missing             | 0.0                 \n",
      " language_missing                | 0.0                 \n",
      " affiliate_channel_missing       | 0.0                 \n",
      " affiliate_provider_missing      | 0.0                 \n",
      " first_affiliate_tracked_missing | 0.01954829711612005 \n",
      " signup_app_missing              | 0.0                 \n",
      " first_device_type_missing       | 0.0                 \n",
      " first_browser_missing           | 0.0                 \n",
      " country_destination_missing     | 0.0                 \n",
      " booked_missing                  | 0.0                 \n",
      " age_new_missing                 | 0.24422999055203132 \n",
      "\n"
     ]
    }
   ],
   "source": [
    "# Missing values by booked by column\n",
    "df.groupby(\"booked\").agg(*[\n",
    "    (1 - (fn.count(c) / fn.count('*'))).alias(c + '_missing')\n",
    "    for c in df.columns\n",
    "]).show(vertical = True)"
   ]
  },
  {
   "cell_type": "code",
   "execution_count": 25,
   "metadata": {},
   "outputs": [],
   "source": [
    "# Add column indicating whether age is missing or not\n",
    "# Since % missing is higher for those that didn't book\n",
    "# may be a proxy for how effort user has put into updating profile?\n",
    "df = df.withColumn(\n",
    "    'age_missing',\n",
    "    fn.when(df.age_new.isNull(), 1)\\\n",
    "    .otherwise(0)\n",
    ")"
=======
>>>>>>> 478a080dc82cb461d0282f53fc759113c901406e
   ]
  },
  {
   "cell_type": "code",
<<<<<<< HEAD
=======
   "execution_count": 24,
   "metadata": {},
   "outputs": [
    {
     "name": "stdout",
     "output_type": "stream",
     "text": [
      "-RECORD 0----------------------------------------------\n",
      " booked                          | No                  \n",
      " id_missing                      | 0.0                 \n",
      " date_account_created_missing    | 0.0                 \n",
      " timestamp_first_active_missing  | 0.0                 \n",
      " date_first_booking_missing      | 1.0                 \n",
      " gender_missing                  | 0.0                 \n",
      " age_missing                     | 0.542896830813454   \n",
      " signup_method_missing           | 0.0                 \n",
      " signup_flow_missing             | 0.0                 \n",
      " language_missing                | 0.0                 \n",
      " affiliate_channel_missing       | 0.0                 \n",
      " affiliate_provider_missing      | 0.0                 \n",
      " first_affiliate_tracked_missing | 0.03474302048288547 \n",
      " signup_app_missing              | 0.0                 \n",
      " first_device_type_missing       | 0.0                 \n",
      " first_browser_missing           | 0.0                 \n",
      " country_destination_missing     | 0.0                 \n",
      " booked_missing                  | 0.0                 \n",
      " age_new_missing                 | 0.5515042997197754  \n",
      "-RECORD 1----------------------------------------------\n",
      " booked                          | Yes                 \n",
      " id_missing                      | 0.0                 \n",
      " date_account_created_missing    | 0.0                 \n",
      " timestamp_first_active_missing  | 0.0                 \n",
      " date_first_booking_missing      | 0.0                 \n",
      " gender_missing                  | 0.0                 \n",
      " age_missing                     | 0.22918072614387908 \n",
      " signup_method_missing           | 0.0                 \n",
      " signup_flow_missing             | 0.0                 \n",
      " language_missing                | 0.0                 \n",
      " affiliate_channel_missing       | 0.0                 \n",
      " affiliate_provider_missing      | 0.0                 \n",
      " first_affiliate_tracked_missing | 0.01954829711612005 \n",
      " signup_app_missing              | 0.0                 \n",
      " first_device_type_missing       | 0.0                 \n",
      " first_browser_missing           | 0.0                 \n",
      " country_destination_missing     | 0.0                 \n",
      " booked_missing                  | 0.0                 \n",
      " age_new_missing                 | 0.24422999055203132 \n",
      "\n"
     ]
    }
   ],
   "source": [
    "# Missing values by booked by column\n",
    "df.groupby(\"booked\").agg(*[\n",
    "    (1 - (fn.count(c) / fn.count('*'))).alias(c + '_missing')\n",
    "    for c in df.columns\n",
    "]).show(vertical = True)"
   ]
  },
  {
   "cell_type": "code",
   "execution_count": 25,
   "metadata": {},
   "outputs": [],
   "source": [
    "# Add column indicating whether age is missing or not\n",
    "# Since % missing is higher for those that didn't book\n",
    "# may be a proxy for how effort user has put into updating profile?\n",
    "df = df.withColumn(\n",
    "    'age_missing',\n",
    "    fn.when(df.age_new.isNull(), 1)\\\n",
    "    .otherwise(0)\n",
    ")"
   ]
  },
  {
   "cell_type": "code",
>>>>>>> 478a080dc82cb461d0282f53fc759113c901406e
   "execution_count": 26,
   "metadata": {},
   "outputs": [],
   "source": [
    "# First device type\n",
    "# some of the `other` categories are a bit small so combining\n",
    "df = df.withColumn(\n",
    "    'first_device_type',\n",
    "    fn.when((df.first_device_type == 'Android Tablet'), 'Android Tablet')\\\n",
    "    .when((df.first_device_type == 'iPad'), 'iPad')\\\n",
    "    .when((df.first_device_type == 'iPhone'), 'iPhone')\\\n",
    "    .when((df.first_device_type == 'Windows Desktop'), 'Windows Desktop')\\\n",
    "    .when((df.first_device_type == 'Android Phone'), 'Android Phone')\\\n",
    "    .when((df.first_device_type == 'Mac Desktop'), 'Mac Desktop')\\\n",
    "    .otherwise(\"Other\")\n",
    ")"
   ]
  },
  {
   "cell_type": "code",
   "execution_count": null,
   "metadata": {},
   "outputs": [],
   "source": []
  },
  {
   "cell_type": "markdown",
   "metadata": {},
   "source": [
    "## Sessions Dataset"
   ]
  },
  {
   "cell_type": "code",
   "execution_count": 27,
   "metadata": {},
   "outputs": [],
   "source": [
    "# Define schema for data\n",
    "schema_sessions = StructType() \\\n",
    "      .add(\"user_id\",StringType(),True) \\\n",
    "      .add(\"action\",StringType(),True) \\\n",
    "      .add(\"action_type\",StringType(),True) \\\n",
    "      .add(\"action_detail\",StringType(),True) \\\n",
    "      .add(\"device_type\",StringType(),True) \\\n",
    "      .add(\"secs_elapsed\",DoubleType(),True)"
   ]
  },
  {
   "cell_type": "code",
   "execution_count": 28,
   "metadata": {},
   "outputs": [],
   "source": [
    "# Read data in json format\n",
    "df_sessions = spark.read.option(\"header\",True) \\\n",
    "    .csv(\"./data/sessions.csv\", schema_sessions)\n"
   ]
  },
  {
   "cell_type": "code",
   "execution_count": 29,
   "metadata": {},
   "outputs": [
    {
     "name": "stdout",
     "output_type": "stream",
     "text": [
      "+----------+--------------+-----------+-------------------+---------------+------------+\n",
      "|   user_id|        action|action_type|      action_detail|    device_type|secs_elapsed|\n",
      "+----------+--------------+-----------+-------------------+---------------+------------+\n",
      "|d1mm9tcy42|        lookup|       null|               null|Windows Desktop|       319.0|\n",
      "|d1mm9tcy42|search_results|      click|view_search_results|Windows Desktop|     67753.0|\n",
      "+----------+--------------+-----------+-------------------+---------------+------------+\n",
      "only showing top 2 rows\n",
      "\n"
     ]
    }
   ],
   "source": [
    "df_sessions.show(2)"
   ]
  },
  {
   "cell_type": "code",
   "execution_count": 30,
   "metadata": {},
   "outputs": [
    {
     "name": "stdout",
     "output_type": "stream",
     "text": [
      "root\n",
      " |-- user_id: string (nullable = true)\n",
      " |-- action: string (nullable = true)\n",
      " |-- action_type: string (nullable = true)\n",
      " |-- action_detail: string (nullable = true)\n",
      " |-- device_type: string (nullable = true)\n",
      " |-- secs_elapsed: double (nullable = true)\n",
      "\n"
     ]
    }
   ],
   "source": [
    "df_sessions.printSchema()"
   ]
  },
  {
   "cell_type": "code",
   "execution_count": 31,
   "metadata": {},
   "outputs": [
    {
     "data": {
      "text/plain": [
       "10567737"
      ]
     },
     "execution_count": 31,
     "metadata": {},
     "output_type": "execute_result"
    }
   ],
   "source": [
    "# Count number of records\n",
    "df_sessions.count()"
   ]
  },
  {
   "cell_type": "code",
   "execution_count": 32,
   "metadata": {},
   "outputs": [
    {
     "name": "stdout",
     "output_type": "stream",
     "text": [
      "Count of rows: 10567737\n",
      "Count of distinct rows: 10315201\n"
     ]
    }
   ],
   "source": [
    "print('Count of rows: {0}'.format(df_sessions.count()))\n",
    "print('Count of distinct rows: {0}'.format(df_sessions.distinct().count()))"
   ]
  },
  {
   "cell_type": "markdown",
   "metadata": {},
   "source": [
    "Not all rows are unique, but given this dataset I think that is reasonable because a given user could do the same action multiple times. "
   ]
  },
  {
   "cell_type": "code",
   "execution_count": 33,
   "metadata": {},
   "outputs": [
    {
     "name": "stdout",
     "output_type": "stream",
     "text": [
      "+--------+--------------+\n",
      "|   Count|Distinct Count|\n",
      "+--------+--------------+\n",
      "|10533241|        135483|\n",
      "+--------+--------------+\n",
      "\n"
     ]
    }
   ],
   "source": [
    "# Count number of unique ids\n",
    "df_sessions.agg(\n",
    "    fn.count('user_id').alias('Count'),\n",
    "    fn.countDistinct('user_id').alias('Distinct Count')\n",
    ").show()"
   ]
  },
  {
   "cell_type": "markdown",
   "metadata": {},
   "source": [
    "Not concerning that there are fewer distinct ids than total rows in this dataset because a given user could have multiple sessions. \n",
    "\n",
    "However, important to note that the train_users data had more unique ids than this dataset (213451 versus 135483) so we do not have session data for all users. I wonder whether this is meaningful... like if we don't have session data then the user wasn't active.... or whether it is just missing/incomplete data. "
   ]
  },
  {
   "cell_type": "code",
   "execution_count": 34,
   "metadata": {},
   "outputs": [
    {
     "name": "stdout",
     "output_type": "stream",
     "text": [
      "action\n",
      "+---------------------+-------+-------+\n",
      "|action               |Count  |Percent|\n",
      "+---------------------+-------+-------+\n",
      "|show                 |2768278|26.2   |\n",
      "|index                |843699 |7.98   |\n",
      "|search_results       |725226 |6.86   |\n",
      "|personalize          |706824 |6.69   |\n",
      "|search               |536057 |5.07   |\n",
      "|ajax_refresh_subtotal|487744 |4.62   |\n",
      "|update               |365130 |3.46   |\n",
      "|similar_listings     |364624 |3.45   |\n",
      "|social_connections   |339000 |3.21   |\n",
      "|reviews              |320591 |3.03   |\n",
      "|active               |188036 |1.78   |\n",
      "|similar_listings_v2  |168788 |1.6    |\n",
      "|lookup               |162041 |1.53   |\n",
      "|create               |155887 |1.48   |\n",
      "|dashboard            |152952 |1.45   |\n",
      "|header_userpic       |141830 |1.34   |\n",
      "|collections          |124417 |1.18   |\n",
      "|edit                 |109083 |1.03   |\n",
      "|campaigns            |105028 |0.99   |\n",
      "|track_page_view      |81117  |0.77   |\n",
      "+---------------------+-------+-------+\n",
      "only showing top 20 rows\n",
      "\n",
      "action_type\n",
      "+----------------+-------+-------+\n",
      "|action_type     |Count  |Percent|\n",
      "+----------------+-------+-------+\n",
      "|view            |3560902|33.7   |\n",
      "|data            |2103770|19.91  |\n",
      "|click           |1996183|18.89  |\n",
      "|null            |1126204|10.66  |\n",
      "|-unknown-       |1031170|9.76   |\n",
      "|submit          |623357 |5.9    |\n",
      "|message_post    |87103  |0.82   |\n",
      "|partner_callback|19132  |0.18   |\n",
      "|booking_request |18773  |0.18   |\n",
      "|modify          |1139   |0.01   |\n",
      "|booking_response|4      |0.0    |\n",
      "+----------------+-------+-------+\n",
      "\n",
      "action_detail\n",
      "+---------------------------+-------+-------+\n",
      "|action_detail              |Count  |Percent|\n",
      "+---------------------------+-------+-------+\n",
      "|view_search_results        |1776885|16.81  |\n",
      "|p3                         |1376550|13.03  |\n",
      "|null                       |1126204|10.66  |\n",
      "|-unknown-                  |1031141|9.76   |\n",
      "|wishlist_content_update    |706824 |6.69   |\n",
      "|user_profile               |656839 |6.22   |\n",
      "|change_trip_characteristics|487744 |4.62   |\n",
      "|similar_listings           |364624 |3.45   |\n",
      "|user_social_connections    |336799 |3.19   |\n",
      "|update_listing             |269779 |2.55   |\n",
      "|listing_reviews            |269021 |2.55   |\n",
      "|dashboard                  |152952 |1.45   |\n",
      "|user_wishlists             |152672 |1.44   |\n",
      "|header_userpic             |141830 |1.34   |\n",
      "|message_thread             |132395 |1.25   |\n",
      "|edit_profile               |108686 |1.03   |\n",
      "|message_post               |87103  |0.82   |\n",
      "|contact_host               |81041  |0.77   |\n",
      "|unavailable_dates          |77795  |0.74   |\n",
      "|confirm_email_link         |58422  |0.55   |\n",
      "+---------------------------+-------+-------+\n",
      "only showing top 20 rows\n",
      "\n"
     ]
    }
   ],
   "source": [
    "# Caclulate frequency of different actions\n",
    "for col in ['action', 'action_type', 'action_detail']:\n",
    "    print(col)\n",
    "    df_sessions.groupBy(col) \\\n",
    "          .count() \\\n",
    "          .withColumnRenamed('count', 'Count') \\\n",
    "          .withColumn('Percent', fn.round((fn.col('Count') / df_sessions.count()) * 100 , 2)) \\\n",
    "          .sort(fn.desc('Count')) \\\n",
    "          .show(truncate = False)"
   ]
  },
  {
   "cell_type": "markdown",
   "metadata": {},
   "source": [
    "There are a lot of different actions... not sure the best way to aggregate these to the user level. \n",
    "\n",
    "To start I think I'll just try a couple:\n",
    "- Total time elapsed (sum secs_elapsed for each user)\n",
    "- Number of actions (count of records in sessions data for each user... probably correlated with time elapsed though)\n",
    "- Number of different actions\n",
    "    \n",
    "Future possiblility: maybe use NLP techniques to extract info from the action details? Like maybe turn these into a list of actions then use like TF-IDF or something to look at frequency of these different actions without doing it manually?"
   ]
  },
  {
   "cell_type": "code",
   "execution_count": 35,
   "metadata": {},
   "outputs": [],
   "source": [
    "# Aggregate some session data to user level\n",
    "\n",
    "session_agg = df_sessions.groupby('user_id').agg(\n",
    "    fn.sum('secs_elapsed').alias('total_time_elapsed'),\n",
    "    fn.count('action').alias('total_num_actions'),\n",
    "    fn.countDistinct('action').alias('num_unique_actions'),\n",
    "    fn.count('action_type').alias('total_num_action_types'),\n",
    "    fn.countDistinct('action_type').alias('num_unique_action_types'),\n",
    "    fn.count('action_detail').alias('total_num_action_details'),\n",
    "    fn.countDistinct('action_detail').alias('num_unique_action_det')\n",
    ")"
   ]
  },
  {
   "cell_type": "code",
   "execution_count": 36,
   "metadata": {},
   "outputs": [
    {
     "name": "stdout",
     "output_type": "stream",
     "text": [
      "+----------+------------------+-----------------+------------------+----------------------+-----------------------+------------------------+---------------------+\n",
      "|   user_id|total_time_elapsed|total_num_actions|num_unique_actions|total_num_action_types|num_unique_action_types|total_num_action_details|num_unique_action_det|\n",
      "+----------+------------------+-----------------+------------------+----------------------+-----------------------+------------------------+---------------------+\n",
<<<<<<< HEAD
      "|01r3iatdvv|          813485.0|               27|                13|                    24|                      5|                      24|                   10|\n",
      "|4ebilrfuh7|          197588.0|               20|                 6|                    19|                      4|                      19|                    5|\n",
      "|9v6mz2y0q8|         1311516.0|              179|                12|                   149|                      5|                     149|                    9|\n",
=======
      "|zds4xn9jvb|         4837348.0|               94|                12|                    67|                      6|                      67|                   11|\n",
      "|e766mg6ku1|          259326.0|               10|                 7|                     8|                      5|                       8|                    5|\n",
      "|f0cnhta47g|         1338892.0|              167|                21|                   123|                      5|                     123|                   14|\n",
>>>>>>> 478a080dc82cb461d0282f53fc759113c901406e
      "+----------+------------------+-----------------+------------------+----------------------+-----------------------+------------------------+---------------------+\n",
      "only showing top 3 rows\n",
      "\n"
     ]
    }
   ],
   "source": [
    "session_agg.show(3)"
   ]
  },
  {
   "cell_type": "code",
   "execution_count": 37,
   "metadata": {},
   "outputs": [
    {
     "name": "stdout",
     "output_type": "stream",
     "text": [
      "-RECORD 0------------------------------\n",
      " user_id                  | d1mm9tcy42 \n",
      " total_time_elapsed       | 3427529.0  \n",
      " total_num_actions        | 126        \n",
      " num_unique_actions       | 16         \n",
      " total_num_action_types   | 90         \n",
      " num_unique_action_types  | 6          \n",
      " total_num_action_details | 90         \n",
      " num_unique_action_det    | 9          \n",
      "\n"
     ]
    }
   ],
   "source": [
    "session_agg.filter(df_sessions.user_id == 'd1mm9tcy42').show(vertical = True)"
   ]
  },
  {
   "cell_type": "code",
   "execution_count": 38,
   "metadata": {},
   "outputs": [
    {
     "name": "stdout",
     "output_type": "stream",
     "text": [
      "+------+--------------+\n",
      "| Count|Distinct Count|\n",
      "+------+--------------+\n",
      "|135483|        135483|\n",
      "+------+--------------+\n",
      "\n"
     ]
    }
   ],
   "source": [
    "# Count number of unique ids\n",
    "session_agg.agg(\n",
    "    fn.count('user_id').alias('Count'),\n",
    "    fn.countDistinct('user_id').alias('Distinct Count')\n",
    ").show()"
   ]
  },
  {
   "cell_type": "markdown",
   "metadata": {},
   "source": [
    "## Join Aggregated Session Data with User Data"
   ]
  },
  {
   "cell_type": "code",
   "execution_count": 39,
   "metadata": {},
   "outputs": [
    {
     "name": "stdout",
     "output_type": "stream",
     "text": [
      "+------+--------------+\n",
      "| Count|Distinct Count|\n",
      "+------+--------------+\n",
      "|213451|        213451|\n",
      "+------+--------------+\n",
      "\n"
     ]
    }
   ],
   "source": [
    "# Check counts before join\n",
    "df.agg(\n",
    "    fn.count('id').alias('Count'),\n",
    "    fn.countDistinct('id').alias('Distinct Count')\n",
    ").show()"
   ]
  },
  {
   "cell_type": "code",
   "execution_count": 40,
   "metadata": {},
   "outputs": [],
   "source": [
    "# Join datasets - use left join to keep as user data\n",
    "df = df.join(session_agg,df.id ==  session_agg.user_id,\"left\")"
   ]
  },
  {
   "cell_type": "code",
   "execution_count": 41,
   "metadata": {},
   "outputs": [
    {
     "name": "stdout",
     "output_type": "stream",
     "text": [
      "+------+--------------+\n",
      "| Count|Distinct Count|\n",
      "+------+--------------+\n",
      "|213451|        213451|\n",
      "+------+--------------+\n",
      "\n"
     ]
    }
   ],
   "source": [
    "# Check counts after join\n",
    "df.agg(\n",
    "    fn.count('id').alias('Count'),\n",
    "    fn.countDistinct('id').alias('Distinct Count')\n",
    ").show()"
   ]
  },
  {
   "cell_type": "code",
   "execution_count": 42,
   "metadata": {},
   "outputs": [
    {
     "name": "stdout",
     "output_type": "stream",
     "text": [
      "-RECORD 0--------------------------------------\n",
      " id                       | 01r3iatdvv         \n",
      " date_account_created     | 2014-02-11         \n",
      " timestamp_first_active   | 2.0140211202128E13 \n",
      " date_first_booking       | 2014-02-12         \n",
      " gender                   | -unknown-          \n",
      " age                      | null               \n",
      " signup_method            | basic              \n",
      " signup_flow              | 0                  \n",
      " language                 | en                 \n",
      " affiliate_channel        | direct             \n",
      " affiliate_provider       | direct             \n",
      " first_affiliate_tracked  | untracked          \n",
      " signup_app               | Web                \n",
      " first_device_type        | Mac Desktop        \n",
      " first_browser            | Chrome             \n",
      " country_destination      | US                 \n",
      " booked                   | Yes                \n",
      " age_new                  | null               \n",
      " age_missing              | 1                  \n",
      " user_id                  | 01r3iatdvv         \n",
      " total_time_elapsed       | 813485.0           \n",
      " total_num_actions        | 27                 \n",
      " num_unique_actions       | 13                 \n",
      " total_num_action_types   | 24                 \n",
      " num_unique_action_types  | 5                  \n",
      " total_num_action_details | 24                 \n",
      " num_unique_action_det    | 10                 \n",
      "only showing top 1 row\n",
      "\n"
     ]
    }
   ],
   "source": [
    "df.show(1, vertical = True)"
   ]
  },
  {
   "cell_type": "markdown",
   "metadata": {},
   "source": [
    "### Adding just a few more summary statistics for new aggregated data"
   ]
  },
  {
   "cell_type": "code",
   "execution_count": 43,
   "metadata": {},
   "outputs": [
    {
     "name": "stdout",
     "output_type": "stream",
     "text": [
      "+-------+------------------+------------------+----------------------+\n",
      "|summary|total_time_elapsed| total_num_actions|total_num_action_types|\n",
      "+-------+------------------+------------------+----------------------+\n",
      "|  count|             72631|             73815|                 73815|\n",
      "|   mean| 1538919.380126943|  74.3266951161688|      66.6273386168123|\n",
      "| stddev|1918849.4685871054|112.02895059596158|     99.86638815766388|\n",
      "|    min|               0.0|                 0|                     0|\n",
      "|    25%|          278431.0|                13|                    12|\n",
      "|    50%|          900296.0|                37|                    34|\n",
      "|    75%|         2069955.0|                90|                    81|\n",
      "|    max|       3.8221363E7|              2643|                  2636|\n",
      "+-------+------------------+------------------+----------------------+\n",
      "\n"
     ]
    }
   ],
   "source": [
    "#separating into 2 groups for nice printing\n",
    "new_numeric_cols1 = [\n",
    "    'total_time_elapsed', \n",
    "    'total_num_actions', \n",
    "    'total_num_action_types'\n",
    "]\n",
    "\n",
    "new_numeric_cols2 = [\n",
    "    'num_unique_action_types',\n",
    "    'total_num_action_details',\n",
    "    'num_unique_action_det'\n",
    "]\n",
    "\n",
    "df.select(new_numeric_cols1).summary().show()"
   ]
  },
  {
   "cell_type": "code",
   "execution_count": 44,
   "metadata": {},
   "outputs": [
    {
     "name": "stdout",
     "output_type": "stream",
     "text": [
      "+-------+-----------------------+------------------------+---------------------+\n",
      "|summary|num_unique_action_types|total_num_action_details|num_unique_action_det|\n",
      "+-------+-----------------------+------------------------+---------------------+\n",
      "|  count|                  73815|                   73815|                73815|\n",
      "|   mean|      4.893409198672357|        66.6273386168123|   10.849624060150376|\n",
      "| stddev|     1.4786774136871539|       99.86638815766388|    5.975923762950684|\n",
      "|    min|                      0|                       0|                    0|\n",
      "|    25%|                      4|                      12|                    7|\n",
      "|    50%|                      5|                      34|                   10|\n",
      "|    75%|                      6|                      81|                   14|\n",
      "|    max|                      8|                    2636|                   46|\n",
      "+-------+-----------------------+------------------------+---------------------+\n",
      "\n"
     ]
    }
   ],
   "source": [
    "df.select(new_numeric_cols2).summary().show()"
   ]
  },
  {
   "cell_type": "markdown",
   "metadata": {},
   "source": [
    "Other than the age variable which Kaia noted earlier has an outlier... some of these aggregated variables may have outliers as well or perhaps need to be scaled bc 2600 is a big jump from 81-90 at the 75th quartile."
   ]
  },
  {
   "cell_type": "code",
   "execution_count": 45,
   "metadata": {},
   "outputs": [
    {
     "name": "stdout",
     "output_type": "stream",
     "text": [
      "+-----------------+----------------------+------------------------+\n",
      "|total_num_actions|total_num_action_types|total_num_action_details|\n",
      "+-----------------+----------------------+------------------------+\n",
      "|             2643|                  2636|                    2636|\n",
      "|             2323|                  2055|                    2055|\n",
      "|             2264|                  2244|                    2244|\n",
      "|             2244|                  2235|                    2235|\n",
      "|             2134|                  2130|                    2130|\n",
      "|             2085|                  1279|                    1279|\n",
      "|             1938|                  1928|                    1928|\n",
      "|             1923|                  1907|                    1907|\n",
      "|             1861|                  1589|                    1589|\n",
      "|             1796|                  1770|                    1770|\n",
      "|             1792|                  1755|                    1755|\n",
      "|             1781|                  1296|                    1296|\n",
      "|             1779|                  1279|                    1279|\n",
      "|             1778|                  1474|                    1474|\n",
      "|             1752|                  1494|                    1494|\n",
      "|             1740|                  1555|                    1555|\n",
      "|             1732|                  1693|                    1693|\n",
      "|             1668|                  1261|                    1261|\n",
      "|             1574|                  1177|                    1177|\n",
      "|             1562|                  1338|                    1338|\n",
      "|             1548|                  1543|                    1543|\n",
      "|             1538|                  1538|                    1538|\n",
      "|             1524|                  1137|                    1137|\n",
      "|             1514|                  1171|                    1171|\n",
      "|             1406|                  1276|                    1276|\n",
      "|             1403|                  1295|                    1295|\n",
      "|             1400|                  1037|                    1037|\n",
      "|             1390|                  1033|                    1033|\n",
      "|             1382|                   924|                     924|\n",
      "|             1375|                  1347|                    1347|\n",
      "|             1367|                  1319|                    1319|\n",
      "|             1365|                  1347|                    1347|\n",
      "|             1363|                  1335|                    1335|\n",
      "|             1351|                  1238|                    1238|\n",
      "|             1327|                  1302|                    1302|\n",
      "|             1297|                  1291|                    1291|\n",
      "|             1297|                  1115|                    1115|\n",
      "|             1288|                  1239|                    1239|\n",
      "|             1258|                  1207|                    1207|\n",
      "|             1253|                   854|                     854|\n",
      "|             1249|                  1247|                    1247|\n",
      "|             1242|                  1160|                    1160|\n",
      "|             1241|                  1235|                    1235|\n",
      "|             1234|                  1125|                    1125|\n",
      "|             1231|                  1073|                    1073|\n",
      "|             1223|                  1140|                    1140|\n",
      "|             1221|                  1070|                    1070|\n",
      "|             1203|                  1116|                    1116|\n",
      "|             1197|                  1035|                    1035|\n",
      "|             1196|                   790|                     790|\n",
      "+-----------------+----------------------+------------------------+\n",
      "only showing top 50 rows\n",
      "\n"
     ]
    }
   ],
   "source": [
    "df.select([\"total_num_actions\", \"total_num_action_types\", \"total_num_action_details\"])\\\n",
    "    .orderBy(\"total_num_actions\", ascending = [False])\\\n",
    "    .show(50)"
   ]
  },
  {
   "cell_type": "markdown",
   "metadata": {},
   "source": [
    "However, looking at the top 50 sorted by one of these columns, it doesn't really feel like an outlier, instead it seems like a reasonable skewed distribution. Looking at it this way, I wonder how much information each of these 3 columns gives us independent of the other ones."
   ]
  },
  {
   "cell_type": "code",
   "execution_count": 46,
   "metadata": {},
   "outputs": [
    {
     "data": {
      "text/plain": [
<<<<<<< HEAD
       "[[1.0, 0.9937649246849928, 0.9937649246849926],\n",
=======
       "[[1.0, 0.9937649246849927, 0.9937649246849927],\n",
>>>>>>> 478a080dc82cb461d0282f53fc759113c901406e
       " [None, 1.0, 1.0],\n",
       " [None, None, 1.0]]"
      ]
     },
     "execution_count": 46,
     "metadata": {},
     "output_type": "execute_result"
    }
   ],
   "source": [
    "#correlation between variables - this code can be later applied if we want a correlation matrix of our data\n",
    "\n",
    "features = ['total_num_actions', 'total_num_action_types', 'total_num_action_details']\n",
    "\n",
    "n_numerical = len(features)\n",
    "\n",
    "corr = []\n",
    "\n",
    "for i in range(0, n_numerical):\n",
    "    temp = [None]*i\n",
    "    for j in range(i, n_numerical):\n",
    "        temp.append(df.corr(features[i], features[j]))\n",
    "    corr.append(temp)\n",
    "\n",
    "corr"
   ]
  },
  {
   "cell_type": "markdown",
   "metadata": {},
   "source": [
    "We'll have to use discretion when choosing which of the online variables to include or possibly re-aggregate. These three variables are all very similar."
   ]
  },
  {
   "cell_type": "markdown",
   "metadata": {},
   "source": [
    "## Data Visualization"
   ]
  },
  {
   "cell_type": "code",
   "execution_count": 47,
   "metadata": {},
   "outputs": [
    {
     "data": {
      "text/plain": [
       "Text(0.5, 1.0, 'Histogram of Age')"
      ]
     },
     "execution_count": 47,
     "metadata": {},
     "output_type": "execute_result"
    },
    {
     "data": {
      "image/png": "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\n",
      "text/plain": [
       "<Figure size 432x288 with 1 Axes>"
      ]
     },
     "metadata": {
      "needs_background": "light"
     },
     "output_type": "display_data"
    }
   ],
   "source": [
    "# Histogram of age\n",
    "hists = df.select('age_new').rdd.flatMap(\n",
    "    lambda row: row\n",
    ").histogram(20)\n",
    "\n",
    "data = {\n",
    "    'bins': hists[0][:-1],\n",
    "    'freq': hists[1]\n",
    "}\n",
    "plt.bar(data['bins'], data['freq'], width=5)\n",
    "plt.title('Histogram of Age')"
   ]
  },
  {
   "cell_type": "code",
   "execution_count": 48,
   "metadata": {},
   "outputs": [
    {
     "data": {
      "text/plain": [
       "Text(0.5, 1.0, 'Distribution of Total Session Time by Booked')"
      ]
     },
     "execution_count": 48,
     "metadata": {},
     "output_type": "execute_result"
    },
    {
     "data": {
      "image/png": "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\n",
      "text/plain": [
       "<Figure size 432x288 with 1 Axes>"
      ]
     },
     "metadata": {
      "needs_background": "light"
     },
     "output_type": "display_data"
    }
   ],
   "source": [
    "import seaborn as sns\n",
    "temp_data = df.select('total_time_elapsed', 'booked').toPandas()\n",
    "sns.boxplot(data=temp_data, x=\"total_time_elapsed\", y=\"booked\")\n",
    "plt.title('Distribution of Total Session Time by Booked')"
   ]
  },
  {
   "cell_type": "markdown",
   "metadata": {},
   "source": [
    "Clearly a large number of outliers in total elapsed time, but looks like those that booked tend to have slightly higher elapsed time that those that didn't. "
   ]
  },
  {
   "cell_type": "code",
   "execution_count": 49,
   "metadata": {},
   "outputs": [
    {
     "data": {
      "text/plain": [
       "Text(0.5, 1.0, 'Distribution of Gender by Booked')"
      ]
     },
     "execution_count": 49,
     "metadata": {},
     "output_type": "execute_result"
    },
    {
     "data": {
      "image/png": "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\n",
      "text/plain": [
       "<Figure size 432x288 with 1 Axes>"
      ]
     },
     "metadata": {
      "needs_background": "light"
     },
     "output_type": "display_data"
    }
   ],
   "source": [
    "temp_data = df.groupby('booked', 'gender').agg(fn.count('id').alias('Count')).toPandas()\n",
    "sns.barplot(data=temp_data, x=\"gender\", y=\"Count\", hue = 'booked')\n",
    "plt.title('Distribution of Gender by Booked')"
   ]
  },
  {
   "cell_type": "markdown",
   "metadata": {},
   "source": [
    "The majority of unknown genders did not book a rental.... possibly an indicator that they did not spend as much time updating the information in their profile."
   ]
  },
  {
   "cell_type": "code",
   "execution_count": 50,
   "metadata": {},
   "outputs": [
    {
     "data": {
      "image/png": "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\n",
      "text/plain": [
       "<Figure size 432x288 with 1 Axes>"
      ]
     },
     "metadata": {
      "needs_background": "light"
     },
     "output_type": "display_data"
    }
   ],
   "source": [
    "tmp = df.filter(df.country_destination != 'NDF')\\\n",
    "    .withColumn(\n",
    "    'US_booked',\n",
    "    fn.when((df.country_destination == 'US'), 'Yes')\\\n",
    "    .otherwise('No')\n",
    ")\\\n",
    "    .groupby([\"language\", \"US_booked\"])\\\n",
    "    .count()\n",
    "\n",
    "tmp_to_join = df.filter(df.country_destination != 'NDF')\\\n",
    "    .groupby(\"language\")\\\n",
    "    .count()\\\n",
    "    .withColumnRenamed('count', 'count_all')\\\n",
    "    .withColumnRenamed('language', 'language_join')\n",
    "\n",
    "tmp = tmp.join(tmp_to_join,tmp.language ==  tmp_to_join.language_join,\"full\")\\\n",
    "    .filter(fn.col(\"US_booked\") == \"Yes\")\\\n",
    "    .drop(\"language_join\")\\\n",
    "    .drop(\"US_booked\")\\\n",
    "    .withColumn(\"percent\", fn.col(\"count\")/fn.col(\"count_all\"))\\\n",
    "    .toPandas()\n",
    "\n",
    "sns.barplot(data=tmp, x=\"language\", y=\"percent\")\n",
    "plt.title('Percent Booked in US by Language')\n",
    "plt.xlabel('Language')\n",
    "plt.ylabel('Percent Booking in US')\n",
    "plt.show()"
   ]
  },
  {
   "cell_type": "code",
   "execution_count": 51,
   "metadata": {},
   "outputs": [
    {
     "data": {
      "text/plain": [
       "Text(0.5, 1.0, 'Histogram of Online Actions')"
      ]
     },
     "execution_count": 51,
     "metadata": {},
     "output_type": "execute_result"
    },
    {
     "data": {
      "image/png": "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\n",
      "text/plain": [
       "<Figure size 432x288 with 1 Axes>"
      ]
     },
     "metadata": {
      "needs_background": "light"
     },
     "output_type": "display_data"
    }
   ],
   "source": [
    "# Histogram of age\n",
    "sns.histplot(data=df.toPandas(), x=\"total_num_actions\", hue=\"booked\" ,multiple='stack')\n",
    "plt.title('Histogram of Online Actions')"
   ]
  },
  {
   "cell_type": "code",
<<<<<<< HEAD
   "execution_count": 52,
   "metadata": {},
   "outputs": [],
   "source": [
    "#a few more edits before saving\n",
    "#recoding because there are low number of some languages\n",
    "df = df.withColumn(\n",
    "    'language',\n",
    "    fn.when((df.language == 'en'), 'en')\\\n",
    "    .when((df.language == 'es'), 'es')\\\n",
    "    .when((df.language == 'zh'), 'zh')\\\n",
    "    .when((df.language == 'fr'), 'fr')\\\n",
    "    .when((df.language == 'de'), 'de')\\\n",
    "    .when((df.language == 'ko'), 'ko')\\\n",
    "    .when((df.language == 'it'), 'it')\\\n",
    "    .when((df.language == 'ru'), 'ru')\\\n",
    "    .otherwise(\"other\")\n",
    ")\n",
    "\n",
    "#Need to rename the variable 'booked' to 'label'\n",
    "df = df.withColumn(\n",
    "    'label',\n",
    "    fn.when((df.country_destination == 'NDF'), 0)\\\n",
    "    .otherwise(1)\n",
    ")"
   ]
=======
   "execution_count": null,
   "metadata": {},
   "outputs": [],
   "source": []
>>>>>>> 478a080dc82cb461d0282f53fc759113c901406e
  },
  {
   "cell_type": "markdown",
   "metadata": {},
   "source": [
    "## Save Pre-processed Datasets for Model Building"
   ]
  },
  {
   "cell_type": "markdown",
   "metadata": {},
   "source": [
    "In order to avoid re-doing some of these data processing steps when we go to build our models we've saved this pre-processed data for later model training and evaluation. Also, although Kaggle provided a test dataset as well, their test data does not include the response variable so we would not be able to use it for our model evaluation. Thus, we've decided to split our pre-processed data into our own train/test sets so that we have unseen holdout data to use for model evaluation. "
   ]
  },
  {
   "cell_type": "code",
<<<<<<< HEAD
   "execution_count": 53,
=======
   "execution_count": 52,
>>>>>>> 478a080dc82cb461d0282f53fc759113c901406e
   "metadata": {},
   "outputs": [],
   "source": [
    "# Split data into train/test\n",
    "seed = 123\n",
    "train, test = df.randomSplit([.7,.3], seed)"
   ]
  },
  {
   "cell_type": "code",
<<<<<<< HEAD
   "execution_count": 54,
=======
   "execution_count": 53,
>>>>>>> 478a080dc82cb461d0282f53fc759113c901406e
   "metadata": {},
   "outputs": [],
   "source": [
    "# Write training data to parquet file\n",
    "train.write.parquet(\"./data_preprocessed/train_data.parquet\")"
   ]
  },
  {
   "cell_type": "code",
<<<<<<< HEAD
   "execution_count": 55,
=======
   "execution_count": 54,
>>>>>>> 478a080dc82cb461d0282f53fc759113c901406e
   "metadata": {},
   "outputs": [],
   "source": [
    "# Write test data to parquet file\n",
    "test.write.parquet(\"./data_preprocessed/test_data.parquet\")"
   ]
<<<<<<< HEAD
=======
  },
  {
   "cell_type": "code",
   "execution_count": null,
   "metadata": {},
   "outputs": [],
   "source": []
  },
  {
   "cell_type": "code",
   "execution_count": null,
   "metadata": {},
   "outputs": [],
   "source": []
  },
  {
   "cell_type": "code",
   "execution_count": null,
   "metadata": {},
   "outputs": [],
   "source": []
>>>>>>> 478a080dc82cb461d0282f53fc759113c901406e
  }
 ],
 "metadata": {
  "kernelspec": {
   "display_name": "DS 5110 Spark 3.1",
   "language": "python",
   "name": "ds5110_spark3.1"
  },
  "language_info": {
   "codemirror_mode": {
    "name": "ipython",
    "version": 3
   },
   "file_extension": ".py",
   "mimetype": "text/x-python",
   "name": "python",
   "nbconvert_exporter": "python",
   "pygments_lexer": "ipython3",
   "version": "3.7.10"
  }
 },
 "nbformat": 4,
 "nbformat_minor": 4
}
