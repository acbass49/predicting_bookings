{
 "cells": [
  {
   "cell_type": "markdown",
   "metadata": {},
   "source": [
    "# Airbnb EDA\n",
    "\n",
    "Kaia Lindberg (pkx2ec)\n",
    "\n"
   ]
  },
  {
   "cell_type": "markdown",
   "metadata": {},
   "source": [
    "## 5.10 Final Project Ungraded Assignment\n",
    "At this point in the course, you should be training and evaluating models. Please create a Jupyter Notebook containing a concise summary of your dataset (described in submission instructions).  \n",
    "\n",
    "At a minimum, the file should include a summary containing:\n",
    "\n",
    "- Number of records\n",
    "- Number of columns\n",
    "- Statistical summary of response variable\n",
    "- Statistical summary of potential predictor variables (if there are a large number of predictors, select the top 10)\n",
    "    - Note: Summarize categorical variables with counts and percentages for each level and summarize numerical variables with mean/quantiles/standard deviation.\n",
    "- Include up to five helpful graphs"
   ]
  },
  {
   "cell_type": "code",
   "execution_count": 1,
   "metadata": {},
   "outputs": [],
   "source": [
    "# Imports\n",
    "import os\n",
    "from pyspark.sql import SparkSession\n",
    "from pyspark.sql.types import StructType, StructField, StringType, IntegerType, DoubleType\n",
    "import pyspark.sql.functions as fn\n",
    "\n"
   ]
  },
  {
   "cell_type": "code",
   "execution_count": 2,
   "metadata": {},
   "outputs": [],
   "source": [
    "# Start spark session\n",
    "spark = SparkSession.builder.getOrCreate()\n"
   ]
  },
  {
   "cell_type": "markdown",
   "metadata": {},
   "source": [
    "### Users Dataset"
   ]
  },
  {
   "cell_type": "code",
   "execution_count": 3,
   "metadata": {},
   "outputs": [],
   "source": [
    "# Define schema for data\n",
    "schema = StructType() \\\n",
    "      .add(\"id\",StringType(),True) \\\n",
    "      .add(\"date_account_created\",StringType(),True) \\\n",
    "      .add(\"timestamp_first_active\",DoubleType(),True) \\\n",
    "      .add(\"date_first_booking\",StringType(),True) \\\n",
    "      .add(\"gender\",StringType(),True) \\\n",
    "      .add(\"age\",DoubleType(),True) \\\n",
    "      .add(\"signup_method\",StringType(),True) \\\n",
    "      .add(\"signup_flow\",IntegerType(),True) \\\n",
    "      .add(\"language\",StringType(),True) \\\n",
    "      .add(\"affiliate_channel\",StringType(),True) \\\n",
    "      .add(\"affiliate_provider\",StringType(),True) \\\n",
    "      .add(\"first_affiliate_tracked\",StringType(),True) \\\n",
    "      .add(\"signup_app\",StringType(),True) \\\n",
    "      .add(\"first_device_type\",StringType(),True) \\\n",
    "      .add(\"first_browser\",StringType(),True) \\\n",
    "      .add(\"country_destination\",StringType(),True)"
   ]
  },
  {
   "cell_type": "code",
   "execution_count": 4,
   "metadata": {},
   "outputs": [],
   "source": [
    "# Lists of columns\n",
    "response_col = \"country_destination\"\n",
    "id_col = \"id\"\n",
    "categorical_cols = [\"gender\", \"signup_method\", \"language\", \n",
    "                    \"affiliate_channel\", \"affiliate_provider\", \"first_affiliate_tracked\",\n",
    "                    \"signup_app\", \"first_device_type\", \"first_browser\"]\n",
    "numeric_cols = [\"timestamp_first_active\", \"age\", \"signup_flow\", ]\n",
    "date_cols = [\"date_account_created\", \"date_first_booking\"]\n"
   ]
  },
  {
   "cell_type": "code",
   "execution_count": null,
   "metadata": {},
   "outputs": [],
   "source": []
  },
  {
   "cell_type": "code",
   "execution_count": 5,
   "metadata": {},
   "outputs": [],
   "source": [
    "# Read data in json format\n",
    "df = spark.read.option(\"header\",True).csv(\"./data/train_users_2.csv\", schema)\n"
   ]
  },
  {
   "cell_type": "code",
   "execution_count": 6,
   "metadata": {},
   "outputs": [
    {
     "name": "stdout",
     "output_type": "stream",
     "text": [
      "+----------+--------------------+----------------------+------------------+---------+----+-------------+-----------+--------+-----------------+------------------+-----------------------+----------+-----------------+-------------+-------------------+\n",
      "|        id|date_account_created|timestamp_first_active|date_first_booking|   gender| age|signup_method|signup_flow|language|affiliate_channel|affiliate_provider|first_affiliate_tracked|signup_app|first_device_type|first_browser|country_destination|\n",
      "+----------+--------------------+----------------------+------------------+---------+----+-------------+-----------+--------+-----------------+------------------+-----------------------+----------+-----------------+-------------+-------------------+\n",
      "|gxn3p5htnn|          2010-06-28|    2.0090319043255E13|              null|-unknown-|null|     facebook|          0|      en|           direct|            direct|              untracked|       Web|      Mac Desktop|       Chrome|                NDF|\n",
      "|820tgsjxq7|          2011-05-25|    2.0090523174809E13|              null|     MALE|38.0|     facebook|          0|      en|              seo|            google|              untracked|       Web|      Mac Desktop|       Chrome|                NDF|\n",
      "+----------+--------------------+----------------------+------------------+---------+----+-------------+-----------+--------+-----------------+------------------+-----------------------+----------+-----------------+-------------+-------------------+\n",
      "only showing top 2 rows\n",
      "\n"
     ]
    }
   ],
   "source": [
    "df.show(2)"
   ]
  },
  {
   "cell_type": "code",
   "execution_count": 7,
   "metadata": {},
   "outputs": [
    {
     "name": "stdout",
     "output_type": "stream",
     "text": [
      "root\n",
      " |-- id: string (nullable = true)\n",
      " |-- date_account_created: string (nullable = true)\n",
      " |-- timestamp_first_active: double (nullable = true)\n",
      " |-- date_first_booking: string (nullable = true)\n",
      " |-- gender: string (nullable = true)\n",
      " |-- age: double (nullable = true)\n",
      " |-- signup_method: string (nullable = true)\n",
      " |-- signup_flow: integer (nullable = true)\n",
      " |-- language: string (nullable = true)\n",
      " |-- affiliate_channel: string (nullable = true)\n",
      " |-- affiliate_provider: string (nullable = true)\n",
      " |-- first_affiliate_tracked: string (nullable = true)\n",
      " |-- signup_app: string (nullable = true)\n",
      " |-- first_device_type: string (nullable = true)\n",
      " |-- first_browser: string (nullable = true)\n",
      " |-- country_destination: string (nullable = true)\n",
      "\n"
     ]
    }
   ],
   "source": [
    "df.printSchema()"
   ]
  },
  {
   "cell_type": "code",
   "execution_count": 8,
   "metadata": {},
   "outputs": [
    {
     "data": {
      "text/plain": [
       "213451"
      ]
     },
     "execution_count": 8,
     "metadata": {},
     "output_type": "execute_result"
    }
   ],
   "source": [
    "# Count number of records\n",
    "df.count()"
   ]
  },
  {
   "cell_type": "code",
   "execution_count": 9,
   "metadata": {},
   "outputs": [
    {
     "name": "stdout",
     "output_type": "stream",
     "text": [
      "Count of rows: 213451\n",
      "Count of distinct rows: 213451\n"
     ]
    }
   ],
   "source": [
    "print('Count of rows: {0}'.format(df.count()))\n",
    "print('Count of distinct rows: {0}'.format(df.distinct().count()))"
   ]
  },
  {
   "cell_type": "code",
   "execution_count": 10,
   "metadata": {},
   "outputs": [
    {
     "name": "stdout",
     "output_type": "stream",
     "text": [
      "+------+--------+\n",
      "| count|distinct|\n",
      "+------+--------+\n",
      "|213451|  213451|\n",
      "+------+--------+\n",
      "\n"
     ]
    }
   ],
   "source": [
    "# Count number of unique ids\n",
    "\n",
    "df.agg(\n",
    "    fn.count('id').alias('count'),\n",
    "    fn.countDistinct('id').alias('distinct')\n",
    ").show()"
   ]
  },
  {
   "cell_type": "markdown",
   "metadata": {},
   "source": [
    "Note that the number of distinct ids is the same as the number of rows so there are no duplicate ids."
   ]
  },
  {
   "cell_type": "code",
   "execution_count": 11,
   "metadata": {},
   "outputs": [
    {
     "data": {
      "text/plain": [
       "16"
      ]
     },
     "execution_count": 11,
     "metadata": {},
     "output_type": "execute_result"
    }
   ],
   "source": [
    "# Number of columns\n",
    "len(df.columns)"
   ]
  },
  {
   "cell_type": "code",
   "execution_count": 12,
   "metadata": {},
   "outputs": [
    {
     "name": "stdout",
     "output_type": "stream",
     "text": [
      "-RECORD 0----------------------------------------------\n",
      " id_missing                      | 0.0                 \n",
      " date_account_created_missing    | 0.0                 \n",
      " timestamp_first_active_missing  | 0.0                 \n",
      " date_first_booking_missing      | 0.5834734904029496  \n",
      " gender_missing                  | 0.0                 \n",
      " age_missing                     | 0.412225756731053   \n",
      " signup_method_missing           | 0.0                 \n",
      " signup_flow_missing             | 0.0                 \n",
      " language_missing                | 0.0                 \n",
      " affiliate_channel_missing       | 0.0                 \n",
      " affiliate_provider_missing      | 0.0                 \n",
      " first_affiliate_tracked_missing | 0.02841401539463395 \n",
      " signup_app_missing              | 0.0                 \n",
      " first_device_type_missing       | 0.0                 \n",
      " first_browser_missing           | 0.0                 \n",
      " country_destination_missing     | 0.0                 \n",
      "\n"
     ]
    }
   ],
   "source": [
    "# Percent missing per column\n",
    "df.agg(*[\n",
    "    (1 - (fn.count(c) / fn.count('*'))).alias(c + '_missing')\n",
    "    for c in df.columns\n",
    "]).show(vertical = True)"
   ]
  },
  {
   "cell_type": "markdown",
   "metadata": {},
   "source": [
    "Overall not too much missing data other than a handful of columns:\n",
    "- Date of first booking is missing for more than half, but I suspect that these are users that did not make a booking so that is fine. Also this isn't a useful feature anyways because we're going to be using our model to predict before a user makes a booking so we wouldn't know this at inference time anyways. \n",
    "- Age has about 40% missing, which is pretty high. Will need to decide what to do with this... drop, fill, impute, etc. \n",
    "- First affiliate tracked has some missing values, but not too many so that's fine"
   ]
  },
  {
   "cell_type": "code",
   "execution_count": 13,
   "metadata": {},
   "outputs": [
    {
     "name": "stdout",
     "output_type": "stream",
     "text": [
      "+-------------------+------+\n",
      "|country_destination| count|\n",
      "+-------------------+------+\n",
      "|                 NL|   762|\n",
      "|                 PT|   217|\n",
      "|                 AU|   539|\n",
      "|                 CA|  1428|\n",
      "|                 GB|  2324|\n",
      "|              other| 10094|\n",
      "|                 DE|  1061|\n",
      "|                 ES|  2249|\n",
      "|                 US| 62376|\n",
      "|                 FR|  5023|\n",
      "|                NDF|124543|\n",
      "|                 IT|  2835|\n",
      "+-------------------+------+\n",
      "\n"
     ]
    }
   ],
   "source": [
    "# Statistical summary of response variable\n",
    "df.groupBy('country_destination').count().show()"
   ]
  },
  {
   "cell_type": "code",
   "execution_count": 14,
   "metadata": {},
   "outputs": [
    {
     "name": "stdout",
     "output_type": "stream",
     "text": [
      "+-------------------+------+-------+\n",
      "|country_destination| Count|Percent|\n",
      "+-------------------+------+-------+\n",
      "|                 NL|   762|   0.36|\n",
      "|                 PT|   217|    0.1|\n",
      "|                 AU|   539|   0.25|\n",
      "|                 CA|  1428|   0.67|\n",
      "|                 GB|  2324|   1.09|\n",
      "|              other| 10094|   4.73|\n",
      "|                 DE|  1061|    0.5|\n",
      "|                 ES|  2249|   1.05|\n",
      "|                 US| 62376|  29.22|\n",
      "|                 FR|  5023|   2.35|\n",
      "|                NDF|124543|  58.35|\n",
      "|                 IT|  2835|   1.33|\n",
      "+-------------------+------+-------+\n",
      "\n"
     ]
    }
   ],
   "source": [
    "# Statistical summary of response variable (count and percentage)\n",
    "\n",
    "df.groupBy(\"country_destination\") \\\n",
    "  .count() \\\n",
    "  .withColumnRenamed('count', 'Count') \\\n",
    "  .withColumn('Percent', fn.round((fn.col('Count') / df.count()) * 100 , 2)) \\\n",
    "  .show()"
   ]
  },
  {
   "cell_type": "markdown",
   "metadata": {},
   "source": [
    "There are 12 different destinations. The most common is NDF, no destination found, meaning that the user did not book a place. The second most common, and most common actual country destination, is the United States. Other is also a common, but pretty broad category. "
   ]
  },
  {
   "cell_type": "code",
   "execution_count": 15,
   "metadata": {},
   "outputs": [
    {
     "name": "stdout",
     "output_type": "stream",
     "text": [
      "+----------------------+----+-----------+\n",
      "|timestamp_first_active| age|signup_flow|\n",
      "+----------------------+----+-----------+\n",
      "|    2.0090319043255E13|null|          0|\n",
      "|    2.0090523174809E13|38.0|          0|\n",
      "|    2.0090609231247E13|56.0|          3|\n",
      "+----------------------+----+-----------+\n",
      "only showing top 3 rows\n",
      "\n"
     ]
    }
   ],
   "source": [
    "df.select(numeric_cols).show(3)"
   ]
  },
  {
   "cell_type": "code",
   "execution_count": 16,
   "metadata": {},
   "outputs": [
    {
     "name": "stdout",
     "output_type": "stream",
     "text": [
      "+-------+----------------------+------------------+------------------+\n",
      "|summary|timestamp_first_active|               age|       signup_flow|\n",
      "+-------+----------------------+------------------+------------------+\n",
      "|  count|                213451|            125461|            213451|\n",
      "|   mean|  2.013085041736745...| 49.66833517985669|3.2673868944160485|\n",
      "| stddev|   9.253717046788992E9|155.66661183021571|  7.63770686943505|\n",
      "|    min|    2.0090319043255E13|               1.0|                 0|\n",
      "|    25%|     2.012122504391E13|              28.0|                 0|\n",
      "|    50%|    2.0130911053924E13|              34.0|                 0|\n",
      "|    75%|    2.0140306074825E13|              43.0|                 0|\n",
      "|    max|    2.0140630235824E13|            2014.0|                25|\n",
      "+-------+----------------------+------------------+------------------+\n",
      "\n"
     ]
    }
   ],
   "source": [
    "# Statistical summary of numeric columns\n",
    "df.select(numeric_cols).summary().show()"
   ]
  },
  {
   "cell_type": "markdown",
   "metadata": {},
   "source": [
    "Note illogical min age of 1 and max age of 2014.\n",
    "\n",
    "Signup flow is numeric, but according to dataset description on kaggle signup_flow is the page a user came to signup up from. Not sure what this column means"
   ]
  },
  {
   "cell_type": "code",
   "execution_count": 17,
   "metadata": {},
   "outputs": [
    {
     "name": "stdout",
     "output_type": "stream",
     "text": [
      "gender\n",
      "+---------+-----+-------+\n",
      "|   gender|Count|Percent|\n",
      "+---------+-----+-------+\n",
      "|-unknown-|95688|  44.83|\n",
      "|   FEMALE|63041|  29.53|\n",
      "|     MALE|54440|   25.5|\n",
      "|    OTHER|  282|   0.13|\n",
      "+---------+-----+-------+\n",
      "\n",
      "signup_method\n",
      "+-------------+------+-------+\n",
      "|signup_method| Count|Percent|\n",
      "+-------------+------+-------+\n",
      "|        basic|152897|  71.63|\n",
      "|     facebook| 60008|  28.11|\n",
      "|       google|   546|   0.26|\n",
      "+-------------+------+-------+\n",
      "\n",
      "language\n",
      "+--------+------+-------+\n",
      "|language| Count|Percent|\n",
      "+--------+------+-------+\n",
      "|      en|206314|  96.66|\n",
      "|      zh|  1632|   0.76|\n",
      "|      fr|  1172|   0.55|\n",
      "|      es|   915|   0.43|\n",
      "|      ko|   747|   0.35|\n",
      "|      de|   732|   0.34|\n",
      "|      it|   514|   0.24|\n",
      "|      ru|   389|   0.18|\n",
      "|      pt|   240|   0.11|\n",
      "|      ja|   225|   0.11|\n",
      "|      sv|   122|   0.06|\n",
      "|      nl|    97|   0.05|\n",
      "|      tr|    64|   0.03|\n",
      "|      da|    58|   0.03|\n",
      "|      pl|    54|   0.03|\n",
      "|      cs|    32|   0.01|\n",
      "|      no|    30|   0.01|\n",
      "|      th|    24|   0.01|\n",
      "|      el|    24|   0.01|\n",
      "|      id|    22|   0.01|\n",
      "+--------+------+-------+\n",
      "only showing top 20 rows\n",
      "\n",
      "affiliate_channel\n",
      "+-----------------+------+-------+\n",
      "|affiliate_channel| Count|Percent|\n",
      "+-----------------+------+-------+\n",
      "|           direct|137727|  64.52|\n",
      "|        sem-brand| 26045|   12.2|\n",
      "|    sem-non-brand| 18844|   8.83|\n",
      "|            other|  8961|    4.2|\n",
      "|              seo|  8663|   4.06|\n",
      "|              api|  8167|   3.83|\n",
      "|          content|  3948|   1.85|\n",
      "|      remarketing|  1096|   0.51|\n",
      "+-----------------+------+-------+\n",
      "\n",
      "affiliate_provider\n",
      "+-------------------+------+-------+\n",
      "| affiliate_provider| Count|Percent|\n",
      "+-------------------+------+-------+\n",
      "|             direct|137426|  64.38|\n",
      "|             google| 51693|  24.22|\n",
      "|              other| 12549|   5.88|\n",
      "|         craigslist|  3471|   1.63|\n",
      "|               bing|  2328|   1.09|\n",
      "|           facebook|  2273|   1.06|\n",
      "|               vast|   829|   0.39|\n",
      "|          padmapper|   768|   0.36|\n",
      "|facebook-open-graph|   545|   0.26|\n",
      "|              yahoo|   496|   0.23|\n",
      "|                gsp|   453|   0.21|\n",
      "|             meetup|   347|   0.16|\n",
      "|    email-marketing|   166|   0.08|\n",
      "|              naver|    52|   0.02|\n",
      "|              baidu|    29|   0.01|\n",
      "|             yandex|    17|   0.01|\n",
      "|               wayn|     8|    0.0|\n",
      "|               daum|     1|    0.0|\n",
      "+-------------------+------+-------+\n",
      "\n",
      "first_affiliate_tracked\n",
      "+-----------------------+------+-------+\n",
      "|first_affiliate_tracked| Count|Percent|\n",
      "+-----------------------+------+-------+\n",
      "|              untracked|109232|  51.17|\n",
      "|                 linked| 46287|  21.69|\n",
      "|                    omg| 43982|  20.61|\n",
      "|          tracked-other|  6156|   2.88|\n",
      "|                   null|  6065|   2.84|\n",
      "|                product|  1556|   0.73|\n",
      "|              marketing|   139|   0.07|\n",
      "|              local ops|    34|   0.02|\n",
      "+-----------------------+------+-------+\n",
      "\n",
      "signup_app\n",
      "+----------+------+-------+\n",
      "|signup_app| Count|Percent|\n",
      "+----------+------+-------+\n",
      "|       Web|182717|   85.6|\n",
      "|       iOS| 19019|   8.91|\n",
      "|     Moweb|  6261|   2.93|\n",
      "|   Android|  5454|   2.56|\n",
      "+----------+------+-------+\n",
      "\n",
      "first_device_type\n",
      "+------------------+-----+-------+\n",
      "| first_device_type|Count|Percent|\n",
      "+------------------+-----+-------+\n",
      "|       Mac Desktop|89600|  41.98|\n",
      "|   Windows Desktop|72716|  34.07|\n",
      "|            iPhone|20759|   9.73|\n",
      "|              iPad|14339|   6.72|\n",
      "|     Other/Unknown|10667|    5.0|\n",
      "|     Android Phone| 2803|   1.31|\n",
      "|    Android Tablet| 1292|   0.61|\n",
      "|   Desktop (Other)| 1199|   0.56|\n",
      "|SmartPhone (Other)|   76|   0.04|\n",
      "+------------------+-----+-------+\n",
      "\n",
      "first_browser\n",
      "+------------------+-----+-------+\n",
      "|     first_browser|Count|Percent|\n",
      "+------------------+-----+-------+\n",
      "|            Chrome|63845|  29.91|\n",
      "|            Safari|45169|  21.16|\n",
      "|           Firefox|33655|  15.77|\n",
      "|         -unknown-|27266|  12.77|\n",
      "|                IE|21068|   9.87|\n",
      "|     Mobile Safari|19274|   9.03|\n",
      "|     Chrome Mobile| 1270|   0.59|\n",
      "|   Android Browser|  851|    0.4|\n",
      "|      AOL Explorer|  245|   0.11|\n",
      "|             Opera|  188|   0.09|\n",
      "|              Silk|  124|   0.06|\n",
      "|          Chromium|   73|   0.03|\n",
      "|BlackBerry Browser|   53|   0.02|\n",
      "|           Maxthon|   46|   0.02|\n",
      "|         IE Mobile|   36|   0.02|\n",
      "|        Apple Mail|   36|   0.02|\n",
      "|    Sogou Explorer|   33|   0.02|\n",
      "|    Mobile Firefox|   30|   0.01|\n",
      "|          RockMelt|   24|   0.01|\n",
      "|         SiteKiosk|   24|   0.01|\n",
      "+------------------+-----+-------+\n",
      "only showing top 20 rows\n",
      "\n"
     ]
    }
   ],
   "source": [
    "for col in categorical_cols:\n",
    "    print(col)\n",
    "    df.groupBy(col) \\\n",
    "          .count() \\\n",
    "          .withColumnRenamed('count', 'Count') \\\n",
    "          .withColumn('Percent', fn.round((fn.col('Count') / df.count()) * 100 , 2)) \\\n",
    "          .sort(fn.desc('Count')) \\\n",
    "          .show()"
   ]
  },
  {
   "cell_type": "markdown",
   "metadata": {},
   "source": [
    "A few observations: \n",
    "- Large number unknown gender\n",
    "- Majority of language is english, but a lot of other smaller ones. May want to group some smaller ones into other"
   ]
  },
  {
   "cell_type": "code",
   "execution_count": 34,
   "metadata": {},
   "outputs": [],
   "source": [
    "# Create binary column (booked place or did not)\n",
    "df = df.withColumn(\n",
    "    'Booked',\n",
    "    fn.when((df.country_destination == 'NDF'), 'No')\\\n",
    "    .otherwise('Yes')\n",
    ")\n"
   ]
  },
  {
   "cell_type": "code",
   "execution_count": 35,
   "metadata": {},
   "outputs": [
    {
     "name": "stdout",
     "output_type": "stream",
     "text": [
      "+------+------+-------+\n",
      "|Booked| Count|Percent|\n",
      "+------+------+-------+\n",
      "|    No|124543|  58.35|\n",
      "|   Yes| 88908|  41.65|\n",
      "+------+------+-------+\n",
      "\n"
     ]
    }
   ],
   "source": [
    "# Statistical summary of binary response variable (count and percentage)\n",
    "\n",
    "df.groupBy(\"Booked\") \\\n",
    "  .count() \\\n",
    "  .withColumnRenamed('count', 'Count') \\\n",
    "  .withColumn('Percent', fn.round((fn.col('Count') / df.count()) * 100 , 2)) \\\n",
    "  .show()"
   ]
  },
  {
   "cell_type": "markdown",
   "metadata": {},
   "source": [
    "## Sessions Dataset"
   ]
  },
  {
   "cell_type": "code",
   "execution_count": 19,
   "metadata": {},
   "outputs": [],
   "source": [
    "# Define schema for data\n",
    "schema_sessions = StructType() \\\n",
    "      .add(\"user_id\",StringType(),True) \\\n",
    "      .add(\"action\",StringType(),True) \\\n",
    "      .add(\"action_type\",StringType(),True) \\\n",
    "      .add(\"action_detail\",StringType(),True) \\\n",
    "      .add(\"device_type\",StringType(),True) \\\n",
    "      .add(\"secs_elapsed\",DoubleType(),True)"
   ]
  },
  {
   "cell_type": "code",
   "execution_count": 20,
   "metadata": {},
   "outputs": [],
   "source": [
    "# Read data in json format\n",
    "df_sessions = spark.read.option(\"header\",True) \\\n",
    "    .csv(\"./data/sessions.csv\", schema_sessions)\n"
   ]
  },
  {
   "cell_type": "code",
   "execution_count": 21,
   "metadata": {},
   "outputs": [
    {
     "name": "stdout",
     "output_type": "stream",
     "text": [
      "+----------+--------------+-----------+-------------------+---------------+------------+\n",
      "|   user_id|        action|action_type|      action_detail|    device_type|secs_elapsed|\n",
      "+----------+--------------+-----------+-------------------+---------------+------------+\n",
      "|d1mm9tcy42|        lookup|       null|               null|Windows Desktop|       319.0|\n",
      "|d1mm9tcy42|search_results|      click|view_search_results|Windows Desktop|     67753.0|\n",
      "+----------+--------------+-----------+-------------------+---------------+------------+\n",
      "only showing top 2 rows\n",
      "\n"
     ]
    }
   ],
   "source": [
    "df_sessions.show(2)"
   ]
  },
  {
   "cell_type": "code",
   "execution_count": 22,
   "metadata": {},
   "outputs": [
    {
     "name": "stdout",
     "output_type": "stream",
     "text": [
      "root\n",
      " |-- user_id: string (nullable = true)\n",
      " |-- action: string (nullable = true)\n",
      " |-- action_type: string (nullable = true)\n",
      " |-- action_detail: string (nullable = true)\n",
      " |-- device_type: string (nullable = true)\n",
      " |-- secs_elapsed: double (nullable = true)\n",
      "\n"
     ]
    }
   ],
   "source": [
    "df_sessions.printSchema()"
   ]
  },
  {
   "cell_type": "code",
   "execution_count": 23,
   "metadata": {},
   "outputs": [
    {
     "data": {
      "text/plain": [
       "10567737"
      ]
     },
     "execution_count": 23,
     "metadata": {},
     "output_type": "execute_result"
    }
   ],
   "source": [
    "# Count number of records\n",
    "df_sessions.count()"
   ]
  },
  {
   "cell_type": "code",
   "execution_count": 24,
   "metadata": {},
   "outputs": [
    {
     "name": "stdout",
     "output_type": "stream",
     "text": [
      "Count of rows: 10567737\n",
      "Count of distinct rows: 10315201\n"
     ]
    }
   ],
   "source": [
    "print('Count of rows: {0}'.format(df_sessions.count()))\n",
    "print('Count of distinct rows: {0}'.format(df_sessions.distinct().count()))"
   ]
  },
  {
   "cell_type": "markdown",
   "metadata": {},
   "source": [
    "Not all rows are unique, but given this dataset I think that is reasonable because a given user could do the same action multiple times. "
   ]
  },
  {
   "cell_type": "code",
   "execution_count": 25,
   "metadata": {},
   "outputs": [
    {
     "name": "stdout",
     "output_type": "stream",
     "text": [
      "+--------+--------------+\n",
      "|   Count|Distinct Count|\n",
      "+--------+--------------+\n",
      "|10533241|        135483|\n",
      "+--------+--------------+\n",
      "\n"
     ]
    }
   ],
   "source": [
    "# Count number of unique ids\n",
    "df_sessions.agg(\n",
    "    fn.count('user_id').alias('Count'),\n",
    "    fn.countDistinct('user_id').alias('Distinct Count')\n",
    ").show()"
   ]
  },
  {
   "cell_type": "markdown",
   "metadata": {},
   "source": [
    "Not concerning that there are fewer distinct ids than total rows in this dataset because a given user could have multiple sessions. \n",
    "\n",
    "However, important to note that the train_users data had more unique ids than this dataset (213451 versus 135483) so we do not have session data for all users. I wonder whether this is meaningful... like if we don't have session data then the user wasn't active.... or whether it is just missing/incomplete data. "
   ]
  },
  {
   "cell_type": "code",
   "execution_count": 26,
   "metadata": {},
   "outputs": [
    {
     "name": "stdout",
     "output_type": "stream",
     "text": [
      "action\n",
      "+---------------------+-------+-------+\n",
      "|action               |Count  |Percent|\n",
      "+---------------------+-------+-------+\n",
      "|show                 |2768278|26.2   |\n",
      "|index                |843699 |7.98   |\n",
      "|search_results       |725226 |6.86   |\n",
      "|personalize          |706824 |6.69   |\n",
      "|search               |536057 |5.07   |\n",
      "|ajax_refresh_subtotal|487744 |4.62   |\n",
      "|update               |365130 |3.46   |\n",
      "|similar_listings     |364624 |3.45   |\n",
      "|social_connections   |339000 |3.21   |\n",
      "|reviews              |320591 |3.03   |\n",
      "|active               |188036 |1.78   |\n",
      "|similar_listings_v2  |168788 |1.6    |\n",
      "|lookup               |162041 |1.53   |\n",
      "|create               |155887 |1.48   |\n",
      "|dashboard            |152952 |1.45   |\n",
      "|header_userpic       |141830 |1.34   |\n",
      "|collections          |124417 |1.18   |\n",
      "|edit                 |109083 |1.03   |\n",
      "|campaigns            |105028 |0.99   |\n",
      "|track_page_view      |81117  |0.77   |\n",
      "+---------------------+-------+-------+\n",
      "only showing top 20 rows\n",
      "\n",
      "action_type\n",
      "+----------------+-------+-------+\n",
      "|action_type     |Count  |Percent|\n",
      "+----------------+-------+-------+\n",
      "|view            |3560902|33.7   |\n",
      "|data            |2103770|19.91  |\n",
      "|click           |1996183|18.89  |\n",
      "|null            |1126204|10.66  |\n",
      "|-unknown-       |1031170|9.76   |\n",
      "|submit          |623357 |5.9    |\n",
      "|message_post    |87103  |0.82   |\n",
      "|partner_callback|19132  |0.18   |\n",
      "|booking_request |18773  |0.18   |\n",
      "|modify          |1139   |0.01   |\n",
      "|booking_response|4      |0.0    |\n",
      "+----------------+-------+-------+\n",
      "\n",
      "action_detail\n",
      "+---------------------------+-------+-------+\n",
      "|action_detail              |Count  |Percent|\n",
      "+---------------------------+-------+-------+\n",
      "|view_search_results        |1776885|16.81  |\n",
      "|p3                         |1376550|13.03  |\n",
      "|null                       |1126204|10.66  |\n",
      "|-unknown-                  |1031141|9.76   |\n",
      "|wishlist_content_update    |706824 |6.69   |\n",
      "|user_profile               |656839 |6.22   |\n",
      "|change_trip_characteristics|487744 |4.62   |\n",
      "|similar_listings           |364624 |3.45   |\n",
      "|user_social_connections    |336799 |3.19   |\n",
      "|update_listing             |269779 |2.55   |\n",
      "|listing_reviews            |269021 |2.55   |\n",
      "|dashboard                  |152952 |1.45   |\n",
      "|user_wishlists             |152672 |1.44   |\n",
      "|header_userpic             |141830 |1.34   |\n",
      "|message_thread             |132395 |1.25   |\n",
      "|edit_profile               |108686 |1.03   |\n",
      "|message_post               |87103  |0.82   |\n",
      "|contact_host               |81041  |0.77   |\n",
      "|unavailable_dates          |77795  |0.74   |\n",
      "|confirm_email_link         |58422  |0.55   |\n",
      "+---------------------------+-------+-------+\n",
      "only showing top 20 rows\n",
      "\n"
     ]
    }
   ],
   "source": [
    "# Caclulate frequency of different actions\n",
    "for col in ['action', 'action_type', 'action_detail']:\n",
    "    print(col)\n",
    "    df_sessions.groupBy(col) \\\n",
    "          .count() \\\n",
    "          .withColumnRenamed('count', 'Count') \\\n",
    "          .withColumn('Percent', fn.round((fn.col('Count') / df_sessions.count()) * 100 , 2)) \\\n",
    "          .sort(fn.desc('Count')) \\\n",
    "          .show(truncate = False)"
   ]
  },
  {
   "cell_type": "markdown",
   "metadata": {},
   "source": [
    "There are a lot of different actions... not sure the best way to aggregate these to the user level. \n",
    "\n",
    "To start I think I'll just try a couple:\n",
    "- Total time elapsed (sum secs_elapsed for each user)\n",
    "- Number of actions (count of records in sessions data for each user... probably correlated with time elapsed though)\n",
    "- Number of different actions\n",
    "    \n",
    "Future possiblility: maybe use NLP techniques to extract info from the action details? Like maybe turn these into a list of actions then use like TF-IDF or something to look at frequency of these different actions without doing it manually?"
   ]
  },
  {
   "cell_type": "code",
   "execution_count": 27,
   "metadata": {},
   "outputs": [],
   "source": [
    "# Aggregate some session data to user level\n",
    "\n",
    "session_agg = df_sessions.groupby('user_id').agg(\n",
    "    fn.sum('secs_elapsed').alias('total_time_elapsed'),\n",
    "    fn.count('action').alias('total_num_actions'),\n",
    "    fn.countDistinct('action').alias('num_unique_actions'),\n",
    "    fn.count('action_type').alias('total_num_action_types'),\n",
    "    fn.countDistinct('action_type').alias('num_unique_action_types'),\n",
    "    fn.count('action_detail').alias('total_num_action_details'),\n",
    "    fn.countDistinct('action_detail').alias('num_unique_action_det')\n",
    ")"
   ]
  },
  {
   "cell_type": "code",
   "execution_count": 28,
   "metadata": {},
   "outputs": [
    {
     "name": "stdout",
     "output_type": "stream",
     "text": [
      "+----------+------------------+-----------------+------------------+----------------------+-----------------------+------------------------+---------------------+\n",
      "|   user_id|total_time_elapsed|total_num_actions|num_unique_actions|total_num_action_types|num_unique_action_types|total_num_action_details|num_unique_action_det|\n",
      "+----------+------------------+-----------------+------------------+----------------------+-----------------------+------------------------+---------------------+\n",
      "|funlgmcmr3|           54747.0|               10|                 6|                     9|                      5|                       9|                    7|\n",
      "|e2zoe02zd5|          642272.0|               64|                11|                    50|                      5|                      50|                    8|\n",
      "|f0cnhta47g|         1338892.0|              167|                21|                   123|                      5|                     123|                   14|\n",
      "+----------+------------------+-----------------+------------------+----------------------+-----------------------+------------------------+---------------------+\n",
      "only showing top 3 rows\n",
      "\n"
     ]
    }
   ],
   "source": [
    "session_agg.show(3)"
   ]
  },
  {
   "cell_type": "code",
   "execution_count": 38,
   "metadata": {},
   "outputs": [
    {
     "name": "stdout",
     "output_type": "stream",
     "text": [
      "-RECORD 0------------------------------\n",
      " user_id                  | d1mm9tcy42 \n",
      " total_time_elapsed       | 3427529.0  \n",
      " total_num_actions        | 126        \n",
      " num_unique_actions       | 16         \n",
      " total_num_action_types   | 90         \n",
      " num_unique_action_types  | 6          \n",
      " total_num_action_details | 90         \n",
      " num_unique_action_det    | 9          \n",
      "\n"
     ]
    }
   ],
   "source": [
    "session_agg.filter(df_sessions.user_id == 'd1mm9tcy42').show(vertical = True)"
   ]
  },
  {
   "cell_type": "code",
   "execution_count": 39,
   "metadata": {},
   "outputs": [
    {
     "name": "stdout",
     "output_type": "stream",
     "text": [
      "+------+--------------+\n",
      "| Count|Distinct Count|\n",
      "+------+--------------+\n",
      "|135483|        135483|\n",
      "+------+--------------+\n",
      "\n"
     ]
    }
   ],
   "source": [
    "# Count number of unique ids\n",
    "session_agg.agg(\n",
    "    fn.count('user_id').alias('Count'),\n",
    "    fn.countDistinct('user_id').alias('Distinct Count')\n",
    ").show()"
   ]
  },
  {
   "cell_type": "markdown",
   "metadata": {},
   "source": [
    "## Join Aggregated Session Data with User Data"
   ]
  },
  {
   "cell_type": "code",
   "execution_count": 41,
   "metadata": {},
   "outputs": [
    {
     "name": "stdout",
     "output_type": "stream",
     "text": [
      "+------+--------------+\n",
      "| Count|Distinct Count|\n",
      "+------+--------------+\n",
      "|213451|        213451|\n",
      "+------+--------------+\n",
      "\n"
     ]
    }
   ],
   "source": [
    "# Check counts before join\n",
    "df.agg(\n",
    "    fn.count('id').alias('Count'),\n",
    "    fn.countDistinct('id').alias('Distinct Count')\n",
    ").show()"
   ]
  },
  {
   "cell_type": "code",
   "execution_count": 42,
   "metadata": {},
   "outputs": [],
   "source": [
    "# Join datasets - use left join to keep as user data\n",
    "df = df.join(session_agg,df.id ==  session_agg.user_id,\"left\")"
   ]
  },
  {
   "cell_type": "code",
   "execution_count": 43,
   "metadata": {},
   "outputs": [
    {
     "name": "stdout",
     "output_type": "stream",
     "text": [
      "+------+--------------+\n",
      "| Count|Distinct Count|\n",
      "+------+--------------+\n",
      "|213451|        213451|\n",
      "+------+--------------+\n",
      "\n"
     ]
    }
   ],
   "source": [
    "# Check counts after join\n",
    "df.agg(\n",
    "    fn.count('id').alias('Count'),\n",
    "    fn.countDistinct('id').alias('Distinct Count')\n",
    ").show()"
   ]
  },
  {
   "cell_type": "code",
   "execution_count": 44,
   "metadata": {},
   "outputs": [
    {
     "name": "stdout",
     "output_type": "stream",
     "text": [
      "-RECORD 0--------------------------------------\n",
      " id                       | 01r3iatdvv         \n",
      " date_account_created     | 2014-02-11         \n",
      " timestamp_first_active   | 2.0140211202128E13 \n",
      " date_first_booking       | 2014-02-12         \n",
      " gender                   | -unknown-          \n",
      " age                      | null               \n",
      " signup_method            | basic              \n",
      " signup_flow              | 0                  \n",
      " language                 | en                 \n",
      " affiliate_channel        | direct             \n",
      " affiliate_provider       | direct             \n",
      " first_affiliate_tracked  | untracked          \n",
      " signup_app               | Web                \n",
      " first_device_type        | Mac Desktop        \n",
      " first_browser            | Chrome             \n",
      " country_destination      | US                 \n",
      " Booked                   | Yes                \n",
      " user_id                  | 01r3iatdvv         \n",
      " total_time_elapsed       | 813485.0           \n",
      " total_num_actions        | 27                 \n",
      " num_unique_actions       | 13                 \n",
      " total_num_action_types   | 24                 \n",
      " num_unique_action_types  | 5                  \n",
      " total_num_action_details | 24                 \n",
      " num_unique_action_det    | 10                 \n",
      "only showing top 1 row\n",
      "\n"
     ]
    }
   ],
   "source": [
    "df.show(1, vertical = True)"
   ]
  },
  {
   "cell_type": "markdown",
   "metadata": {},
   "source": [
    "## Data Visualization"
   ]
  },
  {
   "cell_type": "code",
   "execution_count": null,
   "metadata": {},
   "outputs": [],
   "source": []
  }
 ],
 "metadata": {
  "kernelspec": {
   "display_name": "DS 5110 Spark 3.1",
   "language": "python",
   "name": "ds5110_spark3.1"
  },
  "language_info": {
   "codemirror_mode": {
    "name": "ipython",
    "version": 3
   },
   "file_extension": ".py",
   "mimetype": "text/x-python",
   "name": "python",
   "nbconvert_exporter": "python",
   "pygments_lexer": "ipython3",
   "version": "3.7.10"
  }
 },
 "nbformat": 4,
 "nbformat_minor": 4
}
