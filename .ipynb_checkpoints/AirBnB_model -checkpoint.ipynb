{
 "cells": [
  {
   "cell_type": "markdown",
   "metadata": {},
   "source": [
    "# Airbnb EDA\n",
    "\n",
    "Alex, Bass (ujb3bu)\n",
    "Kaia Lindberg (pkx2ec)\n",
    "Elina Ribakova (uvg5bn) \n"
   ]
  },
  {
   "cell_type": "markdown",
   "metadata": {},
   "source": [
    "## 6.8 Final Project Ungraded Assessment\n",
    "\n",
    "At this point in the course, you should be training and evaluating models and have saved at least one model. \n",
    "\n",
    "Please create a Jupyter Notebook containing a concise summary of at least one model. This should include:\n",
    "\n",
    "- The type of model (e.g., logistic regression)\n",
    "- Best hyperparameters used\n",
    "- Size of the saved model\n",
    "- Performance metrics"
   ]
  },
  {
   "cell_type": "code",
   "execution_count": 1,
   "metadata": {},
   "outputs": [],
   "source": [
    "# Imports\n",
    "import os\n",
    "from pyspark.sql import SparkSession\n",
    "from pyspark.sql.types import StructType, StructField, StringType, IntegerType, DoubleType\n",
    "import pyspark.sql.functions as fn\n",
    "\n"
   ]
  },
  {
   "cell_type": "code",
   "execution_count": 2,
   "metadata": {},
   "outputs": [],
   "source": [
    "%matplotlib inline\n",
    "import matplotlib.pyplot as plt"
   ]
  },
  {
   "cell_type": "code",
   "execution_count": 3,
   "metadata": {},
   "outputs": [],
   "source": [
    "# Start spark session\n",
    "spark = SparkSession.builder.getOrCreate()\n"
   ]
  },
  {
   "cell_type": "markdown",
   "metadata": {},
   "source": [
    "### Users Dataset"
   ]
  },
  {
   "cell_type": "code",
   "execution_count": 4,
   "metadata": {},
   "outputs": [],
   "source": [
    "# Define schema for data\n",
    "schema = StructType() \\\n",
    "      .add(\"id\",StringType(),True) \\\n",
    "      .add(\"date_account_created\",StringType(),True) \\\n",
    "      .add(\"timestamp_first_active\",DoubleType(),True) \\\n",
    "      .add(\"date_first_booking\",StringType(),True) \\\n",
    "      .add(\"gender\",StringType(),True) \\\n",
    "      .add(\"age\",DoubleType(),True) \\\n",
    "      .add(\"signup_method\",StringType(),True) \\\n",
    "      .add(\"signup_flow\",IntegerType(),True) \\\n",
    "      .add(\"language\",StringType(),True) \\\n",
    "      .add(\"affiliate_channel\",StringType(),True) \\\n",
    "      .add(\"affiliate_provider\",StringType(),True) \\\n",
    "      .add(\"first_affiliate_tracked\",StringType(),True) \\\n",
    "      .add(\"signup_app\",StringType(),True) \\\n",
    "      .add(\"first_device_type\",StringType(),True) \\\n",
    "      .add(\"first_browser\",StringType(),True) \\\n",
    "      .add(\"country_destination\",StringType(),True)"
   ]
  },
  {
   "cell_type": "code",
   "execution_count": 5,
   "metadata": {},
   "outputs": [],
   "source": [
    "# Lists of columns\n",
    "response_col = \"country_destination\"\n",
    "id_col = \"id\"\n",
    "categorical_cols = [\"gender\", \"signup_method\", \"language\", \n",
    "                    \"affiliate_channel\", \"affiliate_provider\", \"first_affiliate_tracked\",\n",
    "                    \"signup_app\", \"first_device_type\", \"first_browser\"]\n",
    "numeric_cols = [\"timestamp_first_active\", \"age\", \"signup_flow\", ]\n",
    "date_cols = [\"date_account_created\", \"date_first_booking\"]\n"
   ]
  },
  {
   "cell_type": "code",
   "execution_count": 6,
   "metadata": {},
   "outputs": [],
   "source": [
    "# Read data in json format\n",
    "df = spark.read.option(\"header\",True).csv(\"train_users_2.csv\", schema)\n"
   ]
  },
  {
   "cell_type": "code",
   "execution_count": 7,
   "metadata": {},
   "outputs": [
    {
     "name": "stdout",
     "output_type": "stream",
     "text": [
      "+----------+--------------------+----------------------+------------------+---------+----+-------------+-----------+--------+-----------------+------------------+-----------------------+----------+-----------------+-------------+-------------------+\n",
      "|        id|date_account_created|timestamp_first_active|date_first_booking|   gender| age|signup_method|signup_flow|language|affiliate_channel|affiliate_provider|first_affiliate_tracked|signup_app|first_device_type|first_browser|country_destination|\n",
      "+----------+--------------------+----------------------+------------------+---------+----+-------------+-----------+--------+-----------------+------------------+-----------------------+----------+-----------------+-------------+-------------------+\n",
      "|gxn3p5htnn|          2010-06-28|    2.0090319043255E13|              null|-unknown-|null|     facebook|          0|      en|           direct|            direct|              untracked|       Web|      Mac Desktop|       Chrome|                NDF|\n",
      "|820tgsjxq7|          2011-05-25|    2.0090523174809E13|              null|     MALE|38.0|     facebook|          0|      en|              seo|            google|              untracked|       Web|      Mac Desktop|       Chrome|                NDF|\n",
      "+----------+--------------------+----------------------+------------------+---------+----+-------------+-----------+--------+-----------------+------------------+-----------------------+----------+-----------------+-------------+-------------------+\n",
      "only showing top 2 rows\n",
      "\n"
     ]
    }
   ],
   "source": [
    "df.show(2)"
   ]
  },
  {
   "cell_type": "code",
   "execution_count": 8,
   "metadata": {},
   "outputs": [
    {
     "name": "stdout",
     "output_type": "stream",
     "text": [
      "root\n",
      " |-- id: string (nullable = true)\n",
      " |-- date_account_created: string (nullable = true)\n",
      " |-- timestamp_first_active: double (nullable = true)\n",
      " |-- date_first_booking: string (nullable = true)\n",
      " |-- gender: string (nullable = true)\n",
      " |-- age: double (nullable = true)\n",
      " |-- signup_method: string (nullable = true)\n",
      " |-- signup_flow: integer (nullable = true)\n",
      " |-- language: string (nullable = true)\n",
      " |-- affiliate_channel: string (nullable = true)\n",
      " |-- affiliate_provider: string (nullable = true)\n",
      " |-- first_affiliate_tracked: string (nullable = true)\n",
      " |-- signup_app: string (nullable = true)\n",
      " |-- first_device_type: string (nullable = true)\n",
      " |-- first_browser: string (nullable = true)\n",
      " |-- country_destination: string (nullable = true)\n",
      "\n"
     ]
    }
   ],
   "source": [
    "df.printSchema()"
   ]
  },
  {
   "cell_type": "code",
   "execution_count": 9,
   "metadata": {},
   "outputs": [
    {
     "data": {
      "text/plain": [
       "213451"
      ]
     },
     "execution_count": 9,
     "metadata": {},
     "output_type": "execute_result"
    }
   ],
   "source": [
    "# Count number of records\n",
    "df.count()"
   ]
  },
  {
   "cell_type": "code",
   "execution_count": 10,
   "metadata": {},
   "outputs": [
    {
     "name": "stdout",
     "output_type": "stream",
     "text": [
      "Count of rows: 213451\n",
      "Count of distinct rows: 213451\n"
     ]
    }
   ],
   "source": [
    "print('Count of rows: {0}'.format(df.count()))\n",
    "print('Count of distinct rows: {0}'.format(df.distinct().count()))"
   ]
  },
  {
   "cell_type": "code",
   "execution_count": 11,
   "metadata": {},
   "outputs": [
    {
     "name": "stdout",
     "output_type": "stream",
     "text": [
      "+------+--------+\n",
      "| count|distinct|\n",
      "+------+--------+\n",
      "|213451|  213451|\n",
      "+------+--------+\n",
      "\n"
     ]
    }
   ],
   "source": [
    "# Count number of unique ids\n",
    "\n",
    "df.agg(\n",
    "    fn.count('id').alias('count'),\n",
    "    fn.countDistinct('id').alias('distinct')\n",
    ").show()"
   ]
  },
  {
   "cell_type": "markdown",
   "metadata": {},
   "source": [
    "Note that the number of distinct ids is the same as the number of rows so there are no duplicate ids."
   ]
  },
  {
   "cell_type": "code",
   "execution_count": 12,
   "metadata": {},
   "outputs": [
    {
     "data": {
      "text/plain": [
       "16"
      ]
     },
     "execution_count": 12,
     "metadata": {},
     "output_type": "execute_result"
    }
   ],
   "source": [
    "# Number of columns\n",
    "len(df.columns)"
   ]
  },
  {
   "cell_type": "code",
   "execution_count": 13,
   "metadata": {},
   "outputs": [
    {
     "name": "stdout",
     "output_type": "stream",
     "text": [
      "-RECORD 0----------------------------------------------\n",
      " id_missing                      | 0.0                 \n",
      " date_account_created_missing    | 0.0                 \n",
      " timestamp_first_active_missing  | 0.0                 \n",
      " date_first_booking_missing      | 0.5834734904029496  \n",
      " gender_missing                  | 0.0                 \n",
      " age_missing                     | 0.412225756731053   \n",
      " signup_method_missing           | 0.0                 \n",
      " signup_flow_missing             | 0.0                 \n",
      " language_missing                | 0.0                 \n",
      " affiliate_channel_missing       | 0.0                 \n",
      " affiliate_provider_missing      | 0.0                 \n",
      " first_affiliate_tracked_missing | 0.02841401539463395 \n",
      " signup_app_missing              | 0.0                 \n",
      " first_device_type_missing       | 0.0                 \n",
      " first_browser_missing           | 0.0                 \n",
      " country_destination_missing     | 0.0                 \n",
      "\n"
     ]
    }
   ],
   "source": [
    "# Percent missing per column\n",
    "df.agg(*[\n",
    "    (1 - (fn.count(c) / fn.count('*'))).alias(c + '_missing')\n",
    "    for c in df.columns\n",
    "]).show(vertical = True)"
   ]
  },
  {
   "cell_type": "markdown",
   "metadata": {},
   "source": [
    "Overall not too much missing data other than a handful of columns:\n",
    "- Date of first booking is missing for more than half, but I suspect that these are users that did not make a booking so that is fine. Also this isn't a useful feature anyways because we're going to be using our model to predict before a user makes a booking so we wouldn't know this at inference time anyways. \n",
    "- Age has about 40% missing, which is pretty high. Will need to decide what to do with this... drop, fill, impute, etc. \n",
    "- First affiliate tracked has some missing values, but not too many so that's fine"
   ]
  },
  {
   "cell_type": "code",
   "execution_count": 14,
   "metadata": {},
   "outputs": [
    {
     "name": "stdout",
     "output_type": "stream",
     "text": [
      "+-------------------+------+-------+\n",
      "|country_destination| Count|Percent|\n",
      "+-------------------+------+-------+\n",
      "|                 NL|   762|   0.36|\n",
      "|                 PT|   217|    0.1|\n",
      "|                 AU|   539|   0.25|\n",
      "|                 CA|  1428|   0.67|\n",
      "|                 GB|  2324|   1.09|\n",
      "|              other| 10094|   4.73|\n",
      "|                 DE|  1061|    0.5|\n",
      "|                 ES|  2249|   1.05|\n",
      "|                 US| 62376|  29.22|\n",
      "|                 FR|  5023|   2.35|\n",
      "|                NDF|124543|  58.35|\n",
      "|                 IT|  2835|   1.33|\n",
      "+-------------------+------+-------+\n",
      "\n"
     ]
    }
   ],
   "source": [
    "# Statistical summary of response variable (count and percentage)\n",
    "\n",
    "df.groupBy(\"country_destination\") \\\n",
    "  .count() \\\n",
    "  .withColumnRenamed('count', 'Count') \\\n",
    "  .withColumn('Percent', fn.round((fn.col('Count') / df.count()) * 100 , 2)) \\\n",
    "  .show()"
   ]
  },
  {
   "cell_type": "markdown",
   "metadata": {},
   "source": [
    "There are 12 different destinations. The most common is NDF, no destination found, meaning that the user did not book a place. The second most common, and most common actual country destination, is the United States. Other is also a common, but pretty broad category. "
   ]
  },
  {
   "cell_type": "code",
   "execution_count": 15,
   "metadata": {},
   "outputs": [],
   "source": [
    "# Create binary column (booked place or did not)\n",
    "df = df.withColumn(\n",
    "    'booked',\n",
    "    fn.when((df.country_destination == 'NDF'), 'No')\\\n",
    "    .otherwise('Yes')\n",
    ")"
   ]
  },
  {
   "cell_type": "code",
   "execution_count": 16,
   "metadata": {},
   "outputs": [
    {
     "name": "stdout",
     "output_type": "stream",
     "text": [
      "+------+------+-------+\n",
      "|booked| Count|Percent|\n",
      "+------+------+-------+\n",
      "|    No|124543|  58.35|\n",
      "|   Yes| 88908|  41.65|\n",
      "+------+------+-------+\n",
      "\n"
     ]
    }
   ],
   "source": [
    "# Statistical summary of binary response variable (count and percentage)\n",
    "df.groupBy(\"booked\") \\\n",
    "  .count() \\\n",
    "  .withColumnRenamed('count', 'Count') \\\n",
    "  .withColumn('Percent', fn.round((fn.col('Count') / df.count()) * 100 , 2)) \\\n",
    "  .show()"
   ]
  },
  {
   "cell_type": "code",
   "execution_count": 17,
   "metadata": {},
   "outputs": [],
   "source": [
    "# Create binary column for the US (US or not)\n",
    "df = df.withColumn(\n",
    "    'booked_US',\n",
    "    fn.when((df.country_destination == 'US'), 'Yes')\\\n",
    "    .otherwise('No')\n",
    ")"
   ]
  },
  {
   "cell_type": "code",
   "execution_count": 18,
   "metadata": {},
   "outputs": [
    {
     "name": "stdout",
     "output_type": "stream",
     "text": [
      "+---------+------+-------+\n",
      "|booked_US| Count|Percent|\n",
      "+---------+------+-------+\n",
      "|       No|151075|  70.78|\n",
      "|      Yes| 62376|  29.22|\n",
      "+---------+------+-------+\n",
      "\n"
     ]
    }
   ],
   "source": [
    "# Statistical summary of binary response variable (count and percentage)\n",
    "df.groupBy(\"booked_US\") \\\n",
    "  .count() \\\n",
    "  .withColumnRenamed('count', 'Count') \\\n",
    "  .withColumn('Percent', fn.round((fn.col('Count') / df.count()) * 100 , 2)) \\\n",
    "  .show()"
   ]
  },
  {
   "cell_type": "code",
   "execution_count": 19,
   "metadata": {},
   "outputs": [
    {
     "name": "stdout",
     "output_type": "stream",
     "text": [
      "+----------------------+----+-----------+\n",
      "|timestamp_first_active| age|signup_flow|\n",
      "+----------------------+----+-----------+\n",
      "|    2.0090319043255E13|null|          0|\n",
      "|    2.0090523174809E13|38.0|          0|\n",
      "|    2.0090609231247E13|56.0|          3|\n",
      "+----------------------+----+-----------+\n",
      "only showing top 3 rows\n",
      "\n"
     ]
    }
   ],
   "source": [
    "df.select(numeric_cols).show(3)"
   ]
  },
  {
   "cell_type": "code",
   "execution_count": 20,
   "metadata": {},
   "outputs": [
    {
     "name": "stdout",
     "output_type": "stream",
     "text": [
      "+-------+----------------------+------------------+------------------+\n",
      "|summary|timestamp_first_active|               age|       signup_flow|\n",
      "+-------+----------------------+------------------+------------------+\n",
      "|  count|                213451|            125461|            213451|\n",
      "|   mean|  2.013085041736745...| 49.66833517985669|3.2673868944160485|\n",
      "| stddev|   9.253717046788992E9|155.66661183021571|  7.63770686943505|\n",
      "|    min|    2.0090319043255E13|               1.0|                 0|\n",
      "|    25%|     2.012122504391E13|              28.0|                 0|\n",
      "|    50%|    2.0130911053924E13|              34.0|                 0|\n",
      "|    75%|    2.0140306074825E13|              43.0|                 0|\n",
      "|    max|    2.0140630235824E13|            2014.0|                25|\n",
      "+-------+----------------------+------------------+------------------+\n",
      "\n"
     ]
    }
   ],
   "source": [
    "# Statistical summary of numeric columns\n",
    "df.select(numeric_cols).summary().show()"
   ]
  },
  {
   "cell_type": "markdown",
   "metadata": {},
   "source": [
    "Note illogical min age of 1 and max age of 2014.\n",
    "\n",
    "Signup flow is numeric, but according to dataset description on kaggle signup_flow is the page a user came to signup up from. Not sure what this column means"
   ]
  },
  {
   "cell_type": "code",
   "execution_count": 21,
   "metadata": {},
   "outputs": [
    {
     "name": "stdout",
     "output_type": "stream",
     "text": [
      "+------+\n",
      "|   age|\n",
      "+------+\n",
      "|2014.0|\n",
      "|2014.0|\n",
      "|2014.0|\n",
      "|2014.0|\n",
      "|2014.0|\n",
      "|2014.0|\n",
      "|2014.0|\n",
      "|2014.0|\n",
      "|2014.0|\n",
      "|2014.0|\n",
      "+------+\n",
      "only showing top 10 rows\n",
      "\n"
     ]
    }
   ],
   "source": [
    "# Checking top 10 rows of age\n",
    "df.select([\"age\"]).orderBy(\"age\", ascending = [False]).show(10)"
   ]
  },
  {
   "cell_type": "code",
   "execution_count": 22,
   "metadata": {},
   "outputs": [
    {
     "data": {
      "text/plain": [
       "710"
      ]
     },
     "execution_count": 22,
     "metadata": {},
     "output_type": "execute_result"
    }
   ],
   "source": [
    "df.filter(df[\"age\"] == 2014).count()"
   ]
  },
  {
   "cell_type": "markdown",
   "metadata": {},
   "source": [
    "That's a lot of 2014s. We need to make sure to recode this variable. I do wonder if this value means anything in specific."
   ]
  },
  {
   "cell_type": "code",
   "execution_count": 23,
   "metadata": {},
   "outputs": [],
   "source": [
    "# Replace age with nan if outside reasonable range\n",
    "df = df.withColumn(\n",
    "    'age_new', \\\n",
    "    fn.when((df.age > 100) | (df.age < 16), None)\\\n",
    "    .otherwise(df.age)\n",
    ")"
   ]
  },
  {
   "cell_type": "code",
   "execution_count": 24,
   "metadata": {},
   "outputs": [
    {
     "name": "stdout",
     "output_type": "stream",
     "text": [
      "+-------+------------------+------------------+\n",
      "|summary|               age|           age_new|\n",
      "+-------+------------------+------------------+\n",
      "|  count|            125461|            123051|\n",
      "|   mean| 49.66833517985669|36.560613079129794|\n",
      "| stddev|155.66661183021571|11.689698826479379|\n",
      "|    min|               1.0|              16.0|\n",
      "|    25%|              28.0|              28.0|\n",
      "|    50%|              34.0|              34.0|\n",
      "|    75%|              43.0|              42.0|\n",
      "|    max|            2014.0|             100.0|\n",
      "+-------+------------------+------------------+\n",
      "\n"
     ]
    }
   ],
   "source": [
    "df.select('age', 'age_new').summary().show()"
   ]
  },
  {
   "cell_type": "code",
   "execution_count": 25,
   "metadata": {},
   "outputs": [],
   "source": [
    "# Drop NAs in the dataset "
   ]
  },
  {
   "cell_type": "code",
   "execution_count": 26,
   "metadata": {},
   "outputs": [
    {
     "name": "stdout",
     "output_type": "stream",
     "text": [
      "+----------+--------------------+----------------------+------------------+------+----+-------------+-----------+--------+-----------------+------------------+-----------------------+----------+-----------------+-------------+-------------------+------+---------+-------+\n",
      "|        id|date_account_created|timestamp_first_active|date_first_booking|gender| age|signup_method|signup_flow|language|affiliate_channel|affiliate_provider|first_affiliate_tracked|signup_app|first_device_type|first_browser|country_destination|booked|booked_US|age_new|\n",
      "+----------+--------------------+----------------------+------------------+------+----+-------------+-----------+--------+-----------------+------------------+-----------------------+----------+-----------------+-------------+-------------------+------+---------+-------+\n",
      "|4ft3gnwmtx|          2010-09-28|    2.0090609231247E13|        2010-08-02|FEMALE|56.0|        basic|          3|      en|           direct|            direct|              untracked|       Web|  Windows Desktop|           IE|                 US|   Yes|      Yes|   56.0|\n",
      "|bjjt8pjhuk|          2011-12-05|    2.0091031060129E13|        2012-09-08|FEMALE|42.0|     facebook|          0|      en|           direct|            direct|              untracked|       Web|      Mac Desktop|      Firefox|              other|   Yes|       No|   42.0|\n",
      "+----------+--------------------+----------------------+------------------+------+----+-------------+-----------+--------+-----------------+------------------+-----------------------+----------+-----------------+-------------+-------------------+------+---------+-------+\n",
      "only showing top 2 rows\n",
      "\n"
     ]
    }
   ],
   "source": [
    "df.na.drop().show(2)"
   ]
  },
  {
   "cell_type": "code",
   "execution_count": 27,
   "metadata": {},
   "outputs": [
    {
     "data": {
      "text/plain": [
       "213451"
      ]
     },
     "execution_count": 27,
     "metadata": {},
     "output_type": "execute_result"
    }
   ],
   "source": [
    "df.count()"
   ]
  },
  {
   "cell_type": "code",
   "execution_count": 28,
   "metadata": {},
   "outputs": [
    {
     "name": "stdout",
     "output_type": "stream",
     "text": [
      "gender\n",
      "+---------+-----+-------+\n",
      "|   gender|Count|Percent|\n",
      "+---------+-----+-------+\n",
      "|-unknown-|95688|  44.83|\n",
      "|   FEMALE|63041|  29.53|\n",
      "|     MALE|54440|   25.5|\n",
      "|    OTHER|  282|   0.13|\n",
      "+---------+-----+-------+\n",
      "\n",
      "signup_method\n",
      "+-------------+------+-------+\n",
      "|signup_method| Count|Percent|\n",
      "+-------------+------+-------+\n",
      "|        basic|152897|  71.63|\n",
      "|     facebook| 60008|  28.11|\n",
      "|       google|   546|   0.26|\n",
      "+-------------+------+-------+\n",
      "\n",
      "language\n",
      "+--------+------+-------+\n",
      "|language| Count|Percent|\n",
      "+--------+------+-------+\n",
      "|      en|206314|  96.66|\n",
      "|      zh|  1632|   0.76|\n",
      "|      fr|  1172|   0.55|\n",
      "|      es|   915|   0.43|\n",
      "|      ko|   747|   0.35|\n",
      "|      de|   732|   0.34|\n",
      "|      it|   514|   0.24|\n",
      "|      ru|   389|   0.18|\n",
      "|      pt|   240|   0.11|\n",
      "|      ja|   225|   0.11|\n",
      "|      sv|   122|   0.06|\n",
      "|      nl|    97|   0.05|\n",
      "|      tr|    64|   0.03|\n",
      "|      da|    58|   0.03|\n",
      "|      pl|    54|   0.03|\n",
      "|      cs|    32|   0.01|\n",
      "|      no|    30|   0.01|\n",
      "|      th|    24|   0.01|\n",
      "|      el|    24|   0.01|\n",
      "|      id|    22|   0.01|\n",
      "+--------+------+-------+\n",
      "only showing top 20 rows\n",
      "\n",
      "affiliate_channel\n",
      "+-----------------+------+-------+\n",
      "|affiliate_channel| Count|Percent|\n",
      "+-----------------+------+-------+\n",
      "|           direct|137727|  64.52|\n",
      "|        sem-brand| 26045|   12.2|\n",
      "|    sem-non-brand| 18844|   8.83|\n",
      "|            other|  8961|    4.2|\n",
      "|              seo|  8663|   4.06|\n",
      "|              api|  8167|   3.83|\n",
      "|          content|  3948|   1.85|\n",
      "|      remarketing|  1096|   0.51|\n",
      "+-----------------+------+-------+\n",
      "\n",
      "affiliate_provider\n",
      "+-------------------+------+-------+\n",
      "| affiliate_provider| Count|Percent|\n",
      "+-------------------+------+-------+\n",
      "|             direct|137426|  64.38|\n",
      "|             google| 51693|  24.22|\n",
      "|              other| 12549|   5.88|\n",
      "|         craigslist|  3471|   1.63|\n",
      "|               bing|  2328|   1.09|\n",
      "|           facebook|  2273|   1.06|\n",
      "|               vast|   829|   0.39|\n",
      "|          padmapper|   768|   0.36|\n",
      "|facebook-open-graph|   545|   0.26|\n",
      "|              yahoo|   496|   0.23|\n",
      "|                gsp|   453|   0.21|\n",
      "|             meetup|   347|   0.16|\n",
      "|    email-marketing|   166|   0.08|\n",
      "|              naver|    52|   0.02|\n",
      "|              baidu|    29|   0.01|\n",
      "|             yandex|    17|   0.01|\n",
      "|               wayn|     8|    0.0|\n",
      "|               daum|     1|    0.0|\n",
      "+-------------------+------+-------+\n",
      "\n",
      "first_affiliate_tracked\n",
      "+-----------------------+------+-------+\n",
      "|first_affiliate_tracked| Count|Percent|\n",
      "+-----------------------+------+-------+\n",
      "|              untracked|109232|  51.17|\n",
      "|                 linked| 46287|  21.69|\n",
      "|                    omg| 43982|  20.61|\n",
      "|          tracked-other|  6156|   2.88|\n",
      "|                   null|  6065|   2.84|\n",
      "|                product|  1556|   0.73|\n",
      "|              marketing|   139|   0.07|\n",
      "|              local ops|    34|   0.02|\n",
      "+-----------------------+------+-------+\n",
      "\n",
      "signup_app\n",
      "+----------+------+-------+\n",
      "|signup_app| Count|Percent|\n",
      "+----------+------+-------+\n",
      "|       Web|182717|   85.6|\n",
      "|       iOS| 19019|   8.91|\n",
      "|     Moweb|  6261|   2.93|\n",
      "|   Android|  5454|   2.56|\n",
      "+----------+------+-------+\n",
      "\n",
      "first_device_type\n",
      "+------------------+-----+-------+\n",
      "| first_device_type|Count|Percent|\n",
      "+------------------+-----+-------+\n",
      "|       Mac Desktop|89600|  41.98|\n",
      "|   Windows Desktop|72716|  34.07|\n",
      "|            iPhone|20759|   9.73|\n",
      "|              iPad|14339|   6.72|\n",
      "|     Other/Unknown|10667|    5.0|\n",
      "|     Android Phone| 2803|   1.31|\n",
      "|    Android Tablet| 1292|   0.61|\n",
      "|   Desktop (Other)| 1199|   0.56|\n",
      "|SmartPhone (Other)|   76|   0.04|\n",
      "+------------------+-----+-------+\n",
      "\n",
      "first_browser\n",
      "+------------------+-----+-------+\n",
      "|     first_browser|Count|Percent|\n",
      "+------------------+-----+-------+\n",
      "|            Chrome|63845|  29.91|\n",
      "|            Safari|45169|  21.16|\n",
      "|           Firefox|33655|  15.77|\n",
      "|         -unknown-|27266|  12.77|\n",
      "|                IE|21068|   9.87|\n",
      "|     Mobile Safari|19274|   9.03|\n",
      "|     Chrome Mobile| 1270|   0.59|\n",
      "|   Android Browser|  851|    0.4|\n",
      "|      AOL Explorer|  245|   0.11|\n",
      "|             Opera|  188|   0.09|\n",
      "|              Silk|  124|   0.06|\n",
      "|          Chromium|   73|   0.03|\n",
      "|BlackBerry Browser|   53|   0.02|\n",
      "|           Maxthon|   46|   0.02|\n",
      "|         IE Mobile|   36|   0.02|\n",
      "|        Apple Mail|   36|   0.02|\n",
      "|    Sogou Explorer|   33|   0.02|\n",
      "|    Mobile Firefox|   30|   0.01|\n",
      "|          RockMelt|   24|   0.01|\n",
      "|         SiteKiosk|   24|   0.01|\n",
      "+------------------+-----+-------+\n",
      "only showing top 20 rows\n",
      "\n"
     ]
    }
   ],
   "source": [
    "for col in categorical_cols:\n",
    "    print(col)\n",
    "    df.groupBy(col) \\\n",
    "          .count() \\\n",
    "          .withColumnRenamed('count', 'Count') \\\n",
    "          .withColumn('Percent', fn.round((fn.col('Count') / df.count()) * 100 , 2)) \\\n",
    "          .sort(fn.desc('Count')) \\\n",
    "          .show()"
   ]
  },
  {
   "cell_type": "markdown",
   "metadata": {},
   "source": [
    "A few observations: \n",
    "- Large number unknown gender\n",
    "- Majority of language is english, but a lot of other smaller ones. May want to group some smaller ones into other"
   ]
  },
  {
   "cell_type": "markdown",
   "metadata": {},
   "source": [
    "## Sessions Dataset"
   ]
  },
  {
   "cell_type": "code",
   "execution_count": 29,
   "metadata": {},
   "outputs": [],
   "source": [
    "# Define schema for data\n",
    "schema_sessions = StructType() \\\n",
    "      .add(\"user_id\",StringType(),True) \\\n",
    "      .add(\"action\",StringType(),True) \\\n",
    "      .add(\"action_type\",StringType(),True) \\\n",
    "      .add(\"action_detail\",StringType(),True) \\\n",
    "      .add(\"device_type\",StringType(),True) \\\n",
    "      .add(\"secs_elapsed\",DoubleType(),True)"
   ]
  },
  {
   "cell_type": "code",
   "execution_count": 30,
   "metadata": {},
   "outputs": [],
   "source": [
    "# Read data in json format\n",
    "df_sessions = spark.read.option(\"header\",True) \\\n",
    "    .csv(\"sessions.csv\", schema_sessions)\n"
   ]
  },
  {
   "cell_type": "code",
   "execution_count": 31,
   "metadata": {},
   "outputs": [
    {
     "name": "stdout",
     "output_type": "stream",
     "text": [
      "+----------+--------------+-----------+-------------------+---------------+------------+\n",
      "|   user_id|        action|action_type|      action_detail|    device_type|secs_elapsed|\n",
      "+----------+--------------+-----------+-------------------+---------------+------------+\n",
      "|d1mm9tcy42|        lookup|       null|               null|Windows Desktop|       319.0|\n",
      "|d1mm9tcy42|search_results|      click|view_search_results|Windows Desktop|     67753.0|\n",
      "+----------+--------------+-----------+-------------------+---------------+------------+\n",
      "only showing top 2 rows\n",
      "\n"
     ]
    }
   ],
   "source": [
    "df_sessions.show(2)"
   ]
  },
  {
   "cell_type": "code",
   "execution_count": 32,
   "metadata": {},
   "outputs": [
    {
     "name": "stdout",
     "output_type": "stream",
     "text": [
      "root\n",
      " |-- user_id: string (nullable = true)\n",
      " |-- action: string (nullable = true)\n",
      " |-- action_type: string (nullable = true)\n",
      " |-- action_detail: string (nullable = true)\n",
      " |-- device_type: string (nullable = true)\n",
      " |-- secs_elapsed: double (nullable = true)\n",
      "\n"
     ]
    }
   ],
   "source": [
    "df_sessions.printSchema()"
   ]
  },
  {
   "cell_type": "code",
   "execution_count": 33,
   "metadata": {},
   "outputs": [
    {
     "data": {
      "text/plain": [
       "10567737"
      ]
     },
     "execution_count": 33,
     "metadata": {},
     "output_type": "execute_result"
    }
   ],
   "source": [
    "# Count number of records\n",
    "df_sessions.count()"
   ]
  },
  {
   "cell_type": "code",
   "execution_count": 34,
   "metadata": {},
   "outputs": [
    {
     "name": "stdout",
     "output_type": "stream",
     "text": [
      "Count of rows: 10567737\n",
      "Count of distinct rows: 10315201\n"
     ]
    }
   ],
   "source": [
    "print('Count of rows: {0}'.format(df_sessions.count()))\n",
    "print('Count of distinct rows: {0}'.format(df_sessions.distinct().count()))"
   ]
  },
  {
   "cell_type": "markdown",
   "metadata": {},
   "source": [
    "Not all rows are unique, but given this dataset I think that is reasonable because a given user could do the same action multiple times. "
   ]
  },
  {
   "cell_type": "code",
   "execution_count": 35,
   "metadata": {},
   "outputs": [
    {
     "name": "stdout",
     "output_type": "stream",
     "text": [
      "+--------+--------------+\n",
      "|   Count|Distinct Count|\n",
      "+--------+--------------+\n",
      "|10533241|        135483|\n",
      "+--------+--------------+\n",
      "\n"
     ]
    }
   ],
   "source": [
    "# Count number of unique ids\n",
    "df_sessions.agg(\n",
    "    fn.count('user_id').alias('Count'),\n",
    "    fn.countDistinct('user_id').alias('Distinct Count')\n",
    ").show()"
   ]
  },
  {
   "cell_type": "markdown",
   "metadata": {},
   "source": [
    "Not concerning that there are fewer distinct ids than total rows in this dataset because a given user could have multiple sessions. \n",
    "\n",
    "However, important to note that the train_users data had more unique ids than this dataset (213451 versus 135483) so we do not have session data for all users. I wonder whether this is meaningful... like if we don't have session data then the user wasn't active.... or whether it is just missing/incomplete data. "
   ]
  },
  {
   "cell_type": "code",
   "execution_count": 36,
   "metadata": {},
   "outputs": [
    {
     "name": "stdout",
     "output_type": "stream",
     "text": [
      "action\n",
      "+---------------------+-------+-------+\n",
      "|action               |Count  |Percent|\n",
      "+---------------------+-------+-------+\n",
      "|show                 |2768278|26.2   |\n",
      "|index                |843699 |7.98   |\n",
      "|search_results       |725226 |6.86   |\n",
      "|personalize          |706824 |6.69   |\n",
      "|search               |536057 |5.07   |\n",
      "|ajax_refresh_subtotal|487744 |4.62   |\n",
      "|update               |365130 |3.46   |\n",
      "|similar_listings     |364624 |3.45   |\n",
      "|social_connections   |339000 |3.21   |\n",
      "|reviews              |320591 |3.03   |\n",
      "|active               |188036 |1.78   |\n",
      "|similar_listings_v2  |168788 |1.6    |\n",
      "|lookup               |162041 |1.53   |\n",
      "|create               |155887 |1.48   |\n",
      "|dashboard            |152952 |1.45   |\n",
      "|header_userpic       |141830 |1.34   |\n",
      "|collections          |124417 |1.18   |\n",
      "|edit                 |109083 |1.03   |\n",
      "|campaigns            |105028 |0.99   |\n",
      "|track_page_view      |81117  |0.77   |\n",
      "+---------------------+-------+-------+\n",
      "only showing top 20 rows\n",
      "\n",
      "action_type\n",
      "+----------------+-------+-------+\n",
      "|action_type     |Count  |Percent|\n",
      "+----------------+-------+-------+\n",
      "|view            |3560902|33.7   |\n",
      "|data            |2103770|19.91  |\n",
      "|click           |1996183|18.89  |\n",
      "|null            |1126204|10.66  |\n",
      "|-unknown-       |1031170|9.76   |\n",
      "|submit          |623357 |5.9    |\n",
      "|message_post    |87103  |0.82   |\n",
      "|partner_callback|19132  |0.18   |\n",
      "|booking_request |18773  |0.18   |\n",
      "|modify          |1139   |0.01   |\n",
      "|booking_response|4      |0.0    |\n",
      "+----------------+-------+-------+\n",
      "\n",
      "action_detail\n",
      "+---------------------------+-------+-------+\n",
      "|action_detail              |Count  |Percent|\n",
      "+---------------------------+-------+-------+\n",
      "|view_search_results        |1776885|16.81  |\n",
      "|p3                         |1376550|13.03  |\n",
      "|null                       |1126204|10.66  |\n",
      "|-unknown-                  |1031141|9.76   |\n",
      "|wishlist_content_update    |706824 |6.69   |\n",
      "|user_profile               |656839 |6.22   |\n",
      "|change_trip_characteristics|487744 |4.62   |\n",
      "|similar_listings           |364624 |3.45   |\n",
      "|user_social_connections    |336799 |3.19   |\n",
      "|update_listing             |269779 |2.55   |\n",
      "|listing_reviews            |269021 |2.55   |\n",
      "|dashboard                  |152952 |1.45   |\n",
      "|user_wishlists             |152672 |1.44   |\n",
      "|header_userpic             |141830 |1.34   |\n",
      "|message_thread             |132395 |1.25   |\n",
      "|edit_profile               |108686 |1.03   |\n",
      "|message_post               |87103  |0.82   |\n",
      "|contact_host               |81041  |0.77   |\n",
      "|unavailable_dates          |77795  |0.74   |\n",
      "|confirm_email_link         |58422  |0.55   |\n",
      "+---------------------------+-------+-------+\n",
      "only showing top 20 rows\n",
      "\n"
     ]
    }
   ],
   "source": [
    "# Caclulate frequency of different actions\n",
    "for col in ['action', 'action_type', 'action_detail']:\n",
    "    print(col)\n",
    "    df_sessions.groupBy(col) \\\n",
    "          .count() \\\n",
    "          .withColumnRenamed('count', 'Count') \\\n",
    "          .withColumn('Percent', fn.round((fn.col('Count') / df_sessions.count()) * 100 , 2)) \\\n",
    "          .sort(fn.desc('Count')) \\\n",
    "          .show(truncate = False)"
   ]
  },
  {
   "cell_type": "markdown",
   "metadata": {},
   "source": [
    "There are a lot of different actions... not sure the best way to aggregate these to the user level. \n",
    "\n",
    "To start I think I'll just try a couple:\n",
    "- Total time elapsed (sum secs_elapsed for each user)\n",
    "- Number of actions (count of records in sessions data for each user... probably correlated with time elapsed though)\n",
    "- Number of different actions\n",
    "    \n",
    "Future possiblility: maybe use NLP techniques to extract info from the action details? Like maybe turn these into a list of actions then use like TF-IDF or something to look at frequency of these different actions without doing it manually?"
   ]
  },
  {
   "cell_type": "code",
   "execution_count": 37,
   "metadata": {},
   "outputs": [],
   "source": [
    "# Aggregate some session data to user level\n",
    "\n",
    "session_agg = df_sessions.groupby('user_id').agg(\n",
    "    fn.sum('secs_elapsed').alias('total_time_elapsed'),\n",
    "    fn.count('action').alias('total_num_actions'),\n",
    "    fn.countDistinct('action').alias('num_unique_actions'),\n",
    "    fn.count('action_type').alias('total_num_action_types'),\n",
    "    fn.countDistinct('action_type').alias('num_unique_action_types'),\n",
    "    fn.count('action_detail').alias('total_num_action_details'),\n",
    "    fn.countDistinct('action_detail').alias('num_unique_action_det')\n",
    ")"
   ]
  },
  {
   "cell_type": "code",
   "execution_count": 38,
   "metadata": {},
   "outputs": [
    {
     "name": "stdout",
     "output_type": "stream",
     "text": [
      "+----------+------------------+-----------------+------------------+----------------------+-----------------------+------------------------+---------------------+\n",
      "|   user_id|total_time_elapsed|total_num_actions|num_unique_actions|total_num_action_types|num_unique_action_types|total_num_action_details|num_unique_action_det|\n",
      "+----------+------------------+-----------------+------------------+----------------------+-----------------------+------------------------+---------------------+\n",
      "|zds4xn9jvb|         4837348.0|               94|                12|                    67|                      6|                      67|                   11|\n",
      "|e766mg6ku1|          259326.0|               10|                 7|                     8|                      5|                       8|                    5|\n",
      "|f0cnhta47g|         1338892.0|              167|                21|                   123|                      5|                     123|                   14|\n",
      "+----------+------------------+-----------------+------------------+----------------------+-----------------------+------------------------+---------------------+\n",
      "only showing top 3 rows\n",
      "\n"
     ]
    }
   ],
   "source": [
    "session_agg.show(3)"
   ]
  },
  {
   "cell_type": "code",
   "execution_count": 39,
   "metadata": {},
   "outputs": [
    {
     "name": "stdout",
     "output_type": "stream",
     "text": [
      "-RECORD 0------------------------------\n",
      " user_id                  | d1mm9tcy42 \n",
      " total_time_elapsed       | 3427529.0  \n",
      " total_num_actions        | 126        \n",
      " num_unique_actions       | 16         \n",
      " total_num_action_types   | 90         \n",
      " num_unique_action_types  | 6          \n",
      " total_num_action_details | 90         \n",
      " num_unique_action_det    | 9          \n",
      "\n"
     ]
    }
   ],
   "source": [
    "session_agg.filter(df_sessions.user_id == 'd1mm9tcy42').show(vertical = True)"
   ]
  },
  {
   "cell_type": "code",
   "execution_count": 40,
   "metadata": {},
   "outputs": [
    {
     "name": "stdout",
     "output_type": "stream",
     "text": [
      "+------+--------------+\n",
      "| Count|Distinct Count|\n",
      "+------+--------------+\n",
      "|135483|        135483|\n",
      "+------+--------------+\n",
      "\n"
     ]
    }
   ],
   "source": [
    "# Count number of unique ids\n",
    "session_agg.agg(\n",
    "    fn.count('user_id').alias('Count'),\n",
    "    fn.countDistinct('user_id').alias('Distinct Count')\n",
    ").show()"
   ]
  },
  {
   "cell_type": "markdown",
   "metadata": {},
   "source": [
    "## Join Aggregated Session Data with User Data"
   ]
  },
  {
   "cell_type": "code",
   "execution_count": 41,
   "metadata": {},
   "outputs": [
    {
     "name": "stdout",
     "output_type": "stream",
     "text": [
      "+------+--------------+\n",
      "| Count|Distinct Count|\n",
      "+------+--------------+\n",
      "|213451|        213451|\n",
      "+------+--------------+\n",
      "\n"
     ]
    }
   ],
   "source": [
    "# Check counts before join\n",
    "df.agg(\n",
    "    fn.count('id').alias('Count'),\n",
    "    fn.countDistinct('id').alias('Distinct Count')\n",
    ").show()"
   ]
  },
  {
   "cell_type": "code",
   "execution_count": 42,
   "metadata": {},
   "outputs": [],
   "source": [
    "# Join datasets - use left join to keep as user data\n",
    "df = df.join(session_agg,df.id ==  session_agg.user_id,\"left\")"
   ]
  },
  {
   "cell_type": "code",
   "execution_count": 43,
   "metadata": {},
   "outputs": [
    {
     "name": "stdout",
     "output_type": "stream",
     "text": [
      "+------+--------------+\n",
      "| Count|Distinct Count|\n",
      "+------+--------------+\n",
      "|213451|        213451|\n",
      "+------+--------------+\n",
      "\n"
     ]
    }
   ],
   "source": [
    "# Check counts after join\n",
    "df.agg(\n",
    "    fn.count('id').alias('Count'),\n",
    "    fn.countDistinct('id').alias('Distinct Count')\n",
    ").show()"
   ]
  },
  {
   "cell_type": "code",
   "execution_count": 44,
   "metadata": {},
   "outputs": [
    {
     "name": "stdout",
     "output_type": "stream",
     "text": [
      "-RECORD 0--------------------------------------\n",
      " id                       | 01r3iatdvv         \n",
      " date_account_created     | 2014-02-11         \n",
      " timestamp_first_active   | 2.0140211202128E13 \n",
      " date_first_booking       | 2014-02-12         \n",
      " gender                   | -unknown-          \n",
      " age                      | null               \n",
      " signup_method            | basic              \n",
      " signup_flow              | 0                  \n",
      " language                 | en                 \n",
      " affiliate_channel        | direct             \n",
      " affiliate_provider       | direct             \n",
      " first_affiliate_tracked  | untracked          \n",
      " signup_app               | Web                \n",
      " first_device_type        | Mac Desktop        \n",
      " first_browser            | Chrome             \n",
      " country_destination      | US                 \n",
      " booked                   | Yes                \n",
      " booked_US                | Yes                \n",
      " age_new                  | null               \n",
      " user_id                  | 01r3iatdvv         \n",
      " total_time_elapsed       | 813485.0           \n",
      " total_num_actions        | 27                 \n",
      " num_unique_actions       | 13                 \n",
      " total_num_action_types   | 24                 \n",
      " num_unique_action_types  | 5                  \n",
      " total_num_action_details | 24                 \n",
      " num_unique_action_det    | 10                 \n",
      "only showing top 1 row\n",
      "\n"
     ]
    }
   ],
   "source": [
    "df.show(1, vertical = True)"
   ]
  },
  {
   "cell_type": "markdown",
   "metadata": {},
   "source": [
    "### Adding just a few more summary statistics for new aggregated data"
   ]
  },
  {
   "cell_type": "code",
   "execution_count": 196,
   "metadata": {},
   "outputs": [
    {
     "name": "stdout",
     "output_type": "stream",
     "text": [
      "+-------+------------------+------------------+----------------------+\n",
      "|summary|total_time_elapsed| total_num_actions|total_num_action_types|\n",
      "+-------+------------------+------------------+----------------------+\n",
      "|  count|             72631|             73815|                 73815|\n",
      "|   mean| 1538919.380126943|  74.3266951161688|      66.6273386168123|\n",
      "| stddev|1918849.4685871054|112.02895059596158|     99.86638815766388|\n",
      "|    min|               0.0|                 0|                     0|\n",
      "|    25%|          278431.0|                13|                    12|\n",
      "|    50%|          900296.0|                37|                    34|\n",
      "|    75%|         2069955.0|                90|                    81|\n",
      "|    max|       3.8221363E7|              2643|                  2636|\n",
      "+-------+------------------+------------------+----------------------+\n",
      "\n"
     ]
    }
   ],
   "source": [
    "#separating into 2 groups for nice printing\n",
    "new_numeric_cols1 = [\n",
    "    'total_time_elapsed', \n",
    "    'total_num_actions', \n",
    "    'total_num_action_types'\n",
    "]\n",
    "\n",
    "new_numeric_cols2 = [\n",
    "    'num_unique_action_types',\n",
    "    'total_num_action_details',\n",
    "    'num_unique_action_det'\n",
    "]\n",
    "\n",
    "df.select(new_numeric_cols1).summary().show()"
   ]
  },
  {
   "cell_type": "code",
   "execution_count": 197,
   "metadata": {},
   "outputs": [
    {
     "name": "stdout",
     "output_type": "stream",
     "text": [
      "+-------+-----------------------+------------------------+---------------------+\n",
      "|summary|num_unique_action_types|total_num_action_details|num_unique_action_det|\n",
      "+-------+-----------------------+------------------------+---------------------+\n",
      "|  count|                  73815|                   73815|                73815|\n",
      "|   mean|      4.893409198672357|        66.6273386168123|   10.849624060150376|\n",
      "| stddev|     1.4786774136871539|       99.86638815766388|    5.975923762950684|\n",
      "|    min|                      0|                       0|                    0|\n",
      "|    25%|                      4|                      12|                    7|\n",
      "|    50%|                      5|                      34|                   10|\n",
      "|    75%|                      6|                      81|                   14|\n",
      "|    max|                      8|                    2636|                   46|\n",
      "+-------+-----------------------+------------------------+---------------------+\n",
      "\n"
     ]
    }
   ],
   "source": [
    "df.select(new_numeric_cols2).summary().show()"
   ]
  },
  {
   "cell_type": "markdown",
   "metadata": {},
   "source": [
    "Other than the age variable which Kaia noted earlier has an outlier... some of these aggregated variables may have outliers as well or perhaps need to be scaled bc 2600 is a big jump from 81-90 at the 75th quartile."
   ]
  },
  {
   "cell_type": "code",
   "execution_count": 198,
   "metadata": {},
   "outputs": [
    {
     "name": "stdout",
     "output_type": "stream",
     "text": [
      "+-----------------+----------------------+------------------------+\n",
      "|total_num_actions|total_num_action_types|total_num_action_details|\n",
      "+-----------------+----------------------+------------------------+\n",
      "|             2643|                  2636|                    2636|\n",
      "|             2323|                  2055|                    2055|\n",
      "|             2264|                  2244|                    2244|\n",
      "|             2244|                  2235|                    2235|\n",
      "|             2134|                  2130|                    2130|\n",
      "|             2085|                  1279|                    1279|\n",
      "|             1938|                  1928|                    1928|\n",
      "|             1923|                  1907|                    1907|\n",
      "|             1861|                  1589|                    1589|\n",
      "|             1796|                  1770|                    1770|\n",
      "|             1792|                  1755|                    1755|\n",
      "|             1781|                  1296|                    1296|\n",
      "|             1779|                  1279|                    1279|\n",
      "|             1778|                  1474|                    1474|\n",
      "|             1752|                  1494|                    1494|\n",
      "|             1740|                  1555|                    1555|\n",
      "|             1732|                  1693|                    1693|\n",
      "|             1668|                  1261|                    1261|\n",
      "|             1574|                  1177|                    1177|\n",
      "|             1562|                  1338|                    1338|\n",
      "|             1548|                  1543|                    1543|\n",
      "|             1538|                  1538|                    1538|\n",
      "|             1524|                  1137|                    1137|\n",
      "|             1514|                  1171|                    1171|\n",
      "|             1406|                  1276|                    1276|\n",
      "|             1403|                  1295|                    1295|\n",
      "|             1400|                  1037|                    1037|\n",
      "|             1390|                  1033|                    1033|\n",
      "|             1382|                   924|                     924|\n",
      "|             1375|                  1347|                    1347|\n",
      "|             1367|                  1319|                    1319|\n",
      "|             1365|                  1347|                    1347|\n",
      "|             1363|                  1335|                    1335|\n",
      "|             1351|                  1238|                    1238|\n",
      "|             1327|                  1302|                    1302|\n",
      "|             1297|                  1115|                    1115|\n",
      "|             1297|                  1291|                    1291|\n",
      "|             1288|                  1239|                    1239|\n",
      "|             1258|                  1207|                    1207|\n",
      "|             1253|                   854|                     854|\n",
      "|             1249|                  1247|                    1247|\n",
      "|             1242|                  1160|                    1160|\n",
      "|             1241|                  1235|                    1235|\n",
      "|             1234|                  1125|                    1125|\n",
      "|             1231|                  1073|                    1073|\n",
      "|             1223|                  1140|                    1140|\n",
      "|             1221|                  1070|                    1070|\n",
      "|             1203|                  1116|                    1116|\n",
      "|             1197|                  1035|                    1035|\n",
      "|             1196|                   790|                     790|\n",
      "+-----------------+----------------------+------------------------+\n",
      "only showing top 50 rows\n",
      "\n"
     ]
    }
   ],
   "source": [
    "df.select([\"total_num_actions\", \"total_num_action_types\", \"total_num_action_details\"])\\\n",
    "    .orderBy(\"total_num_actions\", ascending = [False])\\\n",
    "    .show(50)"
   ]
  },
  {
   "cell_type": "markdown",
   "metadata": {},
   "source": [
    "However, looking at the top 50 sorted by one of these columns, it doesn't really feel like an outlier, instead it seems like a reasonable skewed distribution. Looking at it this way, I wonder how much information each of these 3 columns gives us independent of the other ones."
   ]
  },
  {
   "cell_type": "code",
   "execution_count": 199,
   "metadata": {},
   "outputs": [
    {
     "data": {
      "text/plain": [
       "[[1.0, 0.9937649246849927, 0.9937649246849927],\n",
       " [None, 1.0, 1.0],\n",
       " [None, None, 1.0]]"
      ]
     },
     "execution_count": 199,
     "metadata": {},
     "output_type": "execute_result"
    }
   ],
   "source": [
    "#correlation between variables - this code can be later applied if we want a correlation matrix of our data\n",
    "\n",
    "features = ['total_num_actions', 'total_num_action_types', 'total_num_action_details']\n",
    "\n",
    "n_numerical = len(features)\n",
    "\n",
    "corr = []\n",
    "\n",
    "for i in range(0, n_numerical):\n",
    "    temp = [None]*i\n",
    "    for j in range(i, n_numerical):\n",
    "        temp.append(df.corr(features[i], features[j]))\n",
    "    corr.append(temp)\n",
    "\n",
    "corr"
   ]
  },
  {
   "cell_type": "markdown",
   "metadata": {},
   "source": [
    "We'll have to use discretion when choosing which of the online variables to include or possibly re-aggregate. These three variables are all very similar."
   ]
  },
  {
   "cell_type": "markdown",
   "metadata": {},
   "source": [
    "## Data Visualization"
   ]
  },
  {
   "cell_type": "code",
   "execution_count": 200,
   "metadata": {},
   "outputs": [
    {
     "data": {
      "text/plain": [
       "Text(0.5, 1.0, 'Histogram of Age')"
      ]
     },
     "execution_count": 200,
     "metadata": {},
     "output_type": "execute_result"
    },
    {
     "data": {
      "image/png": "[encoded data removed]",
      "text/plain": [
       "<Figure size 432x288 with 1 Axes>"
      ]
     },
     "metadata": {
      "needs_background": "light"
     },
     "output_type": "display_data"
    }
   ],
   "source": [
    "# Histogram of age\n",
    "hists = df.select('age_new').rdd.flatMap(\n",
    "    lambda row: row\n",
    ").histogram(20)\n",
    "\n",
    "data = {\n",
    "    'bins': hists[0][:-1],\n",
    "    'freq': hists[1]\n",
    "}\n",
    "plt.bar(data['bins'], data['freq'], width=5)\n",
    "plt.title('Histogram of Age')"
   ]
  },
  {
   "cell_type": "code",
   "execution_count": 201,
   "metadata": {},
   "outputs": [
    {
     "data": {
      "text/plain": [
       "Text(0.5, 1.0, 'Distribution of Total Session Time by Booked')"
      ]
     },
     "execution_count": 201,
     "metadata": {},
     "output_type": "execute_result"
    },
    {
     "data": {
      "image/png": "[encoded data removed]",
      "text/plain": [
       "<Figure size 432x288 with 1 Axes>"
      ]
     },
     "metadata": {
      "needs_background": "light"
     },
     "output_type": "display_data"
    }
   ],
   "source": [
    "import seaborn as sns\n",
    "temp_data = df.select('total_time_elapsed', 'booked').toPandas()\n",
    "sns.boxplot(data=temp_data, x=\"total_time_elapsed\", y=\"booked\")\n",
    "plt.title('Distribution of Total Session Time by Booked')"
   ]
  },
  {
   "cell_type": "markdown",
   "metadata": {},
   "source": [
    "Clearly a large number of outliers in total elapsed time, but looks like those that booked tend to have slightly higher elapsed time that those that didn't. "
   ]
  },
  {
   "cell_type": "code",
   "execution_count": null,
   "metadata": {},
   "outputs": [],
   "source": [
    "temp_data = df.groupby('booked', 'gender').agg(fn.count('id').alias('Count')).toPandas()\n",
    "sns.barplot(data=temp_data, x=\"gender\", y=\"Count\", hue = 'booked')\n",
    "plt.title('Distribution of Gender by Booked')"
   ]
  },
  {
   "cell_type": "markdown",
   "metadata": {},
   "source": [
    "The majority of unknown genders did not book a rental.... possibly an indicator that they did not spend as much time updating the information in their profile."
   ]
  },
  {
   "cell_type": "code",
   "execution_count": null,
   "metadata": {},
   "outputs": [],
   "source": [
    "tmp = df.filter(df.country_destination != 'NDF')\\\n",
    "    .withColumn(\n",
    "    'US_booked',\n",
    "    fn.when((df.country_destination == 'US'), 'Yes')\\\n",
    "    .otherwise('No')\n",
    ")\\\n",
    "    .groupby([\"language\", \"US_booked\"])\\\n",
    "    .count()\n",
    "\n",
    "tmp_to_join = df.filter(df.country_destination != 'NDF')\\\n",
    "    .groupby(\"language\")\\\n",
    "    .count()\\\n",
    "    .withColumnRenamed('count', 'count_all')\\\n",
    "    .withColumnRenamed('language', 'language_join')\n",
    "\n",
    "tmp = tmp.join(tmp_to_join,tmp.language ==  tmp_to_join.language_join,\"full\")\\\n",
    "    .filter(fn.col(\"US_booked\") == \"Yes\")\\\n",
    "    .drop(\"language_join\")\\\n",
    "    .drop(\"US_booked\")\\\n",
    "    .withColumn(\"percent\", fn.col(\"count\")/fn.col(\"count_all\"))\\\n",
    "    .toPandas()\n",
    "\n",
    "sns.barplot(data=tmp, x=\"language\", y=\"percent\")\n",
    "plt.title('Percent Booked in US by Language')\n",
    "plt.xlabel('Language')\n",
    "plt.ylabel('Percent Booking in US')\n",
    "plt.show()"
   ]
  },
  {
   "cell_type": "code",
   "execution_count": null,
   "metadata": {},
   "outputs": [],
   "source": [
    "# Histogram of age\n",
    "sns.histplot(data=df.toPandas(), x=\"total_num_actions\", hue=\"booked\" ,multiple='stack')\n",
    "plt.title('Histogram of Online Actions')"
   ]
  },
  {
   "cell_type": "code",
   "execution_count": null,
   "metadata": {},
   "outputs": [],
   "source": []
  },
  {
   "cell_type": "markdown",
   "metadata": {},
   "source": [
    "## Data Model "
   ]
  },
  {
   "cell_type": "markdown",
   "metadata": {},
   "source": [
    "In this section we use numerical features to predict whether a user will book or not with the AirBnB. We are using a simple logistic regression and compute probabilities. However, we ran into an issue of missing values and when drop.na is used, it appears to have dropped also all rows with the response \"no\" of our response variable \"booked\" \n",
    "\n",
    "In our work we will fix this issue and also look into modeling actual predictions of the country where the booking is likely to take place. "
   ]
  },
  {
   "cell_type": "code",
   "execution_count": null,
   "metadata": {},
   "outputs": [],
   "source": []
  },
  {
   "cell_type": "code",
   "execution_count": 45,
   "metadata": {},
   "outputs": [],
   "source": [
    "# load modules\n",
    "from pyspark.sql import SparkSession\n",
    "from pyspark.mllib.classification import LogisticRegressionWithLBFGS, LogisticRegressionModel\n",
    "from pyspark.mllib.regression import LabeledPoint\n",
    "from pyspark.ml.feature import VectorAssembler \n",
    "from pyspark.mllib.linalg import Vectors\n",
    "from pyspark.mllib.evaluation import MulticlassMetrics\n",
    "from pyspark.ml.feature import StandardScaler\n",
    "\n",
    "from pyspark.mllib.evaluation import BinaryClassificationMetrics\n",
    "from pyspark.mllib.util import MLUtils\n",
    "\n",
    "import os"
   ]
  },
  {
   "cell_type": "markdown",
   "metadata": {},
   "source": [
    "Try one model that could fit the data, include the model type, best hyperparameters, size of saved model, and performance metrics."
   ]
  },
  {
   "cell_type": "code",
   "execution_count": 46,
   "metadata": {},
   "outputs": [
    {
     "data": {
      "text/plain": [
       "213451"
      ]
     },
     "execution_count": 46,
     "metadata": {},
     "output_type": "execute_result"
    }
   ],
   "source": [
    "df.count()"
   ]
  },
  {
   "cell_type": "code",
   "execution_count": 75,
   "metadata": {},
   "outputs": [
    {
     "name": "stdout",
     "output_type": "stream",
     "text": [
      "+----------+--------------------+----------------------+------------------+---------+----+-------------+-----------+--------+-----------------+------------------+-----------------------+----------+-----------------+-------------+-------------------+------+---------+-------+----------+------------------+-----------------+------------------+----------------------+-----------------------+------------------------+---------------------+\n",
      "|        id|date_account_created|timestamp_first_active|date_first_booking|   gender| age|signup_method|signup_flow|language|affiliate_channel|affiliate_provider|first_affiliate_tracked|signup_app|first_device_type|first_browser|country_destination|booked|booked_US|age_new|   user_id|total_time_elapsed|total_num_actions|num_unique_actions|total_num_action_types|num_unique_action_types|total_num_action_details|num_unique_action_det|\n",
      "+----------+--------------------+----------------------+------------------+---------+----+-------------+-----------+--------+-----------------+------------------+-----------------------+----------+-----------------+-------------+-------------------+------+---------+-------+----------+------------------+-----------------+------------------+----------------------+-----------------------+------------------------+---------------------+\n",
      "|01r3iatdvv|          2014-02-11|    2.0140211202128E13|        2014-02-12|-unknown-|null|        basic|          0|      en|           direct|            direct|              untracked|       Web|      Mac Desktop|       Chrome|                 US|   Yes|      Yes|   null|01r3iatdvv|          813485.0|               27|                13|                    24|                      5|                      24|                   10|\n",
      "|02sgboyndc|          2014-04-29|    2.0140429213851E13|              null|-unknown-|null|        basic|          0|      en|        sem-brand|            google|              untracked|       Web|      Mac Desktop|       Safari|                NDF|    No|       No|   null|02sgboyndc|          758902.0|               92|                13|                    82|                      5|                      82|                   13|\n",
      "+----------+--------------------+----------------------+------------------+---------+----+-------------+-----------+--------+-----------------+------------------+-----------------------+----------+-----------------+-------------+-------------------+------+---------+-------+----------+------------------+-----------------+------------------+----------------------+-----------------------+------------------------+---------------------+\n",
      "only showing top 2 rows\n",
      "\n"
     ]
    }
   ],
   "source": [
    "df = df.replace(float('nan'), None)\n",
    "df.show(2)"
   ]
  },
  {
   "cell_type": "code",
   "execution_count": 93,
   "metadata": {},
   "outputs": [],
   "source": [
    "df = df.na.drop()"
   ]
  },
  {
   "cell_type": "code",
   "execution_count": 77,
   "metadata": {},
   "outputs": [
    {
     "name": "stdout",
     "output_type": "stream",
     "text": [
      "+----------+--------------------+----------------------+------------------+---------+----+-------------+-----------+--------+-----------------+------------------+-----------------------+----------+-----------------+-------------+-------------------+------+---------+-------+----------+------------------+-----------------+------------------+----------------------+-----------------------+------------------------+---------------------+\n",
      "|        id|date_account_created|timestamp_first_active|date_first_booking|   gender| age|signup_method|signup_flow|language|affiliate_channel|affiliate_provider|first_affiliate_tracked|signup_app|first_device_type|first_browser|country_destination|booked|booked_US|age_new|   user_id|total_time_elapsed|total_num_actions|num_unique_actions|total_num_action_types|num_unique_action_types|total_num_action_details|num_unique_action_det|\n",
      "+----------+--------------------+----------------------+------------------+---------+----+-------------+-----------+--------+-----------------+------------------+-----------------------+----------+-----------------+-------------+-------------------+------+---------+-------+----------+------------------+-----------------+------------------+----------------------+-----------------------+------------------------+---------------------+\n",
      "|01r3iatdvv|          2014-02-11|    2.0140211202128E13|        2014-02-12|-unknown-|null|        basic|          0|      en|           direct|            direct|              untracked|       Web|      Mac Desktop|       Chrome|                 US|   Yes|      Yes|   null|01r3iatdvv|          813485.0|               27|                13|                    24|                      5|                      24|                   10|\n",
      "|02sgboyndc|          2014-04-29|    2.0140429213851E13|              null|-unknown-|null|        basic|          0|      en|        sem-brand|            google|              untracked|       Web|      Mac Desktop|       Safari|                NDF|    No|       No|   null|02sgboyndc|          758902.0|               92|                13|                    82|                      5|                      82|                   13|\n",
      "|03c7ihv5r8|          2014-05-07|    2.0140507223046E13|              null|     MALE|47.0|     facebook|          0|      en|        sem-brand|            google|                    omg|       Web|  Windows Desktop|           IE|                NDF|    No|       No|   47.0|03c7ihv5r8|         3003287.0|               30|                16|                    30|                      6|                      30|                   17|\n",
      "|05xkkfxs5v|          2014-04-06|    2.0140406183244E13|              null|     MALE|26.0|     facebook|          0|      en|      remarketing|            google|              untracked|       Web|      Mac Desktop|       Chrome|                NDF|    No|       No|   26.0|05xkkfxs5v|          106376.0|                5|                 3|                     5|                      3|                       5|                    3|\n",
      "|08bys9zpkj|          2013-07-04|    2.0130704223816E13|              null|   FEMALE|50.0|     facebook|          0|      en|    sem-non-brand|            google|              untracked|       Web|      Mac Desktop|       Safari|                NDF|    No|       No|   50.0|      null|              null|             null|              null|                  null|                   null|                    null|                 null|\n",
      "+----------+--------------------+----------------------+------------------+---------+----+-------------+-----------+--------+-----------------+------------------+-----------------------+----------+-----------------+-------------+-------------------+------+---------+-------+----------+------------------+-----------------+------------------+----------------------+-----------------------+------------------------+---------------------+\n",
      "only showing top 5 rows\n",
      "\n"
     ]
    }
   ],
   "source": [
    "#df.dropna(how='all').show(5)"
   ]
  },
  {
   "cell_type": "code",
   "execution_count": 94,
   "metadata": {},
   "outputs": [
    {
     "data": {
      "text/plain": [
       "22010"
      ]
     },
     "execution_count": 94,
     "metadata": {},
     "output_type": "execute_result"
    }
   ],
   "source": [
    "# I am not sure we are dropping NAs\n",
    "df.count() "
   ]
  },
  {
   "cell_type": "code",
   "execution_count": 95,
   "metadata": {},
   "outputs": [
    {
     "name": "stdout",
     "output_type": "stream",
     "text": [
      "+------+-----+-------+\n",
      "|booked|Count|Percent|\n",
      "+------+-----+-------+\n",
      "|   Yes|22010|  100.0|\n",
      "+------+-----+-------+\n",
      "\n"
     ]
    }
   ],
   "source": [
    "# Statistical summary of binary response variable (count and percentage)\n",
    "df.groupBy(\"booked\") \\\n",
    "  .count() \\\n",
    "  .withColumnRenamed('count', 'Count') \\\n",
    "  .withColumn('Percent', fn.round((fn.col('Count') / df.count()) * 100 , 2)) \\\n",
    "  .show()"
   ]
  },
  {
   "cell_type": "code",
   "execution_count": 87,
   "metadata": {},
   "outputs": [],
   "source": [
    "# Lists of columns\n",
    "response_col = \"country_destination\"\n",
    "id_col = \"id\"\n",
    "categorical_cols = [\"gender\", \"signup_method\", \"language\", \n",
    "                    \"affiliate_channel\", \"affiliate_provider\", \"first_affiliate_tracked\",\n",
    "                    \"signup_app\", \"first_device_type\", \"first_browser\"]\n",
    "numeric_cols = [\"timestamp_first_active\", \"age_new\", \"signup_flow\"]\n",
    "date_cols = [\"date_account_created\", \"date_first_booking\"]\n"
   ]
  },
  {
   "cell_type": "code",
   "execution_count": 97,
   "metadata": {},
   "outputs": [
    {
     "data": {
      "text/plain": [
       "[Row(id='11r3ktinll', date_account_created='2014-02-03', timestamp_first_active=20140203191931.0, date_first_booking='2014-11-04', gender='MALE', age=34.0, signup_method='facebook', signup_flow=0, language='en', affiliate_channel='direct', affiliate_provider='direct', first_affiliate_tracked='untracked', signup_app='Web', first_device_type='Mac Desktop', first_browser='Chrome', country_destination='US', booked='Yes', booked_US='Yes', age_new=34.0, user_id='11r3ktinll', total_time_elapsed=3219191.0, total_num_actions=153, num_unique_actions=10, total_num_action_types=105, num_unique_action_types=4, total_num_action_details=105, num_unique_action_det=8, features=DenseVector([34.0, 3219191.0, 0.0])),\n",
       " Row(id='1f4v7lr16t', date_account_created='2014-05-13', timestamp_first_active=20140513030416.0, date_first_booking='2014-05-13', gender='MALE', age=28.0, signup_method='facebook', signup_flow=25, language='en', affiliate_channel='direct', affiliate_provider='direct', first_affiliate_tracked='omg', signup_app='Web', first_device_type='Windows Desktop', first_browser='Chrome', country_destination='US', booked='Yes', booked_US='Yes', age_new=28.0, user_id='1f4v7lr16t', total_time_elapsed=10759256.0, total_num_actions=717, num_unique_actions=50, total_num_action_types=627, num_unique_action_types=6, total_num_action_details=627, num_unique_action_det=31, features=DenseVector([28.0, 10759256.0, 25.0]))]"
      ]
     },
     "execution_count": 97,
     "metadata": {},
     "output_type": "execute_result"
    }
   ],
   "source": [
    "# using only numeric features \n",
    "\n",
    "vecAssembler = VectorAssembler(inputCols=[\"age_new\", \"total_time_elapsed\",\"signup_flow\"], outputCol=\"features\", handleInvalid=\"keep\")\n",
    "transformed = vecAssembler.transform(df)\n",
    "transformed.take(2)"
   ]
  },
  {
   "cell_type": "code",
   "execution_count": 98,
   "metadata": {},
   "outputs": [],
   "source": [
    "# scale the features"
   ]
  },
  {
   "cell_type": "code",
   "execution_count": 99,
   "metadata": {},
   "outputs": [
    {
     "data": {
      "text/plain": [
       "[Row(id='11r3ktinll', date_account_created='2014-02-03', timestamp_first_active=20140203191931.0, date_first_booking='2014-11-04', gender='MALE', age=34.0, signup_method='facebook', signup_flow=0, language='en', affiliate_channel='direct', affiliate_provider='direct', first_affiliate_tracked='untracked', signup_app='Web', first_device_type='Mac Desktop', first_browser='Chrome', country_destination='US', booked='Yes', booked_US='Yes', age_new=34.0, user_id='11r3ktinll', total_time_elapsed=3219191.0, total_num_actions=153, num_unique_actions=10, total_num_action_types=105, num_unique_action_types=4, total_num_action_details=105, num_unique_action_det=8, features=DenseVector([34.0, 3219191.0, 0.0]), scaledFeatures=DenseVector([2.9716, 1.4519, 0.0])),\n",
       " Row(id='1f4v7lr16t', date_account_created='2014-05-13', timestamp_first_active=20140513030416.0, date_first_booking='2014-05-13', gender='MALE', age=28.0, signup_method='facebook', signup_flow=25, language='en', affiliate_channel='direct', affiliate_provider='direct', first_affiliate_tracked='omg', signup_app='Web', first_device_type='Windows Desktop', first_browser='Chrome', country_destination='US', booked='Yes', booked_US='Yes', age_new=28.0, user_id='1f4v7lr16t', total_time_elapsed=10759256.0, total_num_actions=717, num_unique_actions=50, total_num_action_types=627, num_unique_action_types=6, total_num_action_details=627, num_unique_action_det=31, features=DenseVector([28.0, 10759256.0, 25.0]), scaledFeatures=DenseVector([2.4472, 4.8527, 3.1424]))]"
      ]
     },
     "execution_count": 99,
     "metadata": {},
     "output_type": "execute_result"
    }
   ],
   "source": [
    "scaler = StandardScaler(inputCol=\"features\", outputCol = \"scaledFeatures\")\n",
    "scalerModel = scaler.fit(transformed)\n",
    "scaledData = scalerModel.transform(transformed)\n",
    "scaledData.take(2)"
   ]
  },
  {
   "cell_type": "code",
   "execution_count": 100,
   "metadata": {},
   "outputs": [],
   "source": [
    "# select the booked/not booked features for modeling "
   ]
  },
  {
   "cell_type": "code",
   "execution_count": 101,
   "metadata": {},
   "outputs": [],
   "source": [
    "dataRdd = scaledData.select(\"booked\", \"features\").rdd.map(tuple)"
   ]
  },
  {
   "cell_type": "code",
   "execution_count": 102,
   "metadata": {},
   "outputs": [],
   "source": [
    "# look at some data "
   ]
  },
  {
   "cell_type": "code",
   "execution_count": 103,
   "metadata": {},
   "outputs": [
    {
     "data": {
      "text/plain": [
       "[('Yes', DenseVector([34.0, 3219191.0, 0.0])),\n",
       " ('Yes', DenseVector([28.0, 10759256.0, 25.0])),\n",
       " ('Yes', DenseVector([24.0, 16905.0, 0.0])),\n",
       " ('Yes', DenseVector([54.0, 237023.0, 0.0])),\n",
       " ('Yes', DenseVector([30.0, 2515054.0, 12.0])),\n",
       " ('Yes', DenseVector([31.0, 7665672.0, 0.0])),\n",
       " ('Yes', DenseVector([26.0, 260198.0, 0.0])),\n",
       " ('Yes', DenseVector([28.0, 2008462.0, 0.0])),\n",
       " ('Yes', DenseVector([35.0, 814503.0, 0.0])),\n",
       " ('Yes', DenseVector([28.0, 584034.0, 0.0]))]"
      ]
     },
     "execution_count": 103,
     "metadata": {},
     "output_type": "execute_result"
    }
   ],
   "source": [
    "dataRdd.take(10)"
   ]
  },
  {
   "cell_type": "code",
   "execution_count": 104,
   "metadata": {},
   "outputs": [],
   "source": [
    "# map label to binary values (booked/not booked)"
   ]
  },
  {
   "cell_type": "code",
   "execution_count": 105,
   "metadata": {},
   "outputs": [],
   "source": [
    "lp = dataRdd.map(lambda row:(1 if row[0]=='Yes' else 0, Vectors.dense(row[1])))    \\\n",
    "                    .map(lambda row: LabeledPoint(row[0], row[1]))"
   ]
  },
  {
   "cell_type": "code",
   "execution_count": 106,
   "metadata": {},
   "outputs": [],
   "source": [
    "# EXAMPLE from HW map label to binary values, then convert to LabeledPoint\n",
    "# lp = dataRdd.map(lambda row:(1 if row[0]=='M' else 0, Vectors.dense(row[1])))    \\\n",
    "#                    .map(lambda row: LabeledPoint(row[0], row[1]))"
   ]
  },
  {
   "cell_type": "code",
   "execution_count": 107,
   "metadata": {},
   "outputs": [
    {
     "data": {
      "text/plain": [
       "[LabeledPoint(1.0, [34.0,3219191.0,0.0]),\n",
       " LabeledPoint(1.0, [28.0,10759256.0,25.0])]"
      ]
     },
     "execution_count": 107,
     "metadata": {},
     "output_type": "execute_result"
    }
   ],
   "source": [
    "# look at some data\n",
    "lp.take(2)"
   ]
  },
  {
   "cell_type": "code",
   "execution_count": 108,
   "metadata": {},
   "outputs": [],
   "source": [
    "# Split data approximately into training (60%) and test (40%) using `seed=314`  "
   ]
  },
  {
   "cell_type": "code",
   "execution_count": 109,
   "metadata": {},
   "outputs": [],
   "source": [
    "training, test = lp.randomSplit([.6, .4], seed = 314)"
   ]
  },
  {
   "cell_type": "code",
   "execution_count": 111,
   "metadata": {},
   "outputs": [
    {
     "data": {
      "text/plain": [
       "(13356, 8654, 22010)"
      ]
     },
     "execution_count": 111,
     "metadata": {},
     "output_type": "execute_result"
    }
   ],
   "source": [
    "(training.count(), test.count(), lp.count())"
   ]
  },
  {
   "cell_type": "code",
   "execution_count": null,
   "metadata": {},
   "outputs": [],
   "source": [
    "# percentage of records in datasets\n",
    "(training.count()/lp.count(), test.count()/lp.count(), lp.count()/lp.count())"
   ]
  },
  {
   "cell_type": "code",
   "execution_count": null,
   "metadata": {},
   "outputs": [],
   "source": [
    "# Train model logistic regression "
   ]
  },
  {
   "cell_type": "code",
   "execution_count": null,
   "metadata": {},
   "outputs": [],
   "source": [
    "model = LogisticRegressionWithLBFGS.train(training)"
   ]
  },
  {
   "cell_type": "code",
   "execution_count": null,
   "metadata": {},
   "outputs": [],
   "source": [
    "# Evaluate the model "
   ]
  },
  {
   "cell_type": "code",
   "execution_count": null,
   "metadata": {},
   "outputs": [],
   "source": [
    "labelprediction = test.map(lambda p:(p.label, float (model.predict(p.features))))\n",
    "accuracy = 1.0 * labelprediction.filter(lambda pl: pl[0] == pl[1]).count()/test.count()\n",
    "print('Model accuracy result is {}'.format(accuracy))"
   ]
  },
  {
   "cell_type": "code",
   "execution_count": null,
   "metadata": {},
   "outputs": [],
   "source": [
    "# Instantiate metrics object\n",
    "# https://spark.apache.org/docs/latest/mllib-evaluation-metrics.html\n",
    "metrics = BinaryClassificationMetrics(labelprediction)\n",
    "metrics1 = MulticlassMetrics(labelprediction)"
   ]
  },
  {
   "cell_type": "code",
   "execution_count": null,
   "metadata": {},
   "outputs": [],
   "source": [
    "# Area under precision-recall curve\n",
    "print(\"Area under PR = %s\" % metrics.areaUnderPR)\n",
    "\n",
    "# Area under ROC curve\n",
    "print(\"Area under ROC = %s\" % metrics.areaUnderROC)"
   ]
  },
  {
   "cell_type": "code",
   "execution_count": null,
   "metadata": {},
   "outputs": [],
   "source": [
    "# Confusion matrix\n",
    "print(\"Confusion matrix = %s\" % metrics1.confusionMatrix().toArray())"
   ]
  },
  {
   "cell_type": "code",
   "execution_count": null,
   "metadata": {},
   "outputs": [],
   "source": []
  },
  {
   "cell_type": "code",
   "execution_count": null,
   "metadata": {},
   "outputs": [],
   "source": []
  },
  {
   "cell_type": "code",
   "execution_count": null,
   "metadata": {},
   "outputs": [],
   "source": []
  }
 ],
 "metadata": {
  "kernelspec": {
   "display_name": "DS 5110",
   "language": "python",
   "name": "ds5110"
  },
  "language_info": {
   "codemirror_mode": {
    "name": "ipython",
    "version": 3
   },
   "file_extension": ".py",
   "mimetype": "text/x-python",
   "name": "python",
   "nbconvert_exporter": "python",
   "pygments_lexer": "ipython3",
   "version": "3.7.10"
  }
 },
 "nbformat": 4,
 "nbformat_minor": 4
}
